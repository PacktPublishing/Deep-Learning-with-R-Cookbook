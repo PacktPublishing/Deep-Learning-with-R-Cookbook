{
 "cells": [
  {
   "cell_type": "code",
   "execution_count": 1,
   "metadata": {},
   "outputs": [],
   "source": [
    "cran <- getOption(\"repos\")\n",
    "cran[\"dmlc\"] <- \"https://apache-mxnet.s3-accelerate.dualstack.amazonaws.com/R/CRAN/\"\n",
    "options(repos = cran)"
   ]
  },
  {
   "cell_type": "code",
   "execution_count": 4,
   "metadata": {},
   "outputs": [
    {
     "name": "stderr",
     "output_type": "stream",
     "text": [
      "Installing package into 'C:/Users/Beast/Documents/R/win-library/3.5'\n",
      "(as 'lib' is unspecified)\n"
     ]
    },
    {
     "name": "stdout",
     "output_type": "stream",
     "text": [
      "package 'mxnet' successfully unpacked and MD5 sums checked\n",
      "\n",
      "The downloaded binary packages are in\n",
      "\tC:\\Users\\Beast\\AppData\\Local\\Temp\\RtmpOWVnTm\\downloaded_packages\n"
     ]
    }
   ],
   "source": [
    "install.packages(\"mxnet\")"
   ]
  },
  {
   "cell_type": "code",
   "execution_count": 2,
   "metadata": {},
   "outputs": [
    {
     "name": "stderr",
     "output_type": "stream",
     "text": [
      "Installing package into 'C:/Users/Beast/Documents/R/win-library/3.5'\n",
      "(as 'lib' is unspecified)\n"
     ]
    }
   ],
   "source": [
    "cran <- getOption(\"repos\")\n",
    "cran[\"dmlc\"] <- \"https://apache-mxnet.s3-accelerate.dualstack.amazonaws.com/R/CRAN/GPU/cu100\"\n",
    "options(repos = cran)\n",
    "install.packages(\"mxnet\")"
   ]
  },
  {
   "cell_type": "code",
   "execution_count": null,
   "metadata": {},
   "outputs": [],
   "source": [
    "apt-get install -y build-essential git\n",
    "apt-get install -y libopenblas-dev liblapack-dev\n",
    "apt-get install -y libopencv-dev"
   ]
  },
  {
   "cell_type": "code",
   "execution_count": null,
   "metadata": {},
   "outputs": [],
   "source": [
    "git clone --recursive https://github.com/apache/incubator-mxnet\n",
    "cd incubator-mxnet"
   ]
  },
  {
   "cell_type": "code",
   "execution_count": null,
   "metadata": {},
   "outputs": [],
   "source": [
    "echo \"USE_OPENCV = 1\" >> ./config.mk\n",
    "echo \"USE_BLAS = openblas\" >> ./config.mk"
   ]
  },
  {
   "cell_type": "code",
   "execution_count": null,
   "metadata": {},
   "outputs": [],
   "source": [
    "make -j $(nproc)\n",
    "make rpkg"
   ]
  },
  {
   "cell_type": "code",
   "execution_count": null,
   "metadata": {},
   "outputs": [],
   "source": [
    "echo \"USE_CUDA=1\" >>config.mk\n",
    "echo \"USE_CUDA_PATH=/usr/local/cuda\" >>config.mk\n",
    "echo \"USE_CUDNN=1\" >>config.mk"
   ]
  }
 ],
 "metadata": {
  "kernelspec": {
   "display_name": "R",
   "language": "R",
   "name": "ir"
  },
  "language_info": {
   "codemirror_mode": "r",
   "file_extension": ".r",
   "mimetype": "text/x-r-source",
   "name": "R",
   "pygments_lexer": "r",
   "version": "3.6.0"
  }
 },
 "nbformat": 4,
 "nbformat_minor": 2
}
