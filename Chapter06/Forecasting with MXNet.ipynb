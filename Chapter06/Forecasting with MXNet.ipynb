{
 "cells": [
  {
   "cell_type": "code",
   "execution_count": 1,
   "metadata": {
    "scrolled": true
   },
   "outputs": [
    {
     "ename": "ERROR",
     "evalue": "Error in library(\"mxnet\"): there is no package called 'mxnet'\n",
     "output_type": "error",
     "traceback": [
      "Error in library(\"mxnet\"): there is no package called 'mxnet'\nTraceback:\n",
      "1. library(\"mxnet\")"
     ]
    }
   ],
   "source": [
    "library(\"mxnet\")\n",
    "sales_data <- read.table(\"data/shampoo_sales.txt\",sep = \",\",header = TRUE)\n",
    "\n",
    "# We require only one column from the dataset\n",
    "sales_data <- as.data.frame(sales_data[,2])"
   ]
  },
  {
   "cell_type": "code",
   "execution_count": null,
   "metadata": {},
   "outputs": [],
   "source": [
    "min_max_scaler <- function(x) {\n",
    "  (x - min(x))/(max(x) - min(x))\n",
    "}\n",
    "\n",
    "norm_sales_data <- min_max_scaler(sales_data)\n",
    "t_sales_data <- t(norm_sales_data)"
   ]
  },
  {
   "cell_type": "code",
   "execution_count": null,
   "metadata": {},
   "outputs": [],
   "source": [
    "n_dim <- 1\n",
    "seq_len <- 4\n",
    "num_samples <- 7\n",
    "\n",
    "# extract only required data from dataset\n",
    "x_data <- t_sales_data[1, 1:(seq_len * num_samples)]\n",
    "dim(x_data) <- c(n_dim, seq_len, num_samples)\n",
    "\n",
    "y_data <- t_sales_data[1, 2:(1+(seq_len * num_samples))]\n",
    "dim(y_data) <- c(seq_len, num_samples)"
   ]
  },
  {
   "cell_type": "code",
   "execution_count": null,
   "metadata": {},
   "outputs": [],
   "source": [
    "batch_size <- 3\n",
    "train_ids <- 1:4\n",
    "val_ids <- 5:6\n",
    "\n",
    "## create data iterators\n",
    "train_data <- mx.io.arrayiter(data = x_data[,,train_ids, drop = F],label = y_data[, train_ids], batch.size = batch_size,shuffle = TRUE)\n",
    "val_data <- mx.io.arrayiter(data = x_data[,,val_ids, drop = F], label = y_data[, val_ids], batch.size = batch_size, shuffle = FALSE)"
   ]
  },
  {
   "cell_type": "code",
   "execution_count": null,
   "metadata": {},
   "outputs": [],
   "source": [
    "symbol <- rnn.graph(num_rnn_layer = 2,\n",
    "                    num_hidden = 30,\n",
    "                    input_size = NULL,\n",
    "                    num_embed = NULL,\n",
    "                    num_decode = 1,\n",
    "                    masking = F, \n",
    "                    loss_output = \"linear\",\n",
    "                    ignore_label = -1, \n",
    "                    cell_type = \"lstm\", \n",
    "                    output_last_state = T,\n",
    "                    config = \"one-to-one\")"
   ]
  },
  {
   "cell_type": "code",
   "execution_count": null,
   "metadata": {},
   "outputs": [],
   "source": [
    "seq_metric_mse <- mx.metric.custom(\"MSE\", function(label, pred) {\n",
    "  label = mx.nd.reshape(label, shape = -1)\n",
    "  pred = mx.nd.reshape(pred, shape = -1)\n",
    "  res <- mx.nd.mean(mx.nd.square(label - pred))\n",
    "  return(as.array(res))\n",
    "})"
   ]
  },
  {
   "cell_type": "code",
   "execution_count": null,
   "metadata": {},
   "outputs": [],
   "source": [
    "ctx <- mx.cpu()\n",
    "initializer <- mx.init.Xavier(rnd_type = \"gaussian\",\n",
    "                              factor_type = \"avg\", \n",
    "                              magnitude = 1)\n",
    "optimizer <- mx.opt.create(\"adadelta\",\n",
    "                           rho = 0.9, \n",
    "                           eps = 1e-06, \n",
    "                           wd = 1e-06, \n",
    "                           clip_gradient = 1, \n",
    "                           rescale.grad = 1/batch_size)"
   ]
  },
  {
   "cell_type": "code",
   "execution_count": null,
   "metadata": {},
   "outputs": [],
   "source": [
    "model <- mx.model.buckets(symbol = symbol, \n",
    "                                      train.data = train_data, \n",
    "                                      eval.data = val_data,\n",
    "                                      num.round = 50, \n",
    "                                      ctx = ctx, \n",
    "                                      verbose = TRUE, \n",
    "                                      metric = seq_metric_mse, \n",
    "                                      initializer = initializer,\n",
    "                                      optimizer = optimizer)"
   ]
  },
  {
   "cell_type": "code",
   "execution_count": null,
   "metadata": {},
   "outputs": [],
   "source": [
    "internals <- model$symbol$get.internals()\n",
    "sym_state <- internals$get.output(which(internals$outputs %in% \"RNN_state\"))\n",
    "sym_state_cell <- internals$get.output(which(internals$outputs %in% \"RNN_state_cell\"))\n",
    "sym_output <- internals$get.output(which(internals$outputs %in% \"loss_output\"))\n",
    "symbol <- mx.symbol.Group(sym_output, sym_state, sym_state_cell)"
   ]
  },
  {
   "cell_type": "code",
   "execution_count": null,
   "metadata": {},
   "outputs": [],
   "source": [
    "data <- mx.nd.array(x_data[, , 6, drop = F])\n",
    "label <- mx.nd.array(y_data[, 6, drop = F])\n",
    "\n",
    "inference_data <- mx.io.arrayiter(data = data, \n",
    "                              label = label, \n",
    "                              batch.size = 1, \n",
    "                              shuffle = FALSE)\n",
    "infer <- mx.infer.rnn.one(infer.data = inference_data, \n",
    "                          symbol = symbol, \n",
    "                          arg.params = model$arg.params,\n",
    "                          aux.params = model$aux.params, \n",
    "                          input.params = NULL, \n",
    "                          ctx = ctx)"
   ]
  },
  {
   "cell_type": "code",
   "execution_count": null,
   "metadata": {},
   "outputs": [],
   "source": [
    "pred_length <- 3\n",
    "predicted <- numeric()"
   ]
  },
  {
   "cell_type": "code",
   "execution_count": 5,
   "metadata": {},
   "outputs": [
    {
     "ename": "ERROR",
     "evalue": "Error in eval(expr, envir, enclos): object 'pred_length' not found\n",
     "output_type": "error",
     "traceback": [
      "Error in eval(expr, envir, enclos): object 'pred_length' not found\nTraceback:\n"
     ]
    }
   ],
   "source": [
    "for (i in 1:pred_length) {\n",
    "  data <- mx.nd.array(x_data[, i, 7, drop = F])\n",
    "  label <- mx.nd.array(y_data[i, 7, drop = F])\n",
    "  infer.data <- mx.io.arrayiter(data = data, \n",
    "                                label = label, \n",
    "                                batch.size = 1, \n",
    "                                shuffle = FALSE)\n",
    "  ## use previous RNN state values\n",
    "  infer <- mx.infer.rnn.one(infer.data = infer.data,\n",
    "                            symbol = symbol,\n",
    "                            ctx = ctx, \n",
    "                            arg.params = model$arg.params,\n",
    "                            aux.params = model$aux.params, \n",
    "                            input.params = \n",
    "                              list(rnn.state=infer[[2]], \n",
    "                                   rnn.state.cell = infer[[3]]))\n",
    "  pred <- infer[[1]]\n",
    "  predicted <- c(predicted, as.numeric(as.array(pred)))\n",
    "}\n",
    "\n",
    "predicted"
   ]
  }
 ],
 "metadata": {
  "kernelspec": {
   "display_name": "R",
   "language": "R",
   "name": "ir"
  },
  "language_info": {
   "codemirror_mode": "r",
   "file_extension": ".r",
   "mimetype": "text/x-r-source",
   "name": "R",
   "pygments_lexer": "r",
   "version": "3.6.0"
  }
 },
 "nbformat": 4,
 "nbformat_minor": 2
}
