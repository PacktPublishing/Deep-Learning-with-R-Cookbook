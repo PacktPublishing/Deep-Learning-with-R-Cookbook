{
 "cells": [
  {
   "cell_type": "markdown",
   "metadata": {},
   "source": [
    "## Tensorflow Core API ##\n"
   ]
  },
  {
   "cell_type": "markdown",
   "metadata": {},
   "source": [
    "**Getting ready...**"
   ]
  },
  {
   "cell_type": "code",
   "execution_count": 1,
   "metadata": {},
   "outputs": [],
   "source": [
    "# install tensorflow R package\n",
    "install.packages(\"tensorflow\")"
   ]
  },
  {
   "cell_type": "code",
   "execution_count": 2,
   "metadata": {},
   "outputs": [],
   "source": [
    "library(tensorflow)"
   ]
  },
  {
   "cell_type": "code",
   "execution_count": 3,
   "metadata": {},
   "outputs": [],
   "source": [
    "# Install TensorFlow and its dependencies.This will provide a default installation of TensorFlow suitable for use with the tensorflow R package.\n",
    "install_tensorflow()"
   ]
  },
  {
   "cell_type": "markdown",
   "metadata": {},
   "source": [
    "**How to do it..**"
   ]
  },
  {
   "cell_type": "code",
   "execution_count": 4,
   "metadata": {},
   "outputs": [
    {
     "name": "stdout",
     "output_type": "stream",
     "text": [
      "20 - 0.02961582 0.477668 \n",
      "40 - 0.002623167 0.4924422 \n",
      "60 - -0.004212872 0.4961839 \n",
      "80 - -0.005944134 0.4971315 \n",
      "100 - -0.006382558 0.4973714 \n",
      "120 - -0.006493592 0.4974322 \n",
      "140 - -0.006521734 0.4974476 \n",
      "160 - -0.006528848 0.4974515 \n",
      "180 - -0.00653068 0.4974525 \n",
      "200 - -0.006531124 0.4974528 \n"
     ]
    }
   ],
   "source": [
    "x_data = matrix(runif(1000*2),nrow = 1000,ncol = 1)\n",
    "y_data = matrix(runif(1000),nrow = 1000,ncol = 1)\n",
    "\n",
    "# Creating TF variables and define model\n",
    "W <- tf$Variable(tf$random_uniform(shape(1L), -1.0, 1.0))\n",
    "b <- tf$Variable(tf$zeros(shape(1L)))\n",
    "y_hat <- W * x_data + b\n",
    "\n",
    "# Define loss finction and Minimize mean squared errors.\n",
    "loss <- tf$reduce_mean((y_hat - y_data) ^ 2)\n",
    "optimizer <- tf$train$GradientDescentOptimizer(0.5)\n",
    "train <- optimizer$minimize(loss)\n",
    "\n",
    "# Launch graph and initialize the variables.\n",
    "sess = tf$Session()\n",
    "sess$run(tf$global_variables_initializer())\n",
    "\n",
    "# Train the model\n",
    "for (step in 1:201) {\n",
    "  sess$run(train)\n",
    "  if (step %% 20 == 0)\n",
    "    cat(step, \"-\", sess$run(W), sess$run(b), \"\\n\")\n",
    "}\n",
    "\n",
    "sess$close()"
   ]
  }
 ],
 "metadata": {
  "kernelspec": {
   "display_name": "R",
   "language": "R",
   "name": "ir"
  },
  "language_info": {
   "codemirror_mode": "r",
   "file_extension": ".r",
   "mimetype": "text/x-r-source",
   "name": "R",
   "pygments_lexer": "r",
   "version": "3.6.1"
  }
 },
 "nbformat": 4,
 "nbformat_minor": 2
}
