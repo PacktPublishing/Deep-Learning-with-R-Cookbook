{
 "cells": [
  {
   "cell_type": "markdown",
   "metadata": {},
   "source": [
    "# Tensorflow Estimator API ##\n"
   ]
  },
  {
   "cell_type": "markdown",
   "metadata": {},
   "source": [
    "**Getting ready...**"
   ]
  },
  {
   "cell_type": "code",
   "execution_count": null,
   "metadata": {},
   "outputs": [],
   "source": [
    "install.packages(\"tfestimators\")"
   ]
  },
  {
   "cell_type": "code",
   "execution_count": 17,
   "metadata": {},
   "outputs": [],
   "source": [
    "library(tfestimators)"
   ]
  },
  {
   "cell_type": "code",
   "execution_count": 26,
   "metadata": {},
   "outputs": [],
   "source": [
    "# training data\n",
    "x_data_df <- as.data.frame( matrix(rnorm(1000*784), nrow = 1000, ncol = 784))\n",
    "y_data_df <- as.data.frame(matrix(rnorm(1000), nrow = 1000, ncol = 1))"
   ]
  },
  {
   "cell_type": "code",
   "execution_count": null,
   "metadata": {},
   "outputs": [],
   "source": [
    "colnames(y_data_df)<- c(\"target\")"
   ]
  },
  {
   "cell_type": "code",
   "execution_count": 27,
   "metadata": {},
   "outputs": [],
   "source": [
    "dummy_data_estimator <- cbind(x_data_df,y_data_df)"
   ]
  },
  {
   "cell_type": "markdown",
   "metadata": {},
   "source": [
    "**How to do it...**"
   ]
  },
  {
   "cell_type": "code",
   "execution_count": 28,
   "metadata": {},
   "outputs": [],
   "source": [
    "# feature columns\n",
    "features_set <- setdiff(names(dummy_data_estimator), \"target\")"
   ]
  },
  {
   "cell_type": "code",
   "execution_count": 1,
   "metadata": {},
   "outputs": [],
   "source": [
    "# construct feature columns\n",
    "feature_cols <- feature_columns(\n",
    "     column_numeric(features_set)\n",
    ")"
   ]
  },
  {
   "cell_type": "code",
   "execution_count": 30,
   "metadata": {},
   "outputs": [],
   "source": [
    "# construct input function \n",
    "estimator_input_fn <- function(data_,num_epochs = 1) {\n",
    "  input_fn(data_, features = features_set, response = \"target\",num_epochs = num_epochs )\n",
    "}"
   ]
  },
  {
   "cell_type": "code",
   "execution_count": 24,
   "metadata": {},
   "outputs": [],
   "source": [
    "# construct classifier\n",
    "regressor <- dnn_regressor(\n",
    "    feature_columns = feature_cols,\n",
    "    hidden_units = c(5, 10, 8),\n",
    "    label_dimension = 1L,\n",
    "    activation_fn = \"relu\"\n",
    ")"
   ]
  },
  {
   "cell_type": "code",
   "execution_count": 26,
   "metadata": {
    "scrolled": false
   },
   "outputs": [
    {
     "name": "stderr",
     "output_type": "stream",
     "text": [
      "[/] Training -- loss: 101.87, step: 8"
     ]
    }
   ],
   "source": [
    "# train classifier with training dataset\n",
    "train(regressor, input_fn = estimator_input_fn(data_ = dummy_data_estimator))"
   ]
  },
  {
   "cell_type": "code",
   "execution_count": 27,
   "metadata": {},
   "outputs": [],
   "source": [
    "# test data\n",
    "x_data_test_df <- as.data.frame( matrix(rnorm(100*784), nrow = 100, ncol = 784))\n",
    "y_data_test_df <- as.data.frame(matrix(rnorm(100), nrow = 100, ncol = 1))"
   ]
  },
  {
   "cell_type": "code",
   "execution_count": null,
   "metadata": {},
   "outputs": [],
   "source": [
    "colnames(y_data_test_df)<- c(\"target\")"
   ]
  },
  {
   "cell_type": "code",
   "execution_count": 28,
   "metadata": {},
   "outputs": [],
   "source": [
    "dummy_data_test_df <- cbind(x_data_test_df,y_data_test_df)"
   ]
  },
  {
   "cell_type": "code",
   "execution_count": 29,
   "metadata": {},
   "outputs": [],
   "source": [
    "# predict with test dataset\n",
    "predictions <- predict(regressor, input_fn = estimator_input_fn(dummy_data_test_df), predict_keys = c(\"predictions\"))"
   ]
  },
  {
   "cell_type": "code",
   "execution_count": 30,
   "metadata": {},
   "outputs": [
    {
     "name": "stderr",
     "output_type": "stream",
     "text": [
      "[-] Evaluating -- loss: 81.43, step: 1"
     ]
    }
   ],
   "source": [
    "# evaluate with test dataset\n",
    "evaluation <- evaluate(regressor, input_fn = estimator_input_fn(dummy_data_test_df))"
   ]
  },
  {
   "cell_type": "code",
   "execution_count": 31,
   "metadata": {},
   "outputs": [
    {
     "data": {
      "text/html": [
       "<table>\n",
       "<thead><tr><th scope=col>average_loss</th><th scope=col>label/mean</th><th scope=col>loss</th><th scope=col>prediction/mean</th><th scope=col>global_step</th></tr></thead>\n",
       "<tbody>\n",
       "\t<tr><td>0.8143262  </td><td>-0.03198799</td><td>81.43262   </td><td>0.03822647 </td><td>8          </td></tr>\n",
       "</tbody>\n",
       "</table>\n"
      ],
      "text/latex": [
       "\\begin{tabular}{r|lllll}\n",
       " average\\_loss & label/mean & loss & prediction/mean & global\\_step\\\\\n",
       "\\hline\n",
       "\t 0.8143262   & -0.03198799 & 81.43262    & 0.03822647  & 8          \\\\\n",
       "\\end{tabular}\n"
      ],
      "text/markdown": [
       "\n",
       "average_loss | label/mean | loss | prediction/mean | global_step | \n",
       "|---|\n",
       "| 0.8143262   | -0.03198799 | 81.43262    | 0.03822647  | 8           | \n",
       "\n",
       "\n"
      ],
      "text/plain": [
       "  average_loss label/mean  loss     prediction/mean global_step\n",
       "1 0.8143262    -0.03198799 81.43262 0.03822647      8          "
      ]
     },
     "metadata": {},
     "output_type": "display_data"
    }
   ],
   "source": [
    "evaluation"
   ]
  },
  {
   "cell_type": "markdown",
   "metadata": {},
   "source": [
    "**There is more...**"
   ]
  },
  {
   "cell_type": "code",
   "execution_count": null,
   "metadata": {},
   "outputs": [],
   "source": [
    "training_history <- train(regressor,\n",
    "                         input_fn = estimator_input_fn(data_ = dummy_data_estimator),\n",
    "                         hooks = list(hook_history_saver(every_n_step = 2))\n",
    "                        )"
   ]
  }
 ],
 "metadata": {
  "kernelspec": {
   "display_name": "R",
   "language": "R",
   "name": "ir"
  },
  "language_info": {
   "codemirror_mode": "r",
   "file_extension": ".r",
   "mimetype": "text/x-r-source",
   "name": "R",
   "pygments_lexer": "r",
   "version": "3.6.1"
  }
 },
 "nbformat": 4,
 "nbformat_minor": 2
}
