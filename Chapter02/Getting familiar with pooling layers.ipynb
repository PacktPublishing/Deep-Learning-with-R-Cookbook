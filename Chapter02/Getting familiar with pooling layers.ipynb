{
 "cells": [
  {
   "cell_type": "code",
   "execution_count": 2,
   "metadata": {},
   "outputs": [],
   "source": [
    "library(keras)"
   ]
  },
  {
   "cell_type": "code",
   "execution_count": 2,
   "metadata": {},
   "outputs": [],
   "source": [
    "# path to train and test directories\n",
    "train_path <- \"fruits/train/\"\n",
    "test_path <- \"fruits/test/\""
   ]
  },
  {
   "cell_type": "code",
   "execution_count": 3,
   "metadata": {},
   "outputs": [],
   "source": [
    "class_label <- list.dirs(path = train_path, full.names = FALSE, recursive = TRUE)[-1]"
   ]
  },
  {
   "cell_type": "code",
   "execution_count": 4,
   "metadata": {},
   "outputs": [
    {
     "data": {
      "text/html": [
       "<ol class=list-inline>\n",
       "\t<li>'Apricot'</li>\n",
       "\t<li>'Avocado'</li>\n",
       "\t<li>'Banana'</li>\n",
       "\t<li>'Cactus fruit'</li>\n",
       "\t<li>'Cherry Wax Red'</li>\n",
       "\t<li>'Chestnut'</li>\n",
       "\t<li>'Dates'</li>\n",
       "\t<li>'Guava'</li>\n",
       "\t<li>'Kiwi'</li>\n",
       "\t<li>'Lemon'</li>\n",
       "\t<li>'Lychee'</li>\n",
       "\t<li>'Mango'</li>\n",
       "\t<li>'Orange'</li>\n",
       "\t<li>'Papaya'</li>\n",
       "\t<li>'Peach'</li>\n",
       "\t<li>'Pear'</li>\n",
       "\t<li>'Physalis with Husk'</li>\n",
       "\t<li>'Pineapple'</li>\n",
       "\t<li>'Pomegranate'</li>\n",
       "\t<li>'Raspberry'</li>\n",
       "\t<li>'Strawberry'</li>\n",
       "\t<li>'Tomato Cherry Red'</li>\n",
       "\t<li>'Walnut'</li>\n",
       "</ol>\n"
      ],
      "text/latex": [
       "\\begin{enumerate*}\n",
       "\\item 'Apricot'\n",
       "\\item 'Avocado'\n",
       "\\item 'Banana'\n",
       "\\item 'Cactus fruit'\n",
       "\\item 'Cherry Wax Red'\n",
       "\\item 'Chestnut'\n",
       "\\item 'Dates'\n",
       "\\item 'Guava'\n",
       "\\item 'Kiwi'\n",
       "\\item 'Lemon'\n",
       "\\item 'Lychee'\n",
       "\\item 'Mango'\n",
       "\\item 'Orange'\n",
       "\\item 'Papaya'\n",
       "\\item 'Peach'\n",
       "\\item 'Pear'\n",
       "\\item 'Physalis with Husk'\n",
       "\\item 'Pineapple'\n",
       "\\item 'Pomegranate'\n",
       "\\item 'Raspberry'\n",
       "\\item 'Strawberry'\n",
       "\\item 'Tomato Cherry Red'\n",
       "\\item 'Walnut'\n",
       "\\end{enumerate*}\n"
      ],
      "text/markdown": [
       "1. 'Apricot'\n",
       "2. 'Avocado'\n",
       "3. 'Banana'\n",
       "4. 'Cactus fruit'\n",
       "5. 'Cherry Wax Red'\n",
       "6. 'Chestnut'\n",
       "7. 'Dates'\n",
       "8. 'Guava'\n",
       "9. 'Kiwi'\n",
       "10. 'Lemon'\n",
       "11. 'Lychee'\n",
       "12. 'Mango'\n",
       "13. 'Orange'\n",
       "14. 'Papaya'\n",
       "15. 'Peach'\n",
       "16. 'Pear'\n",
       "17. 'Physalis with Husk'\n",
       "18. 'Pineapple'\n",
       "19. 'Pomegranate'\n",
       "20. 'Raspberry'\n",
       "21. 'Strawberry'\n",
       "22. 'Tomato Cherry Red'\n",
       "23. 'Walnut'\n",
       "\n",
       "\n"
      ],
      "text/plain": [
       " [1] \"Apricot\"            \"Avocado\"            \"Banana\"            \n",
       " [4] \"Cactus fruit\"       \"Cherry Wax Red\"     \"Chestnut\"          \n",
       " [7] \"Dates\"              \"Guava\"              \"Kiwi\"              \n",
       "[10] \"Lemon\"              \"Lychee\"             \"Mango\"             \n",
       "[13] \"Orange\"             \"Papaya\"             \"Peach\"             \n",
       "[16] \"Pear\"               \"Physalis with Husk\" \"Pineapple\"         \n",
       "[19] \"Pomegranate\"        \"Raspberry\"          \"Strawberry\"        \n",
       "[22] \"Tomato Cherry Red\"  \"Walnut\"            "
      ]
     },
     "metadata": {},
     "output_type": "display_data"
    }
   ],
   "source": [
    "class_label"
   ]
  },
  {
   "cell_type": "code",
   "execution_count": 5,
   "metadata": {},
   "outputs": [
    {
     "data": {
      "text/html": [
       "23"
      ],
      "text/latex": [
       "23"
      ],
      "text/markdown": [
       "23"
      ],
      "text/plain": [
       "[1] 23"
      ]
     },
     "metadata": {},
     "output_type": "display_data"
    }
   ],
   "source": [
    "length(class_label)"
   ]
  },
  {
   "cell_type": "code",
   "execution_count": 4,
   "metadata": {},
   "outputs": [],
   "source": [
    "img_width = 20\n",
    "img_height = 20\n",
    "img_size = c(img_width,img_height)"
   ]
  },
  {
   "cell_type": "code",
   "execution_count": 7,
   "metadata": {},
   "outputs": [],
   "source": [
    "## read from train path\n",
    "train_data <- flow_images_from_directory(directory = train_path,\n",
    "                                         target_size = img_size,\n",
    "                                         color_mode = \"rgb\",\n",
    "                                         class_mode = \"categorical\",\n",
    "                                         classes = class_label,\n",
    "                                         batch_size = 20)"
   ]
  },
  {
   "cell_type": "code",
   "execution_count": 24,
   "metadata": {},
   "outputs": [],
   "source": [
    "# read from test path\n",
    "test_data <- flow_images_from_directory(directory = test_path,\n",
    "                                        target_size = img_size,\n",
    "                                        color_mode = \"rgb\",\n",
    "                                        class_mode = \"categorical\",\n",
    "                                        classes = class_label,\n",
    "                                        batch_size = 20)"
   ]
  },
  {
   "cell_type": "code",
   "execution_count": 25,
   "metadata": {},
   "outputs": [
    {
     "data": {
      "text/html": [
       "<ol class=list-inline>\n",
       "\t<li>'python.builtin.iterator'</li>\n",
       "\t<li>'keras_preprocessing.image.directory_iterator.DirectoryIterator'</li>\n",
       "\t<li>'keras_preprocessing.image.iterator.BatchFromFilesMixin'</li>\n",
       "\t<li>'keras_preprocessing.image.iterator.Iterator'</li>\n",
       "\t<li>'keras.utils.data_utils.Sequence'</li>\n",
       "\t<li>'python.builtin.object'</li>\n",
       "</ol>\n"
      ],
      "text/latex": [
       "\\begin{enumerate*}\n",
       "\\item 'python.builtin.iterator'\n",
       "\\item 'keras\\_preprocessing.image.directory\\_iterator.DirectoryIterator'\n",
       "\\item 'keras\\_preprocessing.image.iterator.BatchFromFilesMixin'\n",
       "\\item 'keras\\_preprocessing.image.iterator.Iterator'\n",
       "\\item 'keras.utils.data\\_utils.Sequence'\n",
       "\\item 'python.builtin.object'\n",
       "\\end{enumerate*}\n"
      ],
      "text/markdown": [
       "1. 'python.builtin.iterator'\n",
       "2. 'keras_preprocessing.image.directory_iterator.DirectoryIterator'\n",
       "3. 'keras_preprocessing.image.iterator.BatchFromFilesMixin'\n",
       "4. 'keras_preprocessing.image.iterator.Iterator'\n",
       "5. 'keras.utils.data_utils.Sequence'\n",
       "6. 'python.builtin.object'\n",
       "\n",
       "\n"
      ],
      "text/plain": [
       "[1] \"python.builtin.iterator\"                                       \n",
       "[2] \"keras_preprocessing.image.directory_iterator.DirectoryIterator\"\n",
       "[3] \"keras_preprocessing.image.iterator.BatchFromFilesMixin\"        \n",
       "[4] \"keras_preprocessing.image.iterator.Iterator\"                   \n",
       "[5] \"keras.utils.data_utils.Sequence\"                               \n",
       "[6] \"python.builtin.object\"                                         "
      ]
     },
     "metadata": {},
     "output_type": "display_data"
    }
   ],
   "source": [
    "class(train_data)"
   ]
  },
  {
   "cell_type": "code",
   "execution_count": 10,
   "metadata": {},
   "outputs": [
    {
     "name": "stdout",
     "output_type": "stream",
     "text": [
      "[1] \"Number of images in train and test is 11397 and  3829 repectively\"\n"
     ]
    }
   ],
   "source": [
    "print(paste(\"Number of images in train and test is\",train_data$n,\"and \",test_data$n,\"repectively\"))"
   ]
  },
  {
   "cell_type": "code",
   "execution_count": 11,
   "metadata": {
    "scrolled": true
   },
   "outputs": [
    {
     "data": {
      "text/plain": [
       "\n",
       "  0   1   2   3   4   5   6   7   8   9  10  11  12  13  14  15  16  17  18  19 \n",
       "492 427 490 490 492 450 490 490 466 492 490 490 479 492 492 492 492 490 492 490 \n",
       " 20  21  22 \n",
       "492 492 735 "
      ]
     },
     "metadata": {},
     "output_type": "display_data"
    }
   ],
   "source": [
    "table(factor(train_data$classes))"
   ]
  },
  {
   "cell_type": "code",
   "execution_count": 12,
   "metadata": {},
   "outputs": [
    {
     "data": {
      "text/plain": [
       "\n",
       "  0   1   2   3   4   5   6   7   8   9  10  11  12  13  14  15  16  17  18  19 \n",
       "164 143 166 166 164 153 166 166 156 164 166 166 160 164 164 164 164 166 164 166 \n",
       " 20  21  22 \n",
       "164 164 249 "
      ]
     },
     "metadata": {},
     "output_type": "display_data"
    }
   ],
   "source": [
    "table(factor(test_data$classes))\n"
   ]
  },
  {
   "cell_type": "markdown",
   "metadata": {},
   "source": [
    "Notice that class labels are numeric let us look at the mapping of class label and class label names"
   ]
  },
  {
   "cell_type": "code",
   "execution_count": 13,
   "metadata": {
    "scrolled": false
   },
   "outputs": [
    {
     "data": {
      "text/html": [
       "<dl>\n",
       "\t<dt>$Apricot</dt>\n",
       "\t\t<dd>0</dd>\n",
       "\t<dt>$Avocado</dt>\n",
       "\t\t<dd>1</dd>\n",
       "\t<dt>$Banana</dt>\n",
       "\t\t<dd>2</dd>\n",
       "\t<dt>$`Cactus fruit`</dt>\n",
       "\t\t<dd>3</dd>\n",
       "\t<dt>$`Cherry Wax Red`</dt>\n",
       "\t\t<dd>4</dd>\n",
       "\t<dt>$Chestnut</dt>\n",
       "\t\t<dd>5</dd>\n",
       "\t<dt>$Dates</dt>\n",
       "\t\t<dd>6</dd>\n",
       "\t<dt>$Guava</dt>\n",
       "\t\t<dd>7</dd>\n",
       "\t<dt>$Kiwi</dt>\n",
       "\t\t<dd>8</dd>\n",
       "\t<dt>$Lemon</dt>\n",
       "\t\t<dd>9</dd>\n",
       "\t<dt>$Lychee</dt>\n",
       "\t\t<dd>10</dd>\n",
       "\t<dt>$Mango</dt>\n",
       "\t\t<dd>11</dd>\n",
       "\t<dt>$Orange</dt>\n",
       "\t\t<dd>12</dd>\n",
       "\t<dt>$Papaya</dt>\n",
       "\t\t<dd>13</dd>\n",
       "\t<dt>$Peach</dt>\n",
       "\t\t<dd>14</dd>\n",
       "\t<dt>$Pear</dt>\n",
       "\t\t<dd>15</dd>\n",
       "\t<dt>$`Physalis with Husk`</dt>\n",
       "\t\t<dd>16</dd>\n",
       "\t<dt>$Pineapple</dt>\n",
       "\t\t<dd>17</dd>\n",
       "\t<dt>$Pomegranate</dt>\n",
       "\t\t<dd>18</dd>\n",
       "\t<dt>$Raspberry</dt>\n",
       "\t\t<dd>19</dd>\n",
       "\t<dt>$Strawberry</dt>\n",
       "\t\t<dd>20</dd>\n",
       "\t<dt>$`Tomato Cherry Red`</dt>\n",
       "\t\t<dd>21</dd>\n",
       "\t<dt>$Walnut</dt>\n",
       "\t\t<dd>22</dd>\n",
       "</dl>\n"
      ],
      "text/latex": [
       "\\begin{description}\n",
       "\\item[\\$Apricot] 0\n",
       "\\item[\\$Avocado] 1\n",
       "\\item[\\$Banana] 2\n",
       "\\item[\\$`Cactus fruit`] 3\n",
       "\\item[\\$`Cherry Wax Red`] 4\n",
       "\\item[\\$Chestnut] 5\n",
       "\\item[\\$Dates] 6\n",
       "\\item[\\$Guava] 7\n",
       "\\item[\\$Kiwi] 8\n",
       "\\item[\\$Lemon] 9\n",
       "\\item[\\$Lychee] 10\n",
       "\\item[\\$Mango] 11\n",
       "\\item[\\$Orange] 12\n",
       "\\item[\\$Papaya] 13\n",
       "\\item[\\$Peach] 14\n",
       "\\item[\\$Pear] 15\n",
       "\\item[\\$`Physalis with Husk`] 16\n",
       "\\item[\\$Pineapple] 17\n",
       "\\item[\\$Pomegranate] 18\n",
       "\\item[\\$Raspberry] 19\n",
       "\\item[\\$Strawberry] 20\n",
       "\\item[\\$`Tomato Cherry Red`] 21\n",
       "\\item[\\$Walnut] 22\n",
       "\\end{description}\n"
      ],
      "text/markdown": [
       "$Apricot\n",
       ":   0\n",
       "$Avocado\n",
       ":   1\n",
       "$Banana\n",
       ":   2\n",
       "$`Cactus fruit`\n",
       ":   3\n",
       "$`Cherry Wax Red`\n",
       ":   4\n",
       "$Chestnut\n",
       ":   5\n",
       "$Dates\n",
       ":   6\n",
       "$Guava\n",
       ":   7\n",
       "$Kiwi\n",
       ":   8\n",
       "$Lemon\n",
       ":   9\n",
       "$Lychee\n",
       ":   10\n",
       "$Mango\n",
       ":   11\n",
       "$Orange\n",
       ":   12\n",
       "$Papaya\n",
       ":   13\n",
       "$Peach\n",
       ":   14\n",
       "$Pear\n",
       ":   15\n",
       "$`Physalis with Husk`\n",
       ":   16\n",
       "$Pineapple\n",
       ":   17\n",
       "$Pomegranate\n",
       ":   18\n",
       "$Raspberry\n",
       ":   19\n",
       "$Strawberry\n",
       ":   20\n",
       "$`Tomato Cherry Red`\n",
       ":   21\n",
       "$Walnut\n",
       ":   22\n",
       "\n",
       "\n"
      ],
      "text/plain": [
       "$Apricot\n",
       "[1] 0\n",
       "\n",
       "$Avocado\n",
       "[1] 1\n",
       "\n",
       "$Banana\n",
       "[1] 2\n",
       "\n",
       "$`Cactus fruit`\n",
       "[1] 3\n",
       "\n",
       "$`Cherry Wax Red`\n",
       "[1] 4\n",
       "\n",
       "$Chestnut\n",
       "[1] 5\n",
       "\n",
       "$Dates\n",
       "[1] 6\n",
       "\n",
       "$Guava\n",
       "[1] 7\n",
       "\n",
       "$Kiwi\n",
       "[1] 8\n",
       "\n",
       "$Lemon\n",
       "[1] 9\n",
       "\n",
       "$Lychee\n",
       "[1] 10\n",
       "\n",
       "$Mango\n",
       "[1] 11\n",
       "\n",
       "$Orange\n",
       "[1] 12\n",
       "\n",
       "$Papaya\n",
       "[1] 13\n",
       "\n",
       "$Peach\n",
       "[1] 14\n",
       "\n",
       "$Pear\n",
       "[1] 15\n",
       "\n",
       "$`Physalis with Husk`\n",
       "[1] 16\n",
       "\n",
       "$Pineapple\n",
       "[1] 17\n",
       "\n",
       "$Pomegranate\n",
       "[1] 18\n",
       "\n",
       "$Raspberry\n",
       "[1] 19\n",
       "\n",
       "$Strawberry\n",
       "[1] 20\n",
       "\n",
       "$`Tomato Cherry Red`\n",
       "[1] 21\n",
       "\n",
       "$Walnut\n",
       "[1] 22\n"
      ]
     },
     "metadata": {},
     "output_type": "display_data"
    }
   ],
   "source": [
    "test_data$class_indices"
   ]
  },
  {
   "cell_type": "code",
   "execution_count": 14,
   "metadata": {},
   "outputs": [
    {
     "data": {
      "text/html": [
       "<dl>\n",
       "\t<dt>$Apricot</dt>\n",
       "\t\t<dd>0</dd>\n",
       "\t<dt>$Avocado</dt>\n",
       "\t\t<dd>1</dd>\n",
       "\t<dt>$Banana</dt>\n",
       "\t\t<dd>2</dd>\n",
       "\t<dt>$`Cactus fruit`</dt>\n",
       "\t\t<dd>3</dd>\n",
       "\t<dt>$`Cherry Wax Red`</dt>\n",
       "\t\t<dd>4</dd>\n",
       "\t<dt>$Chestnut</dt>\n",
       "\t\t<dd>5</dd>\n",
       "\t<dt>$Dates</dt>\n",
       "\t\t<dd>6</dd>\n",
       "\t<dt>$Guava</dt>\n",
       "\t\t<dd>7</dd>\n",
       "\t<dt>$Kiwi</dt>\n",
       "\t\t<dd>8</dd>\n",
       "\t<dt>$Lemon</dt>\n",
       "\t\t<dd>9</dd>\n",
       "\t<dt>$Lychee</dt>\n",
       "\t\t<dd>10</dd>\n",
       "\t<dt>$Mango</dt>\n",
       "\t\t<dd>11</dd>\n",
       "\t<dt>$Orange</dt>\n",
       "\t\t<dd>12</dd>\n",
       "\t<dt>$Papaya</dt>\n",
       "\t\t<dd>13</dd>\n",
       "\t<dt>$Peach</dt>\n",
       "\t\t<dd>14</dd>\n",
       "\t<dt>$Pear</dt>\n",
       "\t\t<dd>15</dd>\n",
       "\t<dt>$`Physalis with Husk`</dt>\n",
       "\t\t<dd>16</dd>\n",
       "\t<dt>$Pineapple</dt>\n",
       "\t\t<dd>17</dd>\n",
       "\t<dt>$Pomegranate</dt>\n",
       "\t\t<dd>18</dd>\n",
       "\t<dt>$Raspberry</dt>\n",
       "\t\t<dd>19</dd>\n",
       "\t<dt>$Strawberry</dt>\n",
       "\t\t<dd>20</dd>\n",
       "\t<dt>$`Tomato Cherry Red`</dt>\n",
       "\t\t<dd>21</dd>\n",
       "\t<dt>$Walnut</dt>\n",
       "\t\t<dd>22</dd>\n",
       "</dl>\n"
      ],
      "text/latex": [
       "\\begin{description}\n",
       "\\item[\\$Apricot] 0\n",
       "\\item[\\$Avocado] 1\n",
       "\\item[\\$Banana] 2\n",
       "\\item[\\$`Cactus fruit`] 3\n",
       "\\item[\\$`Cherry Wax Red`] 4\n",
       "\\item[\\$Chestnut] 5\n",
       "\\item[\\$Dates] 6\n",
       "\\item[\\$Guava] 7\n",
       "\\item[\\$Kiwi] 8\n",
       "\\item[\\$Lemon] 9\n",
       "\\item[\\$Lychee] 10\n",
       "\\item[\\$Mango] 11\n",
       "\\item[\\$Orange] 12\n",
       "\\item[\\$Papaya] 13\n",
       "\\item[\\$Peach] 14\n",
       "\\item[\\$Pear] 15\n",
       "\\item[\\$`Physalis with Husk`] 16\n",
       "\\item[\\$Pineapple] 17\n",
       "\\item[\\$Pomegranate] 18\n",
       "\\item[\\$Raspberry] 19\n",
       "\\item[\\$Strawberry] 20\n",
       "\\item[\\$`Tomato Cherry Red`] 21\n",
       "\\item[\\$Walnut] 22\n",
       "\\end{description}\n"
      ],
      "text/markdown": [
       "$Apricot\n",
       ":   0\n",
       "$Avocado\n",
       ":   1\n",
       "$Banana\n",
       ":   2\n",
       "$`Cactus fruit`\n",
       ":   3\n",
       "$`Cherry Wax Red`\n",
       ":   4\n",
       "$Chestnut\n",
       ":   5\n",
       "$Dates\n",
       ":   6\n",
       "$Guava\n",
       ":   7\n",
       "$Kiwi\n",
       ":   8\n",
       "$Lemon\n",
       ":   9\n",
       "$Lychee\n",
       ":   10\n",
       "$Mango\n",
       ":   11\n",
       "$Orange\n",
       ":   12\n",
       "$Papaya\n",
       ":   13\n",
       "$Peach\n",
       ":   14\n",
       "$Pear\n",
       ":   15\n",
       "$`Physalis with Husk`\n",
       ":   16\n",
       "$Pineapple\n",
       ":   17\n",
       "$Pomegranate\n",
       ":   18\n",
       "$Raspberry\n",
       ":   19\n",
       "$Strawberry\n",
       ":   20\n",
       "$`Tomato Cherry Red`\n",
       ":   21\n",
       "$Walnut\n",
       ":   22\n",
       "\n",
       "\n"
      ],
      "text/plain": [
       "$Apricot\n",
       "[1] 0\n",
       "\n",
       "$Avocado\n",
       "[1] 1\n",
       "\n",
       "$Banana\n",
       "[1] 2\n",
       "\n",
       "$`Cactus fruit`\n",
       "[1] 3\n",
       "\n",
       "$`Cherry Wax Red`\n",
       "[1] 4\n",
       "\n",
       "$Chestnut\n",
       "[1] 5\n",
       "\n",
       "$Dates\n",
       "[1] 6\n",
       "\n",
       "$Guava\n",
       "[1] 7\n",
       "\n",
       "$Kiwi\n",
       "[1] 8\n",
       "\n",
       "$Lemon\n",
       "[1] 9\n",
       "\n",
       "$Lychee\n",
       "[1] 10\n",
       "\n",
       "$Mango\n",
       "[1] 11\n",
       "\n",
       "$Orange\n",
       "[1] 12\n",
       "\n",
       "$Papaya\n",
       "[1] 13\n",
       "\n",
       "$Peach\n",
       "[1] 14\n",
       "\n",
       "$Pear\n",
       "[1] 15\n",
       "\n",
       "$`Physalis with Husk`\n",
       "[1] 16\n",
       "\n",
       "$Pineapple\n",
       "[1] 17\n",
       "\n",
       "$Pomegranate\n",
       "[1] 18\n",
       "\n",
       "$Raspberry\n",
       "[1] 19\n",
       "\n",
       "$Strawberry\n",
       "[1] 20\n",
       "\n",
       "$`Tomato Cherry Red`\n",
       "[1] 21\n",
       "\n",
       "$Walnut\n",
       "[1] 22\n"
      ]
     },
     "metadata": {},
     "output_type": "display_data"
    }
   ],
   "source": [
    "train_data$class_indices"
   ]
  },
  {
   "cell_type": "code",
   "execution_count": 15,
   "metadata": {
    "scrolled": true
   },
   "outputs": [
    {
     "data": {
      "text/html": [
       "<ol>\n",
       "\t<li>20</li>\n",
       "\t<li>20</li>\n",
       "\t<li>3</li>\n",
       "</ol>\n"
      ],
      "text/latex": [
       "\\begin{enumerate}\n",
       "\\item 20\n",
       "\\item 20\n",
       "\\item 3\n",
       "\\end{enumerate}\n"
      ],
      "text/markdown": [
       "1. 20\n",
       "2. 20\n",
       "3. 3\n",
       "\n",
       "\n"
      ],
      "text/plain": [
       "[[1]]\n",
       "[1] 20\n",
       "\n",
       "[[2]]\n",
       "[1] 20\n",
       "\n",
       "[[3]]\n",
       "[1] 3\n"
      ]
     },
     "metadata": {},
     "output_type": "display_data"
    }
   ],
   "source": [
    "train_data$image_shape"
   ]
  },
  {
   "cell_type": "code",
   "execution_count": 16,
   "metadata": {},
   "outputs": [],
   "source": [
    "cnn_model_pool <- keras_model_sequential() %>% \n",
    "    layer_conv_2d(filters = 32, kernel_size = c(3,3), activation = 'relu',\n",
    "                input_shape = c(img_width,img_height,3),padding = \"same\") %>% \n",
    "    layer_conv_2d(filters = 16, kernel_size = c(3,3), activation = 'relu',padding = \"same\") %>%\n",
    "    layer_max_pooling_2d(pool_size = c(2,2)) %>%\n",
    "    layer_flatten() %>% \n",
    "    layer_dense(units = 50, activation = 'relu') %>% \n",
    "    layer_dense(units = 23, activation = 'softmax')"
   ]
  },
  {
   "cell_type": "code",
   "execution_count": 17,
   "metadata": {},
   "outputs": [
    {
     "name": "stdout",
     "output_type": "stream",
     "text": [
      "________________________________________________________________________________\n",
      "Layer (type)                        Output Shape                    Param #     \n",
      "================================================================================\n",
      "conv2d (Conv2D)                     (None, 20, 20, 32)              896         \n",
      "________________________________________________________________________________\n",
      "conv2d_1 (Conv2D)                   (None, 20, 20, 16)              4624        \n",
      "________________________________________________________________________________\n",
      "max_pooling2d (MaxPooling2D)        (None, 10, 10, 16)              0           \n",
      "________________________________________________________________________________\n",
      "flatten (Flatten)                   (None, 1600)                    0           \n",
      "________________________________________________________________________________\n",
      "dense (Dense)                       (None, 50)                      80050       \n",
      "________________________________________________________________________________\n",
      "dense_1 (Dense)                     (None, 23)                      1173        \n",
      "================================================================================\n",
      "Total params: 86,743\n",
      "Trainable params: 86,743\n",
      "Non-trainable params: 0\n",
      "________________________________________________________________________________\n"
     ]
    }
   ],
   "source": [
    "cnn_model_pool %>% summary()"
   ]
  },
  {
   "cell_type": "code",
   "execution_count": 18,
   "metadata": {},
   "outputs": [],
   "source": [
    "# Compile model\n",
    "cnn_model_pool %>% compile(\n",
    "  loss = \"categorical_crossentropy\",\n",
    "  optimizer = optimizer_rmsprop(lr = 0.0001,decay = 1e-6),\n",
    "  metrics = c('accuracy')\n",
    ")"
   ]
  },
  {
   "cell_type": "code",
   "execution_count": 19,
   "metadata": {},
   "outputs": [],
   "source": [
    "# Train model\n",
    "cnn_model_pool %>% fit_generator(generator = train_data,\n",
    "                                 steps_per_epoch = 20,\n",
    "                                 epochs = 5)"
   ]
  },
  {
   "cell_type": "code",
   "execution_count": 20,
   "metadata": {},
   "outputs": [],
   "source": [
    "cnn_model_pool %>% save_model_hdf5(\"cnn_model_pool.h5\")\n",
    "\n",
    "# cnn_model <- load_model_hdf5(\"cnn_model_pool.h5\")"
   ]
  },
  {
   "cell_type": "code",
   "execution_count": 21,
   "metadata": {},
   "outputs": [],
   "source": [
    "scores <- cnn_model_pool %>% evaluate_generator(generator = test_data,steps = 20)"
   ]
  },
  {
   "cell_type": "code",
   "execution_count": 22,
   "metadata": {},
   "outputs": [
    {
     "data": {
      "text/html": [
       "'Test loss: 2.9508512192228 \\n'"
      ],
      "text/latex": [
       "'Test loss: 2.9508512192228 \\textbackslash{}n'"
      ],
      "text/markdown": [
       "'Test loss: 2.9508512192228 \\n'"
      ],
      "text/plain": [
       "[1] \"Test loss: 2.9508512192228 \\n\""
      ]
     },
     "metadata": {},
     "output_type": "display_data"
    },
    {
     "data": {
      "text/html": [
       "'Test accuracy: 0.789501190185547 \\n'"
      ],
      "text/latex": [
       "'Test accuracy: 0.789501190185547 \\textbackslash{}n'"
      ],
      "text/markdown": [
       "'Test accuracy: 0.789501190185547 \\n'"
      ],
      "text/plain": [
       "[1] \"Test accuracy: 0.789501190185547 \\n\""
      ]
     },
     "metadata": {},
     "output_type": "display_data"
    }
   ],
   "source": [
    "# Output metrics\n",
    "paste('Test loss:', scores[[1]], '\\n')\n",
    "paste('Test accuracy:', scores[[2]], '\\n')"
   ]
  }
 ],
 "metadata": {
  "kernelspec": {
   "display_name": "R",
   "language": "R",
   "name": "ir"
  },
  "language_info": {
   "codemirror_mode": "r",
   "file_extension": ".r",
   "mimetype": "text/x-r-source",
   "name": "R",
   "pygments_lexer": "r",
   "version": "3.6.1"
  }
 },
 "nbformat": 4,
 "nbformat_minor": 2
}
