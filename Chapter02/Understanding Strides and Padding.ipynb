{
 "cells": [
  {
   "cell_type": "code",
   "execution_count": 13,
   "metadata": {},
   "outputs": [],
   "source": [
    "cnn_model_sp <- keras_model_sequential() %>% \n",
    "    layer_conv_2d(filters = 8, kernel_size = c(4,4), activation = 'relu',\n",
    "                input_shape = c(28,28,1),\n",
    "                strides =  c(2L, 2L),,padding = \"same\") %>% \n",
    "    layer_conv_2d(filters = 16, kernel_size = c(3,3), activation = 'relu') %>% \n",
    "    layer_flatten() %>% \n",
    "    layer_dense(units = 16, activation = 'relu') %>% \n",
    "    layer_dense(units = 10, activation = 'softmax')"
   ]
  },
  {
   "cell_type": "code",
   "execution_count": 14,
   "metadata": {},
   "outputs": [
    {
     "name": "stdout",
     "output_type": "stream",
     "text": [
      "________________________________________________________________________________\n",
      "Layer (type)                        Output Shape                    Param #     \n",
      "================================================================================\n",
      "conv2d_2 (Conv2D)                   (None, 14, 14, 8)               136         \n",
      "________________________________________________________________________________\n",
      "conv2d_3 (Conv2D)                   (None, 12, 12, 16)              1168        \n",
      "________________________________________________________________________________\n",
      "flatten_1 (Flatten)                 (None, 2304)                    0           \n",
      "________________________________________________________________________________\n",
      "dense_2 (Dense)                     (None, 16)                      36880       \n",
      "________________________________________________________________________________\n",
      "dense_3 (Dense)                     (None, 10)                      170         \n",
      "================================================================================\n",
      "Total params: 38,354\n",
      "Trainable params: 38,354\n",
      "Non-trainable params: 0\n",
      "________________________________________________________________________________\n"
     ]
    }
   ],
   "source": [
    "cnn_model_sp %>% summary()"
   ]
  },
  {
   "cell_type": "code",
   "execution_count": 22,
   "metadata": {},
   "outputs": [],
   "source": [
    "# loss function\n",
    "loss_entropy <- function(y_pred, y_true) {\n",
    "    loss_categorical_crossentropy(y_pred, y_true)\n",
    "  }"
   ]
  },
  {
   "cell_type": "code",
   "execution_count": 23,
   "metadata": {},
   "outputs": [],
   "source": [
    "# Compile model\n",
    "cnn_model_sp %>% compile(\n",
    "  loss = loss_entropy,\n",
    "  optimizer = optimizer_sgd(),\n",
    "  metrics = c('accuracy')\n",
    ")"
   ]
  },
  {
   "cell_type": "code",
   "execution_count": 24,
   "metadata": {
    "scrolled": true
   },
   "outputs": [],
   "source": [
    "# Train model\n",
    "cnn_model_sp %>% fit(\n",
    "  x_train, y_train,\n",
    "  batch_size = 128,\n",
    "  epochs = 5,\n",
    "  validation_split = 0.2\n",
    ")"
   ]
  },
  {
   "cell_type": "code",
   "execution_count": 25,
   "metadata": {},
   "outputs": [],
   "source": [
    "cnn_model_sp %>% save_model_hdf5(\"cnn_model_sp.h5\")"
   ]
  },
  {
   "cell_type": "code",
   "execution_count": 26,
   "metadata": {
    "scrolled": true
   },
   "outputs": [],
   "source": [
    "# cnn_model <- load_model_hdf5(\"cnn_model_sp.h5\")"
   ]
  },
  {
   "cell_type": "code",
   "execution_count": 27,
   "metadata": {},
   "outputs": [],
   "source": [
    "scores <- cnn_model_sp %>% evaluate(x_test,\n",
    "                                 y_test,\n",
    "                                 verbose = 0\n",
    "                                )"
   ]
  },
  {
   "cell_type": "code",
   "execution_count": 28,
   "metadata": {},
   "outputs": [
    {
     "data": {
      "text/html": [
       "'Test loss: 0.564140768718719 \\n'"
      ],
      "text/latex": [
       "'Test loss: 0.564140768718719 \\textbackslash{}n'"
      ],
      "text/markdown": [
       "'Test loss: 0.564140768718719 \\n'"
      ],
      "text/plain": [
       "[1] \"Test loss: 0.564140768718719 \\n\""
      ]
     },
     "metadata": {},
     "output_type": "display_data"
    },
    {
     "data": {
      "text/html": [
       "'Test accuracy: 0.788699984550476 \\n'"
      ],
      "text/latex": [
       "'Test accuracy: 0.788699984550476 \\textbackslash{}n'"
      ],
      "text/markdown": [
       "'Test accuracy: 0.788699984550476 \\n'"
      ],
      "text/plain": [
       "[1] \"Test accuracy: 0.788699984550476 \\n\""
      ]
     },
     "metadata": {},
     "output_type": "display_data"
    }
   ],
   "source": [
    "# Output metrics\n",
    "paste('Test loss:', scores[[1]], '\\n')\n",
    "paste('Test accuracy:', scores[[2]], '\\n')"
   ]
  }
 ],
 "metadata": {
  "kernelspec": {
   "display_name": "R",
   "language": "R",
   "name": "ir"
  },
  "language_info": {
   "codemirror_mode": "r",
   "file_extension": ".r",
   "mimetype": "text/x-r-source",
   "name": "R",
   "pygments_lexer": "r",
   "version": "3.6.1"
  }
 },
 "nbformat": 4,
 "nbformat_minor": 2
}
