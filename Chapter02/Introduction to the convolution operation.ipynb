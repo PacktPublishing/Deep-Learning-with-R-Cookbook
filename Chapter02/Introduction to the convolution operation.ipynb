{
 "cells": [
  {
   "cell_type": "code",
   "execution_count": 1,
   "metadata": {},
   "outputs": [],
   "source": [
    "library(keras)\n",
    "library(repr)"
   ]
  },
  {
   "cell_type": "code",
   "execution_count": 2,
   "metadata": {},
   "outputs": [],
   "source": [
    "# Data Preparation \n",
    "# train and test sets\n",
    "fashion <- dataset_fashion_mnist()\n",
    "x_train <- fashion$train$x\n",
    "y_train <- fashion$train$y\n",
    "x_test <- fashion$test$x\n",
    "y_test <- fashion$test$y"
   ]
  },
  {
   "cell_type": "code",
   "execution_count": 3,
   "metadata": {},
   "outputs": [
    {
     "data": {
      "text/html": [
       "<ol class=list-inline>\n",
       "\t<li>60000</li>\n",
       "\t<li>28</li>\n",
       "\t<li>28</li>\n",
       "</ol>\n"
      ],
      "text/latex": [
       "\\begin{enumerate*}\n",
       "\\item 60000\n",
       "\\item 28\n",
       "\\item 28\n",
       "\\end{enumerate*}\n"
      ],
      "text/markdown": [
       "1. 60000\n",
       "2. 28\n",
       "3. 28\n",
       "\n",
       "\n"
      ],
      "text/plain": [
       "[1] 60000    28    28"
      ]
     },
     "metadata": {},
     "output_type": "display_data"
    }
   ],
   "source": [
    "dim(x_train)"
   ]
  },
  {
   "cell_type": "code",
   "execution_count": 4,
   "metadata": {},
   "outputs": [
    {
     "data": {
      "text/html": [
       "<ol class=list-inline>\n",
       "\t<li>10000</li>\n",
       "\t<li>28</li>\n",
       "\t<li>28</li>\n",
       "</ol>\n"
      ],
      "text/latex": [
       "\\begin{enumerate*}\n",
       "\\item 10000\n",
       "\\item 28\n",
       "\\item 28\n",
       "\\end{enumerate*}\n"
      ],
      "text/markdown": [
       "1. 10000\n",
       "2. 28\n",
       "3. 28\n",
       "\n",
       "\n"
      ],
      "text/plain": [
       "[1] 10000    28    28"
      ]
     },
     "metadata": {},
     "output_type": "display_data"
    }
   ],
   "source": [
    "dim(x_test)"
   ]
  },
  {
   "cell_type": "markdown",
   "metadata": {},
   "source": [
    "Lets take a look at image matrix of first image in training data  "
   ]
  },
  {
   "cell_type": "code",
   "execution_count": 5,
   "metadata": {
    "scrolled": false
   },
   "outputs": [
    {
     "data": {
      "text/html": [
       "<table>\n",
       "<tbody>\n",
       "\t<tr><td> 0 </td><td>  0</td><td>  0</td><td>  0</td><td>  0</td><td>  0</td><td>  0</td><td>  0</td><td>  0</td><td>  0</td><td>...</td><td>  0</td><td>  0</td><td>  0</td><td>  0</td><td>  0</td><td>  0</td><td>  0</td><td>  0</td><td>  0</td><td> 0 </td></tr>\n",
       "\t<tr><td> 0 </td><td>  0</td><td>  0</td><td>  0</td><td>  0</td><td>  0</td><td>  0</td><td>  0</td><td>  0</td><td>  0</td><td>...</td><td>  0</td><td>  0</td><td>  0</td><td>  0</td><td>  0</td><td>  0</td><td>  0</td><td>  0</td><td>  0</td><td> 0 </td></tr>\n",
       "\t<tr><td> 0 </td><td>  0</td><td>  0</td><td>  0</td><td>  0</td><td>  0</td><td>  0</td><td>  0</td><td>  0</td><td>  0</td><td>...</td><td>  0</td><td>  0</td><td>  0</td><td>  0</td><td>  0</td><td>  0</td><td>  0</td><td>  0</td><td>  0</td><td> 0 </td></tr>\n",
       "\t<tr><td> 0 </td><td>  0</td><td>  0</td><td>  0</td><td>  0</td><td>  0</td><td>  0</td><td>  0</td><td>  0</td><td>  0</td><td>...</td><td>  0</td><td>  0</td><td>  0</td><td>  0</td><td>  0</td><td>  0</td><td>  0</td><td>  0</td><td>  0</td><td> 0 </td></tr>\n",
       "\t<tr><td> 0 </td><td>  0</td><td>  0</td><td>  0</td><td>  0</td><td>  0</td><td>  0</td><td>  0</td><td>  0</td><td>  0</td><td>...</td><td>  0</td><td>  0</td><td>  0</td><td>  0</td><td>  0</td><td>  0</td><td>  0</td><td>  0</td><td>  0</td><td> 0 </td></tr>\n",
       "\t<tr><td> 0 </td><td>  0</td><td>  0</td><td>  0</td><td>  0</td><td>  0</td><td>  0</td><td>  0</td><td>  0</td><td>  0</td><td>...</td><td>  0</td><td>  0</td><td>  0</td><td>  0</td><td>  0</td><td>  0</td><td>  0</td><td>  0</td><td>  0</td><td> 0 </td></tr>\n",
       "\t<tr><td> 0 </td><td>  0</td><td>  0</td><td>  0</td><td>  0</td><td>  0</td><td>  0</td><td>  0</td><td>  0</td><td>  0</td><td>...</td><td>  0</td><td>  0</td><td>  0</td><td>  0</td><td>  0</td><td>  0</td><td>  0</td><td>  0</td><td>  0</td><td> 0 </td></tr>\n",
       "\t<tr><td> 0 </td><td>  0</td><td>  0</td><td>  0</td><td>  0</td><td>  0</td><td>  0</td><td>  0</td><td>  0</td><td>  0</td><td>...</td><td>  0</td><td>  3</td><td>  1</td><td>  0</td><td>  0</td><td>  7</td><td>  0</td><td> 37</td><td>  0</td><td> 0 </td></tr>\n",
       "\t<tr><td> 0 </td><td>  0</td><td>  0</td><td>  0</td><td>  0</td><td>  0</td><td>  0</td><td>  0</td><td>  0</td><td>  0</td><td>...</td><td> 11</td><td>  0</td><td>  0</td><td>  0</td><td>  0</td><td>  0</td><td>  0</td><td>119</td><td>  0</td><td> 0 </td></tr>\n",
       "\t<tr><td> 0 </td><td>  0</td><td>  0</td><td>  0</td><td>  0</td><td>  0</td><td>  0</td><td>  0</td><td>  0</td><td>  0</td><td>...</td><td>110</td><td>  0</td><td>  0</td><td>  0</td><td>  0</td><td> 22</td><td> 93</td><td>106</td><td>  0</td><td> 0 </td></tr>\n",
       "\t<tr><td> 0 </td><td>  0</td><td>  0</td><td>  0</td><td>  0</td><td>  0</td><td>  0</td><td>  0</td><td>  0</td><td>  0</td><td>...</td><td>147</td><td>175</td><td>157</td><td>166</td><td>135</td><td>154</td><td>168</td><td>140</td><td>  0</td><td> 0 </td></tr>\n",
       "\t<tr><td> 0 </td><td>  0</td><td>  0</td><td>  0</td><td>  0</td><td>  0</td><td>  0</td><td>  0</td><td>  0</td><td>  0</td><td>...</td><td>160</td><td>176</td><td>159</td><td>167</td><td>178</td><td>149</td><td>151</td><td>144</td><td>  0</td><td> 0 </td></tr>\n",
       "\t<tr><td> 0 </td><td>  0</td><td>  0</td><td>  0</td><td>  0</td><td>  0</td><td>  1</td><td>  0</td><td>  2</td><td>  1</td><td>...</td><td>168</td><td>153</td><td>156</td><td>165</td><td>167</td><td>143</td><td>157</td><td>158</td><td> 11</td><td> 0 </td></tr>\n",
       "\t<tr><td> 0 </td><td>  0</td><td>  0</td><td>  0</td><td>  1</td><td>  0</td><td>  0</td><td>  0</td><td>  0</td><td>  0</td><td>...</td><td>149</td><td>131</td><td>151</td><td>169</td><td>172</td><td>143</td><td>159</td><td>169</td><td> 48</td><td> 0 </td></tr>\n",
       "\t<tr><td> 0 </td><td>  0</td><td>  0</td><td>  0</td><td>  0</td><td>  0</td><td>  2</td><td>  4</td><td>  1</td><td>  0</td><td>...</td><td>135</td><td>144</td><td>149</td><td>159</td><td>167</td><td>144</td><td>158</td><td>169</td><td>119</td><td> 0 </td></tr>\n",
       "\t<tr><td> 0 </td><td>  0</td><td>  2</td><td>  2</td><td>  1</td><td>  2</td><td>  0</td><td>  0</td><td>  0</td><td>  0</td><td>...</td><td>134</td><td>154</td><td>154</td><td>156</td><td>160</td><td>141</td><td>147</td><td>156</td><td>178</td><td> 0 </td></tr>\n",
       "\t<tr><td> 3 </td><td>  0</td><td>  0</td><td>  0</td><td>  0</td><td>  0</td><td>  0</td><td> 21</td><td> 53</td><td> 92</td><td>...</td><td>165</td><td>170</td><td>154</td><td>151</td><td>154</td><td>143</td><td>138</td><td>150</td><td>165</td><td>43 </td></tr>\n",
       "\t<tr><td> 0 </td><td>  0</td><td> 23</td><td> 54</td><td> 65</td><td> 76</td><td> 85</td><td>118</td><td>128</td><td>123</td><td>...</td><td>160</td><td>140</td><td>155</td><td>161</td><td>144</td><td>155</td><td>172</td><td>161</td><td>189</td><td>62 </td></tr>\n",
       "\t<tr><td> 0 </td><td> 68</td><td> 94</td><td> 90</td><td>111</td><td>114</td><td>111</td><td>114</td><td>115</td><td>127</td><td>...</td><td>148</td><td>125</td><td>162</td><td>162</td><td>144</td><td>138</td><td>153</td><td>162</td><td>196</td><td>58 </td></tr>\n",
       "\t<tr><td>70 </td><td>169</td><td>129</td><td>104</td><td> 98</td><td>100</td><td> 94</td><td> 97</td><td> 98</td><td>102</td><td>...</td><td>190</td><td>190</td><td>196</td><td>198</td><td>198</td><td>187</td><td>197</td><td>189</td><td>184</td><td>36 </td></tr>\n",
       "\t<tr><td>16 </td><td>126</td><td>171</td><td>188</td><td>188</td><td>184</td><td>171</td><td>153</td><td>135</td><td>120</td><td>...</td><td>209</td><td>177</td><td>245</td><td>252</td><td>251</td><td>251</td><td>247</td><td>220</td><td>206</td><td>49 </td></tr>\n",
       "\t<tr><td> 0 </td><td>  0</td><td>  0</td><td> 12</td><td> 67</td><td>106</td><td>164</td><td>185</td><td>199</td><td>210</td><td>...</td><td>  0</td><td>  0</td><td>178</td><td>208</td><td>188</td><td>175</td><td>162</td><td>158</td><td>151</td><td>11 </td></tr>\n",
       "\t<tr><td> 0 </td><td>  0</td><td>  0</td><td>  0</td><td>  0</td><td>  0</td><td>  0</td><td>  0</td><td>  0</td><td>  0</td><td>...</td><td>  0</td><td>  0</td><td>  0</td><td>  0</td><td>  0</td><td>  0</td><td>  0</td><td>  0</td><td>  0</td><td> 0 </td></tr>\n",
       "\t<tr><td> 0 </td><td>  0</td><td>  0</td><td>  0</td><td>  0</td><td>  0</td><td>  0</td><td>  0</td><td>  0</td><td>  0</td><td>...</td><td>  0</td><td>  0</td><td>  0</td><td>  0</td><td>  0</td><td>  0</td><td>  0</td><td>  0</td><td>  0</td><td> 0 </td></tr>\n",
       "\t<tr><td> 0 </td><td>  0</td><td>  0</td><td>  0</td><td>  0</td><td>  0</td><td>  0</td><td>  0</td><td>  0</td><td>  0</td><td>...</td><td>  0</td><td>  0</td><td>  0</td><td>  0</td><td>  0</td><td>  0</td><td>  0</td><td>  0</td><td>  0</td><td> 0 </td></tr>\n",
       "\t<tr><td> 0 </td><td>  0</td><td>  0</td><td>  0</td><td>  0</td><td>  0</td><td>  0</td><td>  0</td><td>  0</td><td>  0</td><td>...</td><td>  0</td><td>  0</td><td>  0</td><td>  0</td><td>  0</td><td>  0</td><td>  0</td><td>  0</td><td>  0</td><td> 0 </td></tr>\n",
       "\t<tr><td> 0 </td><td>  0</td><td>  0</td><td>  0</td><td>  0</td><td>  0</td><td>  0</td><td>  0</td><td>  0</td><td>  0</td><td>...</td><td>  0</td><td>  0</td><td>  0</td><td>  0</td><td>  0</td><td>  0</td><td>  0</td><td>  0</td><td>  0</td><td> 0 </td></tr>\n",
       "\t<tr><td> 0 </td><td>  0</td><td>  0</td><td>  0</td><td>  0</td><td>  0</td><td>  0</td><td>  0</td><td>  0</td><td>  0</td><td>...</td><td>  0</td><td>  0</td><td>  0</td><td>  0</td><td>  0</td><td>  0</td><td>  0</td><td>  0</td><td>  0</td><td> 0 </td></tr>\n",
       "</tbody>\n",
       "</table>\n"
      ],
      "text/latex": [
       "\\begin{tabular}{llllllllllllllllllllllllllll}\n",
       "\t  0  &   0 &   0 &   0 &   0 &   0 &   0 &   0 &   0 &   0 & ... &   0 &   0 &   0 &   0 &   0 &   0 &   0 &   0 &   0 &  0 \\\\\n",
       "\t  0  &   0 &   0 &   0 &   0 &   0 &   0 &   0 &   0 &   0 & ... &   0 &   0 &   0 &   0 &   0 &   0 &   0 &   0 &   0 &  0 \\\\\n",
       "\t  0  &   0 &   0 &   0 &   0 &   0 &   0 &   0 &   0 &   0 & ... &   0 &   0 &   0 &   0 &   0 &   0 &   0 &   0 &   0 &  0 \\\\\n",
       "\t  0  &   0 &   0 &   0 &   0 &   0 &   0 &   0 &   0 &   0 & ... &   0 &   0 &   0 &   0 &   0 &   0 &   0 &   0 &   0 &  0 \\\\\n",
       "\t  0  &   0 &   0 &   0 &   0 &   0 &   0 &   0 &   0 &   0 & ... &   0 &   0 &   0 &   0 &   0 &   0 &   0 &   0 &   0 &  0 \\\\\n",
       "\t  0  &   0 &   0 &   0 &   0 &   0 &   0 &   0 &   0 &   0 & ... &   0 &   0 &   0 &   0 &   0 &   0 &   0 &   0 &   0 &  0 \\\\\n",
       "\t  0  &   0 &   0 &   0 &   0 &   0 &   0 &   0 &   0 &   0 & ... &   0 &   0 &   0 &   0 &   0 &   0 &   0 &   0 &   0 &  0 \\\\\n",
       "\t  0  &   0 &   0 &   0 &   0 &   0 &   0 &   0 &   0 &   0 & ... &   0 &   3 &   1 &   0 &   0 &   7 &   0 &  37 &   0 &  0 \\\\\n",
       "\t  0  &   0 &   0 &   0 &   0 &   0 &   0 &   0 &   0 &   0 & ... &  11 &   0 &   0 &   0 &   0 &   0 &   0 & 119 &   0 &  0 \\\\\n",
       "\t  0  &   0 &   0 &   0 &   0 &   0 &   0 &   0 &   0 &   0 & ... & 110 &   0 &   0 &   0 &   0 &  22 &  93 & 106 &   0 &  0 \\\\\n",
       "\t  0  &   0 &   0 &   0 &   0 &   0 &   0 &   0 &   0 &   0 & ... & 147 & 175 & 157 & 166 & 135 & 154 & 168 & 140 &   0 &  0 \\\\\n",
       "\t  0  &   0 &   0 &   0 &   0 &   0 &   0 &   0 &   0 &   0 & ... & 160 & 176 & 159 & 167 & 178 & 149 & 151 & 144 &   0 &  0 \\\\\n",
       "\t  0  &   0 &   0 &   0 &   0 &   0 &   1 &   0 &   2 &   1 & ... & 168 & 153 & 156 & 165 & 167 & 143 & 157 & 158 &  11 &  0 \\\\\n",
       "\t  0  &   0 &   0 &   0 &   1 &   0 &   0 &   0 &   0 &   0 & ... & 149 & 131 & 151 & 169 & 172 & 143 & 159 & 169 &  48 &  0 \\\\\n",
       "\t  0  &   0 &   0 &   0 &   0 &   0 &   2 &   4 &   1 &   0 & ... & 135 & 144 & 149 & 159 & 167 & 144 & 158 & 169 & 119 &  0 \\\\\n",
       "\t  0  &   0 &   2 &   2 &   1 &   2 &   0 &   0 &   0 &   0 & ... & 134 & 154 & 154 & 156 & 160 & 141 & 147 & 156 & 178 &  0 \\\\\n",
       "\t  3  &   0 &   0 &   0 &   0 &   0 &   0 &  21 &  53 &  92 & ... & 165 & 170 & 154 & 151 & 154 & 143 & 138 & 150 & 165 & 43 \\\\\n",
       "\t  0  &   0 &  23 &  54 &  65 &  76 &  85 & 118 & 128 & 123 & ... & 160 & 140 & 155 & 161 & 144 & 155 & 172 & 161 & 189 & 62 \\\\\n",
       "\t  0  &  68 &  94 &  90 & 111 & 114 & 111 & 114 & 115 & 127 & ... & 148 & 125 & 162 & 162 & 144 & 138 & 153 & 162 & 196 & 58 \\\\\n",
       "\t 70  & 169 & 129 & 104 &  98 & 100 &  94 &  97 &  98 & 102 & ... & 190 & 190 & 196 & 198 & 198 & 187 & 197 & 189 & 184 & 36 \\\\\n",
       "\t 16  & 126 & 171 & 188 & 188 & 184 & 171 & 153 & 135 & 120 & ... & 209 & 177 & 245 & 252 & 251 & 251 & 247 & 220 & 206 & 49 \\\\\n",
       "\t  0  &   0 &   0 &  12 &  67 & 106 & 164 & 185 & 199 & 210 & ... &   0 &   0 & 178 & 208 & 188 & 175 & 162 & 158 & 151 & 11 \\\\\n",
       "\t  0  &   0 &   0 &   0 &   0 &   0 &   0 &   0 &   0 &   0 & ... &   0 &   0 &   0 &   0 &   0 &   0 &   0 &   0 &   0 &  0 \\\\\n",
       "\t  0  &   0 &   0 &   0 &   0 &   0 &   0 &   0 &   0 &   0 & ... &   0 &   0 &   0 &   0 &   0 &   0 &   0 &   0 &   0 &  0 \\\\\n",
       "\t  0  &   0 &   0 &   0 &   0 &   0 &   0 &   0 &   0 &   0 & ... &   0 &   0 &   0 &   0 &   0 &   0 &   0 &   0 &   0 &  0 \\\\\n",
       "\t  0  &   0 &   0 &   0 &   0 &   0 &   0 &   0 &   0 &   0 & ... &   0 &   0 &   0 &   0 &   0 &   0 &   0 &   0 &   0 &  0 \\\\\n",
       "\t  0  &   0 &   0 &   0 &   0 &   0 &   0 &   0 &   0 &   0 & ... &   0 &   0 &   0 &   0 &   0 &   0 &   0 &   0 &   0 &  0 \\\\\n",
       "\t  0  &   0 &   0 &   0 &   0 &   0 &   0 &   0 &   0 &   0 & ... &   0 &   0 &   0 &   0 &   0 &   0 &   0 &   0 &   0 &  0 \\\\\n",
       "\\end{tabular}\n"
      ],
      "text/markdown": [
       "\n",
       "|  0  |   0 |   0 |   0 |   0 |   0 |   0 |   0 |   0 |   0 | ... |   0 |   0 |   0 |   0 |   0 |   0 |   0 |   0 |   0 |  0  | \n",
       "|  0  |   0 |   0 |   0 |   0 |   0 |   0 |   0 |   0 |   0 | ... |   0 |   0 |   0 |   0 |   0 |   0 |   0 |   0 |   0 |  0  | \n",
       "|  0  |   0 |   0 |   0 |   0 |   0 |   0 |   0 |   0 |   0 | ... |   0 |   0 |   0 |   0 |   0 |   0 |   0 |   0 |   0 |  0  | \n",
       "|  0  |   0 |   0 |   0 |   0 |   0 |   0 |   0 |   0 |   0 | ... |   0 |   0 |   0 |   0 |   0 |   0 |   0 |   0 |   0 |  0  | \n",
       "|  0  |   0 |   0 |   0 |   0 |   0 |   0 |   0 |   0 |   0 | ... |   0 |   0 |   0 |   0 |   0 |   0 |   0 |   0 |   0 |  0  | \n",
       "|  0  |   0 |   0 |   0 |   0 |   0 |   0 |   0 |   0 |   0 | ... |   0 |   0 |   0 |   0 |   0 |   0 |   0 |   0 |   0 |  0  | \n",
       "|  0  |   0 |   0 |   0 |   0 |   0 |   0 |   0 |   0 |   0 | ... |   0 |   0 |   0 |   0 |   0 |   0 |   0 |   0 |   0 |  0  | \n",
       "|  0  |   0 |   0 |   0 |   0 |   0 |   0 |   0 |   0 |   0 | ... |   0 |   3 |   1 |   0 |   0 |   7 |   0 |  37 |   0 |  0  | \n",
       "|  0  |   0 |   0 |   0 |   0 |   0 |   0 |   0 |   0 |   0 | ... |  11 |   0 |   0 |   0 |   0 |   0 |   0 | 119 |   0 |  0  | \n",
       "|  0  |   0 |   0 |   0 |   0 |   0 |   0 |   0 |   0 |   0 | ... | 110 |   0 |   0 |   0 |   0 |  22 |  93 | 106 |   0 |  0  | \n",
       "|  0  |   0 |   0 |   0 |   0 |   0 |   0 |   0 |   0 |   0 | ... | 147 | 175 | 157 | 166 | 135 | 154 | 168 | 140 |   0 |  0  | \n",
       "|  0  |   0 |   0 |   0 |   0 |   0 |   0 |   0 |   0 |   0 | ... | 160 | 176 | 159 | 167 | 178 | 149 | 151 | 144 |   0 |  0  | \n",
       "|  0  |   0 |   0 |   0 |   0 |   0 |   1 |   0 |   2 |   1 | ... | 168 | 153 | 156 | 165 | 167 | 143 | 157 | 158 |  11 |  0  | \n",
       "|  0  |   0 |   0 |   0 |   1 |   0 |   0 |   0 |   0 |   0 | ... | 149 | 131 | 151 | 169 | 172 | 143 | 159 | 169 |  48 |  0  | \n",
       "|  0  |   0 |   0 |   0 |   0 |   0 |   2 |   4 |   1 |   0 | ... | 135 | 144 | 149 | 159 | 167 | 144 | 158 | 169 | 119 |  0  | \n",
       "|  0  |   0 |   2 |   2 |   1 |   2 |   0 |   0 |   0 |   0 | ... | 134 | 154 | 154 | 156 | 160 | 141 | 147 | 156 | 178 |  0  | \n",
       "|  3  |   0 |   0 |   0 |   0 |   0 |   0 |  21 |  53 |  92 | ... | 165 | 170 | 154 | 151 | 154 | 143 | 138 | 150 | 165 | 43  | \n",
       "|  0  |   0 |  23 |  54 |  65 |  76 |  85 | 118 | 128 | 123 | ... | 160 | 140 | 155 | 161 | 144 | 155 | 172 | 161 | 189 | 62  | \n",
       "|  0  |  68 |  94 |  90 | 111 | 114 | 111 | 114 | 115 | 127 | ... | 148 | 125 | 162 | 162 | 144 | 138 | 153 | 162 | 196 | 58  | \n",
       "| 70  | 169 | 129 | 104 |  98 | 100 |  94 |  97 |  98 | 102 | ... | 190 | 190 | 196 | 198 | 198 | 187 | 197 | 189 | 184 | 36  | \n",
       "| 16  | 126 | 171 | 188 | 188 | 184 | 171 | 153 | 135 | 120 | ... | 209 | 177 | 245 | 252 | 251 | 251 | 247 | 220 | 206 | 49  | \n",
       "|  0  |   0 |   0 |  12 |  67 | 106 | 164 | 185 | 199 | 210 | ... |   0 |   0 | 178 | 208 | 188 | 175 | 162 | 158 | 151 | 11  | \n",
       "|  0  |   0 |   0 |   0 |   0 |   0 |   0 |   0 |   0 |   0 | ... |   0 |   0 |   0 |   0 |   0 |   0 |   0 |   0 |   0 |  0  | \n",
       "|  0  |   0 |   0 |   0 |   0 |   0 |   0 |   0 |   0 |   0 | ... |   0 |   0 |   0 |   0 |   0 |   0 |   0 |   0 |   0 |  0  | \n",
       "|  0  |   0 |   0 |   0 |   0 |   0 |   0 |   0 |   0 |   0 | ... |   0 |   0 |   0 |   0 |   0 |   0 |   0 |   0 |   0 |  0  | \n",
       "|  0  |   0 |   0 |   0 |   0 |   0 |   0 |   0 |   0 |   0 | ... |   0 |   0 |   0 |   0 |   0 |   0 |   0 |   0 |   0 |  0  | \n",
       "|  0  |   0 |   0 |   0 |   0 |   0 |   0 |   0 |   0 |   0 | ... |   0 |   0 |   0 |   0 |   0 |   0 |   0 |   0 |   0 |  0  | \n",
       "|  0  |   0 |   0 |   0 |   0 |   0 |   0 |   0 |   0 |   0 | ... |   0 |   0 |   0 |   0 |   0 |   0 |   0 |   0 |   0 |  0  | \n",
       "\n",
       "\n"
      ],
      "text/plain": [
       "      [,1] [,2] [,3] [,4] [,5] [,6] [,7] [,8] [,9] [,10] [,11] [,12] [,13]\n",
       " [1,]  0     0    0    0    0    0    0    0    0    0   ...     0     0  \n",
       " [2,]  0     0    0    0    0    0    0    0    0    0   ...     0     0  \n",
       " [3,]  0     0    0    0    0    0    0    0    0    0   ...     0     0  \n",
       " [4,]  0     0    0    0    0    0    0    0    0    0   ...     0     0  \n",
       " [5,]  0     0    0    0    0    0    0    0    0    0   ...     0     0  \n",
       " [6,]  0     0    0    0    0    0    0    0    0    0   ...     0     0  \n",
       " [7,]  0     0    0    0    0    0    0    0    0    0   ...     0     0  \n",
       " [8,]  0     0    0    0    0    0    0    0    0    0   ...     0     3  \n",
       " [9,]  0     0    0    0    0    0    0    0    0    0   ...    11     0  \n",
       "[10,]  0     0    0    0    0    0    0    0    0    0   ...   110     0  \n",
       "[11,]  0     0    0    0    0    0    0    0    0    0   ...   147   175  \n",
       "[12,]  0     0    0    0    0    0    0    0    0    0   ...   160   176  \n",
       "[13,]  0     0    0    0    0    0    1    0    2    1   ...   168   153  \n",
       "[14,]  0     0    0    0    1    0    0    0    0    0   ...   149   131  \n",
       "[15,]  0     0    0    0    0    0    2    4    1    0   ...   135   144  \n",
       "[16,]  0     0    2    2    1    2    0    0    0    0   ...   134   154  \n",
       "[17,]  3     0    0    0    0    0    0   21   53   92   ...   165   170  \n",
       "[18,]  0     0   23   54   65   76   85  118  128  123   ...   160   140  \n",
       "[19,]  0    68   94   90  111  114  111  114  115  127   ...   148   125  \n",
       "[20,] 70   169  129  104   98  100   94   97   98  102   ...   190   190  \n",
       "[21,] 16   126  171  188  188  184  171  153  135  120   ...   209   177  \n",
       "[22,]  0     0    0   12   67  106  164  185  199  210   ...     0     0  \n",
       "[23,]  0     0    0    0    0    0    0    0    0    0   ...     0     0  \n",
       "[24,]  0     0    0    0    0    0    0    0    0    0   ...     0     0  \n",
       "[25,]  0     0    0    0    0    0    0    0    0    0   ...     0     0  \n",
       "[26,]  0     0    0    0    0    0    0    0    0    0   ...     0     0  \n",
       "[27,]  0     0    0    0    0    0    0    0    0    0   ...     0     0  \n",
       "[28,]  0     0    0    0    0    0    0    0    0    0   ...     0     0  \n",
       "      [,14] [,15] [,16] [,17] [,18] [,19] [,20] [,21]\n",
       " [1,]   0     0     0     0     0     0     0    0   \n",
       " [2,]   0     0     0     0     0     0     0    0   \n",
       " [3,]   0     0     0     0     0     0     0    0   \n",
       " [4,]   0     0     0     0     0     0     0    0   \n",
       " [5,]   0     0     0     0     0     0     0    0   \n",
       " [6,]   0     0     0     0     0     0     0    0   \n",
       " [7,]   0     0     0     0     0     0     0    0   \n",
       " [8,]   1     0     0     7     0    37     0    0   \n",
       " [9,]   0     0     0     0     0   119     0    0   \n",
       "[10,]   0     0     0    22    93   106     0    0   \n",
       "[11,] 157   166   135   154   168   140     0    0   \n",
       "[12,] 159   167   178   149   151   144     0    0   \n",
       "[13,] 156   165   167   143   157   158    11    0   \n",
       "[14,] 151   169   172   143   159   169    48    0   \n",
       "[15,] 149   159   167   144   158   169   119    0   \n",
       "[16,] 154   156   160   141   147   156   178    0   \n",
       "[17,] 154   151   154   143   138   150   165   43   \n",
       "[18,] 155   161   144   155   172   161   189   62   \n",
       "[19,] 162   162   144   138   153   162   196   58   \n",
       "[20,] 196   198   198   187   197   189   184   36   \n",
       "[21,] 245   252   251   251   247   220   206   49   \n",
       "[22,] 178   208   188   175   162   158   151   11   \n",
       "[23,]   0     0     0     0     0     0     0    0   \n",
       "[24,]   0     0     0     0     0     0     0    0   \n",
       "[25,]   0     0     0     0     0     0     0    0   \n",
       "[26,]   0     0     0     0     0     0     0    0   \n",
       "[27,]   0     0     0     0     0     0     0    0   \n",
       "[28,]   0     0     0     0     0     0     0    0   "
      ]
     },
     "metadata": {},
     "output_type": "display_data"
    }
   ],
   "source": [
    "x_test[1,,]"
   ]
  },
  {
   "cell_type": "markdown",
   "metadata": {},
   "source": [
    "Label of the above first image."
   ]
  },
  {
   "cell_type": "code",
   "execution_count": 6,
   "metadata": {},
   "outputs": [
    {
     "data": {
      "text/html": [
       "<span style=white-space:pre-wrap>'label of first image is:   9'</span>"
      ],
      "text/latex": [
       "'label of first image is:   9'"
      ],
      "text/markdown": [
       "<span style=white-space:pre-wrap>'label of first image is:   9'</span>"
      ],
      "text/plain": [
       "[1] \"label of first image is:   9\""
      ]
     },
     "metadata": {},
     "output_type": "display_data"
    }
   ],
   "source": [
    "paste(\"label of first image is:  \" ,y_train[1])"
   ]
  },
  {
   "cell_type": "markdown",
   "metadata": {},
   "source": [
    "Now we will define lable names as defined [here](https://keras.rstudio.com/reference/dataset_fashion_mnist.html#details)"
   ]
  },
  {
   "cell_type": "code",
   "execution_count": 7,
   "metadata": {},
   "outputs": [],
   "source": [
    "label_names = c('T-shirt/top',\n",
    "               'Trouser',\n",
    "               'Pullover',\n",
    "               'Dress',\n",
    "               'Coat', \n",
    "               'Sandal',\n",
    "               'Shirt',\n",
    "               'Sneaker',\n",
    "               'Bag',\n",
    "               'Ankle boot')"
   ]
  },
  {
   "cell_type": "code",
   "execution_count": 8,
   "metadata": {},
   "outputs": [],
   "source": [
    "options(repr.plot.width=5, repr.plot.height=3)"
   ]
  },
  {
   "cell_type": "code",
   "execution_count": 9,
   "metadata": {
    "scrolled": false
   },
   "outputs": [
    {
     "data": {
      "image/png": "[encoded data removed]",
      "text/plain": [
       "Plot with title \"Sandal\""
      ]
     },
     "metadata": {},
     "output_type": "display_data"
    }
   ],
   "source": [
    "# visualize images\n",
    "par(mfcol=c(3,3))\n",
    "par(mar=c(2,2,2,2),xaxs = \"i\",yaxs = \"i\")\n",
    "for (idx in 1:9) { \n",
    "  img <- x_train[idx,,]\n",
    "  img <- t(apply(img, 2, rev)) \n",
    "  image(1:28,1:28,img, main=paste(label_names[y_train[idx]+1]),xaxt = 'n',yaxt = 'n',col= gray((0:255)/255))\n",
    "}"
   ]
  },
  {
   "cell_type": "code",
   "execution_count": 10,
   "metadata": {},
   "outputs": [],
   "source": [
    "# Redefine  dimension of train/test inputs\n",
    "x_train <- array_reshape(x_train, c(nrow(x_train), 28, 28, 1))\n",
    "x_test <- array_reshape(x_test, c(nrow(x_test), 28, 28, 1))\n",
    "\n",
    "# Transform RGB values into [0,1] range\n",
    "x_train <- x_train / 255\n",
    "x_test <- x_test / 255\n",
    "\n",
    "\n",
    "# Convert class vectors to binary class matrices\n",
    "y_train <- to_categorical(y_train, 10)\n",
    "y_test <- to_categorical(y_test, 10)"
   ]
  },
  {
   "cell_type": "code",
   "execution_count": 11,
   "metadata": {},
   "outputs": [],
   "source": [
    "# Define model\n",
    "cnn_model <- keras_model_sequential() %>%\n",
    "  layer_conv_2d(filters = 8, kernel_size = c(4,4), activation = 'relu',\n",
    "                input_shape = c(28,28,1)) %>% \n",
    "  layer_conv_2d(filters = 16, kernel_size = c(3,3), activation = 'relu') %>% \n",
    "  layer_flatten() %>% \n",
    "  layer_dense(units = 16, activation = 'relu') %>% \n",
    "  layer_dense(units = 10, activation = 'softmax')"
   ]
  },
  {
   "cell_type": "code",
   "execution_count": 12,
   "metadata": {},
   "outputs": [
    {
     "name": "stdout",
     "output_type": "stream",
     "text": [
      "________________________________________________________________________________\n",
      "Layer (type)                        Output Shape                    Param #     \n",
      "================================================================================\n",
      "conv2d (Conv2D)                     (None, 25, 25, 8)               136         \n",
      "________________________________________________________________________________\n",
      "conv2d_1 (Conv2D)                   (None, 23, 23, 16)              1168        \n",
      "________________________________________________________________________________\n",
      "flatten (Flatten)                   (None, 8464)                    0           \n",
      "________________________________________________________________________________\n",
      "dense (Dense)                       (None, 16)                      135440      \n",
      "________________________________________________________________________________\n",
      "dense_1 (Dense)                     (None, 10)                      170         \n",
      "================================================================================\n",
      "Total params: 136,914\n",
      "Trainable params: 136,914\n",
      "Non-trainable params: 0\n",
      "________________________________________________________________________________\n"
     ]
    }
   ],
   "source": [
    "cnn_model %>% summary()"
   ]
  },
  {
   "cell_type": "code",
   "execution_count": 25,
   "metadata": {},
   "outputs": [],
   "source": [
    "loss_entropy <- function(y_pred, y_true) {\n",
    "    loss_categorical_crossentropy(y_pred, y_true)\n",
    "  }"
   ]
  },
  {
   "cell_type": "code",
   "execution_count": 26,
   "metadata": {},
   "outputs": [],
   "source": [
    "# Compile model\n",
    "cnn_model %>% compile(\n",
    "  loss = loss_entropy,\n",
    "  optimizer = optimizer_sgd(),\n",
    "  metrics = c('accuracy')\n",
    ")"
   ]
  },
  {
   "cell_type": "code",
   "execution_count": 27,
   "metadata": {
    "scrolled": true
   },
   "outputs": [],
   "source": [
    "# Train model\n",
    "cnn_model %>% fit(\n",
    "  x_train, y_train,\n",
    "  batch_size = 128,\n",
    "  epochs = 5,\n",
    "  validation_split = 0.2\n",
    ")"
   ]
  },
  {
   "cell_type": "code",
   "execution_count": 12,
   "metadata": {},
   "outputs": [],
   "source": [
    "cnn_model %>% save_model_hdf5(\"cnn_model.h5\")"
   ]
  },
  {
   "cell_type": "code",
   "execution_count": 10,
   "metadata": {},
   "outputs": [],
   "source": [
    "# cnn_model <- load_model_hdf5(\"cnn_model.h5\")"
   ]
  },
  {
   "cell_type": "code",
   "execution_count": 30,
   "metadata": {},
   "outputs": [],
   "source": [
    "scores <- cnn_model %>% evaluate(x_test,\n",
    "                                 y_test,\n",
    "                                 verbose = 0\n",
    "                                )"
   ]
  },
  {
   "cell_type": "code",
   "execution_count": 31,
   "metadata": {},
   "outputs": [
    {
     "data": {
      "text/html": [
       "'Test loss: 0.537091252660751 \\n'"
      ],
      "text/latex": [
       "'Test loss: 0.537091252660751 \\textbackslash{}n'"
      ],
      "text/markdown": [
       "'Test loss: 0.537091252660751 \\n'"
      ],
      "text/plain": [
       "[1] \"Test loss: 0.537091252660751 \\n\""
      ]
     },
     "metadata": {},
     "output_type": "display_data"
    },
    {
     "data": {
      "text/html": [
       "'Test accuracy: 0.816399991512299 \\n'"
      ],
      "text/latex": [
       "'Test accuracy: 0.816399991512299 \\textbackslash{}n'"
      ],
      "text/markdown": [
       "'Test accuracy: 0.816399991512299 \\n'"
      ],
      "text/plain": [
       "[1] \"Test accuracy: 0.816399991512299 \\n\""
      ]
     },
     "metadata": {},
     "output_type": "display_data"
    }
   ],
   "source": [
    "# Output metrics\n",
    "paste('Test loss:', scores[[1]], '\\n')\n",
    "paste('Test accuracy:', scores[[2]], '\\n')"
   ]
  },
  {
   "cell_type": "code",
   "execution_count": 33,
   "metadata": {},
   "outputs": [],
   "source": [
    "#prediction\n",
    "predicted_label <- cnn_model %>% predict_classes(x_test)"
   ]
  }
 ],
 "metadata": {
  "kernelspec": {
   "display_name": "R",
   "language": "R",
   "name": "ir"
  },
  "language_info": {
   "codemirror_mode": "r",
   "file_extension": ".r",
   "mimetype": "text/x-r-source",
   "name": "R",
   "pygments_lexer": "r",
   "version": "3.6.1"
  }
 },
 "nbformat": 4,
 "nbformat_minor": 2
}
