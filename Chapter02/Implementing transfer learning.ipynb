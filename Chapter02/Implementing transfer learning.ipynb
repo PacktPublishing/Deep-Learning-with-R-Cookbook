{
 "cells": [
  {
   "cell_type": "code",
   "execution_count": 1,
   "metadata": {},
   "outputs": [],
   "source": [
    "library(keras)"
   ]
  },
  {
   "cell_type": "code",
   "execution_count": 2,
   "metadata": {},
   "outputs": [],
   "source": [
    "train_path <- \"dogs_cats_small/train/\"\n",
    "test_path <- \"dogs_cats_small/test/\"\n",
    "validation_path <- \"dogs_cats_small/validation/\""
   ]
  },
  {
   "cell_type": "code",
   "execution_count": 3,
   "metadata": {},
   "outputs": [],
   "source": [
    "# train generator\n",
    "train_augmentor = image_data_generator(\n",
    "  rescale = 1/255,\n",
    "  rotation_range = 300,\n",
    "  width_shift_range = 0.15,\n",
    "  height_shift_range = 0.15,\n",
    "  shear_range = 0.2,\n",
    "  zoom_range = 0.2,\n",
    "  horizontal_flip = TRUE,\n",
    "  fill_mode = \"nearest\"\n",
    ")\n",
    "\n",
    "# test generator\n",
    "test_augmentor <- image_data_generator(rescale = 1/255)  "
   ]
  },
  {
   "cell_type": "code",
   "execution_count": 4,
   "metadata": {},
   "outputs": [],
   "source": [
    "# load train data\n",
    "train_data <- flow_images_from_directory(\n",
    "    train_path,\n",
    "    train_augmentor,\n",
    "    target_size = c(150, 150),\n",
    "    batch_size = 20,\n",
    "    class_mode = \"binary\")\n",
    "\n",
    "# load test data\n",
    "test_data <- test_generator <- flow_images_from_directory(\n",
    "    test_path,\n",
    "    test_augmentor,\n",
    "    target_size = c(150, 150),\n",
    "    batch_size = 20,\n",
    "    class_mode = \"binary\")\n",
    "\n",
    "# load validataion data\n",
    "validation_data <- flow_images_from_directory(\n",
    "  validation_path,\n",
    "  test_augmentor,\n",
    "  target_size = c(150, 150),\n",
    "  batch_size = 20,\n",
    "  class_mode = \"binary\"\n",
    ")"
   ]
  },
  {
   "cell_type": "code",
   "execution_count": 5,
   "metadata": {},
   "outputs": [
    {
     "data": {
      "text/html": [
       "<ol>\n",
       "\t<li>150</li>\n",
       "\t<li>150</li>\n",
       "\t<li>3</li>\n",
       "</ol>\n"
      ],
      "text/latex": [
       "\\begin{enumerate}\n",
       "\\item 150\n",
       "\\item 150\n",
       "\\item 3\n",
       "\\end{enumerate}\n"
      ],
      "text/markdown": [
       "1. 150\n",
       "2. 150\n",
       "3. 3\n",
       "\n",
       "\n"
      ],
      "text/plain": [
       "[[1]]\n",
       "[1] 150\n",
       "\n",
       "[[2]]\n",
       "[1] 150\n",
       "\n",
       "[[3]]\n",
       "[1] 3\n"
      ]
     },
     "metadata": {},
     "output_type": "display_data"
    }
   ],
   "source": [
    "train_data$image_shape"
   ]
  },
  {
   "cell_type": "code",
   "execution_count": 6,
   "metadata": {},
   "outputs": [],
   "source": [
    "pre_trained_base <- application_vgg16(\n",
    "  weights = \"imagenet\",\n",
    "  include_top = FALSE,\n",
    "  input_shape = c(150, 150, 3)\n",
    ")"
   ]
  },
  {
   "cell_type": "code",
   "execution_count": 7,
   "metadata": {},
   "outputs": [
    {
     "name": "stdout",
     "output_type": "stream",
     "text": [
      "________________________________________________________________________________\n",
      "Layer (type)                        Output Shape                    Param #     \n",
      "================================================================================\n",
      "input_1 (InputLayer)                (None, 150, 150, 3)             0           \n",
      "________________________________________________________________________________\n",
      "block1_conv1 (Conv2D)               (None, 150, 150, 64)            1792        \n",
      "________________________________________________________________________________\n",
      "block1_conv2 (Conv2D)               (None, 150, 150, 64)            36928       \n",
      "________________________________________________________________________________\n",
      "block1_pool (MaxPooling2D)          (None, 75, 75, 64)              0           \n",
      "________________________________________________________________________________\n",
      "block2_conv1 (Conv2D)               (None, 75, 75, 128)             73856       \n",
      "________________________________________________________________________________\n",
      "block2_conv2 (Conv2D)               (None, 75, 75, 128)             147584      \n",
      "________________________________________________________________________________\n",
      "block2_pool (MaxPooling2D)          (None, 37, 37, 128)             0           \n",
      "________________________________________________________________________________\n",
      "block3_conv1 (Conv2D)               (None, 37, 37, 256)             295168      \n",
      "________________________________________________________________________________\n",
      "block3_conv2 (Conv2D)               (None, 37, 37, 256)             590080      \n",
      "________________________________________________________________________________\n",
      "block3_conv3 (Conv2D)               (None, 37, 37, 256)             590080      \n",
      "________________________________________________________________________________\n",
      "block3_pool (MaxPooling2D)          (None, 18, 18, 256)             0           \n",
      "________________________________________________________________________________\n",
      "block4_conv1 (Conv2D)               (None, 18, 18, 512)             1180160     \n",
      "________________________________________________________________________________\n",
      "block4_conv2 (Conv2D)               (None, 18, 18, 512)             2359808     \n",
      "________________________________________________________________________________\n",
      "block4_conv3 (Conv2D)               (None, 18, 18, 512)             2359808     \n",
      "________________________________________________________________________________\n",
      "block4_pool (MaxPooling2D)          (None, 9, 9, 512)               0           \n",
      "________________________________________________________________________________\n",
      "block5_conv1 (Conv2D)               (None, 9, 9, 512)               2359808     \n",
      "________________________________________________________________________________\n",
      "block5_conv2 (Conv2D)               (None, 9, 9, 512)               2359808     \n",
      "________________________________________________________________________________\n",
      "block5_conv3 (Conv2D)               (None, 9, 9, 512)               2359808     \n",
      "________________________________________________________________________________\n",
      "block5_pool (MaxPooling2D)          (None, 4, 4, 512)               0           \n",
      "================================================================================\n",
      "Total params: 14,714,688\n",
      "Trainable params: 14,714,688\n",
      "Non-trainable params: 0\n",
      "________________________________________________________________________________\n"
     ]
    }
   ],
   "source": [
    "summary(pre_trained_base)"
   ]
  },
  {
   "cell_type": "code",
   "execution_count": 8,
   "metadata": {},
   "outputs": [],
   "source": [
    "model_with_pretrained <- keras_model_sequential() %>% \n",
    "    pre_trained_base %>% \n",
    "    layer_flatten() %>% \n",
    "    layer_dense(units = 8, activation = \"relu\") %>%\n",
    "    layer_dense(units = 16, activation = \"relu\") %>%\n",
    "    layer_dense(units = 1, activation = \"sigmoid\")"
   ]
  },
  {
   "cell_type": "code",
   "execution_count": 9,
   "metadata": {},
   "outputs": [
    {
     "name": "stdout",
     "output_type": "stream",
     "text": [
      "________________________________________________________________________________\n",
      "Layer (type)                        Output Shape                    Param #     \n",
      "================================================================================\n",
      "vgg16 (Model)                       (None, 4, 4, 512)               14714688    \n",
      "________________________________________________________________________________\n",
      "flatten (Flatten)                   (None, 8192)                    0           \n",
      "________________________________________________________________________________\n",
      "dense (Dense)                       (None, 8)                       65544       \n",
      "________________________________________________________________________________\n",
      "dense_1 (Dense)                     (None, 16)                      144         \n",
      "________________________________________________________________________________\n",
      "dense_2 (Dense)                     (None, 1)                       17          \n",
      "================================================================================\n",
      "Total params: 14,780,393\n",
      "Trainable params: 14,780,393\n",
      "Non-trainable params: 0\n",
      "________________________________________________________________________________\n"
     ]
    }
   ],
   "source": [
    "summary(model_with_pretrained)"
   ]
  },
  {
   "cell_type": "code",
   "execution_count": 10,
   "metadata": {},
   "outputs": [
    {
     "data": {
      "text/html": [
       "32"
      ],
      "text/latex": [
       "32"
      ],
      "text/markdown": [
       "32"
      ],
      "text/plain": [
       "[1] 32"
      ]
     },
     "metadata": {},
     "output_type": "display_data"
    }
   ],
   "source": [
    "length(model_with_pretrained$trainable_weights)"
   ]
  },
  {
   "cell_type": "code",
   "execution_count": 11,
   "metadata": {},
   "outputs": [],
   "source": [
    "freeze_weights(pre_trained_base)"
   ]
  },
  {
   "cell_type": "code",
   "execution_count": 12,
   "metadata": {},
   "outputs": [
    {
     "data": {
      "text/html": [
       "6"
      ],
      "text/latex": [
       "6"
      ],
      "text/markdown": [
       "6"
      ],
      "text/plain": [
       "[1] 6"
      ]
     },
     "metadata": {},
     "output_type": "display_data"
    }
   ],
   "source": [
    "length(model_with_pretrained$trainable_weights)"
   ]
  },
  {
   "cell_type": "code",
   "execution_count": 13,
   "metadata": {},
   "outputs": [],
   "source": [
    "# Compile model\n",
    "model_with_pretrained %>% compile(\n",
    "  loss = \"binary_crossentropy\",\n",
    "  optimizer = optimizer_rmsprop(lr = 0.0001),\n",
    "  metrics = c('accuracy')\n",
    ")"
   ]
  },
  {
   "cell_type": "code",
   "execution_count": 14,
   "metadata": {},
   "outputs": [],
   "source": [
    "# Train model\n",
    "model_with_pretrained %>% fit_generator(generator = train_data,\n",
    "                                        steps_per_epoch = 20,\n",
    "                                        epochs = 10,\n",
    "                                        validation_data = validation_data)"
   ]
  },
  {
   "cell_type": "code",
   "execution_count": 15,
   "metadata": {},
   "outputs": [],
   "source": [
    "model_with_pretrained %>% save_model_hdf5(\"model_with_pretrained.h5\")\n",
    "\n",
    "# cnn_model <- load_model_hdf5(\"cnn_model_pool.h5\")"
   ]
  },
  {
   "cell_type": "code",
   "execution_count": 16,
   "metadata": {},
   "outputs": [],
   "source": [
    "scores <- model_with_pretrained %>% evaluate_generator(generator = test_data,steps = 20)"
   ]
  },
  {
   "cell_type": "code",
   "execution_count": 17,
   "metadata": {},
   "outputs": [
    {
     "data": {
      "text/html": [
       "'Test loss: 0.385350868999958'"
      ],
      "text/latex": [
       "'Test loss: 0.385350868999958'"
      ],
      "text/markdown": [
       "'Test loss: 0.385350868999958'"
      ],
      "text/plain": [
       "[1] \"Test loss: 0.385350868999958\""
      ]
     },
     "metadata": {},
     "output_type": "display_data"
    },
    {
     "data": {
      "text/html": [
       "'Test accuracy: 0.830999970436096'"
      ],
      "text/latex": [
       "'Test accuracy: 0.830999970436096'"
      ],
      "text/markdown": [
       "'Test accuracy: 0.830999970436096'"
      ],
      "text/plain": [
       "[1] \"Test accuracy: 0.830999970436096\""
      ]
     },
     "metadata": {},
     "output_type": "display_data"
    }
   ],
   "source": [
    "# Output metrics\n",
    "paste('Test loss:', scores[[1]])\n",
    "paste('Test accuracy:', scores[[2]])"
   ]
  },
  {
   "cell_type": "markdown",
   "metadata": {},
   "source": [
    "**There is more..**"
   ]
  },
  {
   "cell_type": "code",
   "execution_count": null,
   "metadata": {},
   "outputs": [],
   "source": [
    "unfreeze_weights(pre_trained_base, from = \"block5_conv1\", to = \"block5_conv3\")"
   ]
  },
  {
   "cell_type": "code",
   "execution_count": 21,
   "metadata": {},
   "outputs": [
    {
     "data": {
      "text/html": [
       "12"
      ],
      "text/latex": [
       "12"
      ],
      "text/markdown": [
       "12"
      ],
      "text/plain": [
       "[1] 12"
      ]
     },
     "metadata": {},
     "output_type": "display_data"
    }
   ],
   "source": [
    "length(model_with_pretrained$trainable_weights)"
   ]
  }
 ],
 "metadata": {
  "kernelspec": {
   "display_name": "R",
   "language": "R",
   "name": "ir"
  },
  "language_info": {
   "codemirror_mode": "r",
   "file_extension": ".r",
   "mimetype": "text/x-r-source",
   "name": "R",
   "pygments_lexer": "r",
   "version": "3.6.1"
  }
 },
 "nbformat": 4,
 "nbformat_minor": 2
}
