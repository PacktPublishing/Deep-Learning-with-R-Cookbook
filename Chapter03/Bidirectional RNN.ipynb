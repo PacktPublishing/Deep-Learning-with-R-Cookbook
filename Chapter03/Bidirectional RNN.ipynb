{
 "cells": [
  {
   "cell_type": "code",
   "execution_count": 1,
   "metadata": {},
   "outputs": [],
   "source": [
    "# importing keras library\n",
    "library(keras)"
   ]
  },
  {
   "cell_type": "code",
   "execution_count": 2,
   "metadata": {},
   "outputs": [],
   "source": [
    "# loading data\n",
    "imdb <- dataset_imdb(num_words = 2000)"
   ]
  },
  {
   "cell_type": "code",
   "execution_count": 3,
   "metadata": {},
   "outputs": [],
   "source": [
    "# dividing data into training and test data\n",
    "train_x <- imdb$train$x\n",
    "train_y <- imdb$train$y\n",
    "test_x <- imdb$test$x\n",
    "test_y <- imdb$test$y"
   ]
  },
  {
   "cell_type": "code",
   "execution_count": 4,
   "metadata": {},
   "outputs": [
    {
     "name": "stdout",
     "output_type": "stream",
     "text": [
      "25000 train sequences\n",
      "25000 test sequences"
     ]
    }
   ],
   "source": [
    "# number of samples in train and test set\n",
    "cat(length(train_x), 'train sequences\\n')\n",
    "cat(length(test_x), 'test sequences')"
   ]
  },
  {
   "cell_type": "code",
   "execution_count": 6,
   "metadata": {},
   "outputs": [
    {
     "name": "stdout",
     "output_type": "stream",
     "text": [
      "x_train shape: 25000 80 \n",
      "x_test shape: 25000 80 \n"
     ]
    }
   ],
   "source": [
    "# padding input sequences\n",
    "train_x <- pad_sequences(train_x, maxlen = 80)\n",
    "test_x <- pad_sequences(test_x, maxlen = 80)\n",
    "\n",
    "cat('x_train shape:', dim(train_x), '\\n')\n",
    "cat('x_test shape:', dim(test_x), '\\n')"
   ]
  },
  {
   "cell_type": "markdown",
   "metadata": {},
   "source": [
    "In this section we will be working with IMDB data set. Data preperation steps are same as the previous recipe, _Classifying sentiments with recurrent neural network_."
   ]
  },
  {
   "cell_type": "code",
   "execution_count": 7,
   "metadata": {},
   "outputs": [],
   "source": [
    "# defining model\n",
    "model <- keras_model_sequential()"
   ]
  },
  {
   "cell_type": "code",
   "execution_count": 8,
   "metadata": {},
   "outputs": [
    {
     "name": "stdout",
     "output_type": "stream",
     "text": [
      "________________________________________________________________________________\n",
      "Layer (type)                        Output Shape                    Param #     \n",
      "================================================================================\n",
      "embedding (Embedding)               (None, None, 128)               256000      \n",
      "________________________________________________________________________________\n",
      "bidirectional (Bidirectional)       (None, 64)                      10304       \n",
      "________________________________________________________________________________\n",
      "dense (Dense)                       (None, 1)                       65          \n",
      "================================================================================\n",
      "Total params: 266,369\n",
      "Trainable params: 266,369\n",
      "Non-trainable params: 0\n",
      "________________________________________________________________________________\n"
     ]
    }
   ],
   "source": [
    "model %>%\n",
    "  layer_embedding(input_dim = 2000, output_dim = 128) %>% \n",
    "  bidirectional(layer_simple_rnn(units = 32),merge_mode = \"concat\") %>% \n",
    "  layer_dense(units = 1, activation = 'sigmoid')\n",
    "\n",
    "summary(model)"
   ]
  },
  {
   "cell_type": "code",
   "execution_count": 9,
   "metadata": {},
   "outputs": [],
   "source": [
    "# compiling model\n",
    "model %>% compile(\n",
    "  loss = \"binary_crossentropy\",\n",
    "  optimizer = \"adam\",\n",
    "  metrics = c(\"accuracy\")\n",
    ")\n",
    "\n",
    "# training model\n",
    "model %>% fit(\n",
    "  train_x,train_y,\n",
    "  batch_size = 32,\n",
    "  epochs = 10,\n",
    "  validation_split = .2\n",
    ")"
   ]
  },
  {
   "cell_type": "code",
   "execution_count": 10,
   "metadata": {},
   "outputs": [
    {
     "name": "stdout",
     "output_type": "stream",
     "text": [
      "Test score: 1.067133 \n",
      "Test accuracy 0.75688"
     ]
    }
   ],
   "source": [
    "# evaluating the model\n",
    "scores <- model %>% evaluate(\n",
    "  test_x, test_y,\n",
    "  batch_size = 32\n",
    ")\n",
    "\n",
    "cat('Test score:', scores[[1]],'\\n')\n",
    "cat('Test accuracy', scores[[2]])"
   ]
  }
 ],
 "metadata": {
  "kernelspec": {
   "display_name": "R",
   "language": "R",
   "name": "ir"
  },
  "language_info": {
   "codemirror_mode": "r",
   "file_extension": ".r",
   "mimetype": "text/x-r-source",
   "name": "R",
   "pygments_lexer": "r",
   "version": "3.6.0"
  }
 },
 "nbformat": 4,
 "nbformat_minor": 2
}
