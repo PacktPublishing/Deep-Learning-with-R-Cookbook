{
 "cells": [
  {
   "cell_type": "code",
   "execution_count": 4,
   "metadata": {},
   "outputs": [],
   "source": [
    "# importing the required libraries\n",
    "library(keras)\n",
    "library(abind)\n",
    "library(grid)"
   ]
  },
  {
   "cell_type": "code",
   "execution_count": 15,
   "metadata": {},
   "outputs": [
    {
     "name": "stdout",
     "output_type": "stream",
     "text": [
      "Train data dimnsions 60000 28 28 \n",
      "Test data dimnsions 10000 28 28"
     ]
    }
   ],
   "source": [
    "# importing data and dividing into training and test data\n",
    "data = dataset_mnist()\n",
    "x_train = data$train$x\n",
    "x_test = data$test$x\n",
    "cat(\"Train data dimnsions\",dim(x_train),\"\\n\")\n",
    "cat(\"Test data dimnsions\",dim(x_test))"
   ]
  },
  {
   "cell_type": "code",
   "execution_count": 16,
   "metadata": {
    "scrolled": true
   },
   "outputs": [
    {
     "data": {
      "text/html": [
       "<table>\n",
       "<tbody>\n",
       "\t<tr><td>0  </td><td>0  </td><td>0  </td><td>0  </td><td>  0</td><td>  0</td><td>  0</td><td>  0</td><td>  0</td><td>  0</td><td>⋯  </td><td>  0</td><td>  0</td><td>  0</td><td>  0</td><td>  0</td><td>  0</td><td>0  </td><td>0  </td><td>0  </td><td>0  </td></tr>\n",
       "\t<tr><td>0  </td><td>0  </td><td>0  </td><td>0  </td><td>  0</td><td>  0</td><td>  0</td><td>  0</td><td>  0</td><td>  0</td><td>⋯  </td><td>  0</td><td>  0</td><td>  0</td><td>  0</td><td>  0</td><td>  0</td><td>0  </td><td>0  </td><td>0  </td><td>0  </td></tr>\n",
       "\t<tr><td>0  </td><td>0  </td><td>0  </td><td>0  </td><td>  0</td><td>  0</td><td>  0</td><td>  0</td><td>  0</td><td>  0</td><td>⋯  </td><td>  0</td><td>  0</td><td>  0</td><td>  0</td><td>  0</td><td>  0</td><td>0  </td><td>0  </td><td>0  </td><td>0  </td></tr>\n",
       "\t<tr><td>0  </td><td>0  </td><td>0  </td><td>0  </td><td>  0</td><td>  0</td><td>  0</td><td>  0</td><td>  0</td><td>  0</td><td>⋯  </td><td>  0</td><td>  0</td><td>  0</td><td>  0</td><td>  0</td><td>  0</td><td>0  </td><td>0  </td><td>0  </td><td>0  </td></tr>\n",
       "\t<tr><td>0  </td><td>0  </td><td>0  </td><td>0  </td><td>  0</td><td>  0</td><td>  0</td><td>  0</td><td>  0</td><td>  0</td><td>⋯  </td><td>  0</td><td>  0</td><td>  0</td><td>  0</td><td>  0</td><td>  0</td><td>0  </td><td>0  </td><td>0  </td><td>0  </td></tr>\n",
       "\t<tr><td>0  </td><td>0  </td><td>0  </td><td>0  </td><td>  0</td><td>  0</td><td>  0</td><td>  0</td><td>  0</td><td>  0</td><td>⋯  </td><td>175</td><td> 26</td><td>166</td><td>255</td><td>247</td><td>127</td><td>0  </td><td>0  </td><td>0  </td><td>0  </td></tr>\n",
       "\t<tr><td>0  </td><td>0  </td><td>0  </td><td>0  </td><td>  0</td><td>  0</td><td>  0</td><td>  0</td><td> 30</td><td> 36</td><td>⋯  </td><td>225</td><td>172</td><td>253</td><td>242</td><td>195</td><td> 64</td><td>0  </td><td>0  </td><td>0  </td><td>0  </td></tr>\n",
       "\t<tr><td>0  </td><td>0  </td><td>0  </td><td>0  </td><td>  0</td><td>  0</td><td>  0</td><td> 49</td><td>238</td><td>253</td><td>⋯  </td><td> 93</td><td> 82</td><td> 82</td><td> 56</td><td> 39</td><td>  0</td><td>0  </td><td>0  </td><td>0  </td><td>0  </td></tr>\n",
       "\t<tr><td>0  </td><td>0  </td><td>0  </td><td>0  </td><td>  0</td><td>  0</td><td>  0</td><td> 18</td><td>219</td><td>253</td><td>⋯  </td><td>  0</td><td>  0</td><td>  0</td><td>  0</td><td>  0</td><td>  0</td><td>0  </td><td>0  </td><td>0  </td><td>0  </td></tr>\n",
       "\t<tr><td>0  </td><td>0  </td><td>0  </td><td>0  </td><td>  0</td><td>  0</td><td>  0</td><td>  0</td><td> 80</td><td>156</td><td>⋯  </td><td>  0</td><td>  0</td><td>  0</td><td>  0</td><td>  0</td><td>  0</td><td>0  </td><td>0  </td><td>0  </td><td>0  </td></tr>\n",
       "\t<tr><td>0  </td><td>0  </td><td>0  </td><td>0  </td><td>  0</td><td>  0</td><td>  0</td><td>  0</td><td>  0</td><td> 14</td><td>⋯  </td><td>  0</td><td>  0</td><td>  0</td><td>  0</td><td>  0</td><td>  0</td><td>0  </td><td>0  </td><td>0  </td><td>0  </td></tr>\n",
       "\t<tr><td>0  </td><td>0  </td><td>0  </td><td>0  </td><td>  0</td><td>  0</td><td>  0</td><td>  0</td><td>  0</td><td>  0</td><td>⋯  </td><td>  0</td><td>  0</td><td>  0</td><td>  0</td><td>  0</td><td>  0</td><td>0  </td><td>0  </td><td>0  </td><td>0  </td></tr>\n",
       "\t<tr><td>0  </td><td>0  </td><td>0  </td><td>0  </td><td>  0</td><td>  0</td><td>  0</td><td>  0</td><td>  0</td><td>  0</td><td>⋯  </td><td>  0</td><td>  0</td><td>  0</td><td>  0</td><td>  0</td><td>  0</td><td>0  </td><td>0  </td><td>0  </td><td>0  </td></tr>\n",
       "\t<tr><td>0  </td><td>0  </td><td>0  </td><td>0  </td><td>  0</td><td>  0</td><td>  0</td><td>  0</td><td>  0</td><td>  0</td><td>⋯  </td><td>  0</td><td>  0</td><td>  0</td><td>  0</td><td>  0</td><td>  0</td><td>0  </td><td>0  </td><td>0  </td><td>0  </td></tr>\n",
       "\t<tr><td>0  </td><td>0  </td><td>0  </td><td>0  </td><td>  0</td><td>  0</td><td>  0</td><td>  0</td><td>  0</td><td>  0</td><td>⋯  </td><td> 25</td><td>  0</td><td>  0</td><td>  0</td><td>  0</td><td>  0</td><td>0  </td><td>0  </td><td>0  </td><td>0  </td></tr>\n",
       "\t<tr><td>0  </td><td>0  </td><td>0  </td><td>0  </td><td>  0</td><td>  0</td><td>  0</td><td>  0</td><td>  0</td><td>  0</td><td>⋯  </td><td>150</td><td> 27</td><td>  0</td><td>  0</td><td>  0</td><td>  0</td><td>0  </td><td>0  </td><td>0  </td><td>0  </td></tr>\n",
       "\t<tr><td>0  </td><td>0  </td><td>0  </td><td>0  </td><td>  0</td><td>  0</td><td>  0</td><td>  0</td><td>  0</td><td>  0</td><td>⋯  </td><td>253</td><td>187</td><td>  0</td><td>  0</td><td>  0</td><td>  0</td><td>0  </td><td>0  </td><td>0  </td><td>0  </td></tr>\n",
       "\t<tr><td>0  </td><td>0  </td><td>0  </td><td>0  </td><td>  0</td><td>  0</td><td>  0</td><td>  0</td><td>  0</td><td>  0</td><td>⋯  </td><td>253</td><td>249</td><td> 64</td><td>  0</td><td>  0</td><td>  0</td><td>0  </td><td>0  </td><td>0  </td><td>0  </td></tr>\n",
       "\t<tr><td>0  </td><td>0  </td><td>0  </td><td>0  </td><td>  0</td><td>  0</td><td>  0</td><td>  0</td><td>  0</td><td>  0</td><td>⋯  </td><td>253</td><td>207</td><td>  2</td><td>  0</td><td>  0</td><td>  0</td><td>0  </td><td>0  </td><td>0  </td><td>0  </td></tr>\n",
       "\t<tr><td>0  </td><td>0  </td><td>0  </td><td>0  </td><td>  0</td><td>  0</td><td>  0</td><td>  0</td><td>  0</td><td>  0</td><td>⋯  </td><td>250</td><td>182</td><td>  0</td><td>  0</td><td>  0</td><td>  0</td><td>0  </td><td>0  </td><td>0  </td><td>0  </td></tr>\n",
       "\t<tr><td>0  </td><td>0  </td><td>0  </td><td>0  </td><td>  0</td><td>  0</td><td>  0</td><td>  0</td><td>  0</td><td>  0</td><td>⋯  </td><td> 78</td><td>  0</td><td>  0</td><td>  0</td><td>  0</td><td>  0</td><td>0  </td><td>0  </td><td>0  </td><td>0  </td></tr>\n",
       "\t<tr><td>0  </td><td>0  </td><td>0  </td><td>0  </td><td>  0</td><td>  0</td><td>  0</td><td>  0</td><td> 23</td><td> 66</td><td>⋯  </td><td>  0</td><td>  0</td><td>  0</td><td>  0</td><td>  0</td><td>  0</td><td>0  </td><td>0  </td><td>0  </td><td>0  </td></tr>\n",
       "\t<tr><td>0  </td><td>0  </td><td>0  </td><td>0  </td><td>  0</td><td>  0</td><td> 18</td><td>171</td><td>219</td><td>253</td><td>⋯  </td><td>  0</td><td>  0</td><td>  0</td><td>  0</td><td>  0</td><td>  0</td><td>0  </td><td>0  </td><td>0  </td><td>0  </td></tr>\n",
       "\t<tr><td>0  </td><td>0  </td><td>0  </td><td>0  </td><td> 55</td><td>172</td><td>226</td><td>253</td><td>253</td><td>253</td><td>⋯  </td><td>  0</td><td>  0</td><td>  0</td><td>  0</td><td>  0</td><td>  0</td><td>0  </td><td>0  </td><td>0  </td><td>0  </td></tr>\n",
       "\t<tr><td>0  </td><td>0  </td><td>0  </td><td>0  </td><td>136</td><td>253</td><td>253</td><td>253</td><td>212</td><td>135</td><td>⋯  </td><td>  0</td><td>  0</td><td>  0</td><td>  0</td><td>  0</td><td>  0</td><td>0  </td><td>0  </td><td>0  </td><td>0  </td></tr>\n",
       "\t<tr><td>0  </td><td>0  </td><td>0  </td><td>0  </td><td>  0</td><td>  0</td><td>  0</td><td>  0</td><td>  0</td><td>  0</td><td>⋯  </td><td>  0</td><td>  0</td><td>  0</td><td>  0</td><td>  0</td><td>  0</td><td>0  </td><td>0  </td><td>0  </td><td>0  </td></tr>\n",
       "\t<tr><td>0  </td><td>0  </td><td>0  </td><td>0  </td><td>  0</td><td>  0</td><td>  0</td><td>  0</td><td>  0</td><td>  0</td><td>⋯  </td><td>  0</td><td>  0</td><td>  0</td><td>  0</td><td>  0</td><td>  0</td><td>0  </td><td>0  </td><td>0  </td><td>0  </td></tr>\n",
       "\t<tr><td>0  </td><td>0  </td><td>0  </td><td>0  </td><td>  0</td><td>  0</td><td>  0</td><td>  0</td><td>  0</td><td>  0</td><td>⋯  </td><td>  0</td><td>  0</td><td>  0</td><td>  0</td><td>  0</td><td>  0</td><td>0  </td><td>0  </td><td>0  </td><td>0  </td></tr>\n",
       "</tbody>\n",
       "</table>\n"
      ],
      "text/latex": [
       "\\begin{tabular}{llllllllllllllllllllllllllll}\n",
       "\t 0   & 0   & 0   & 0   &   0 &   0 &   0 &   0 &   0 &   0 & ⋯   &   0 &   0 &   0 &   0 &   0 &   0 & 0   & 0   & 0   & 0  \\\\\n",
       "\t 0   & 0   & 0   & 0   &   0 &   0 &   0 &   0 &   0 &   0 & ⋯   &   0 &   0 &   0 &   0 &   0 &   0 & 0   & 0   & 0   & 0  \\\\\n",
       "\t 0   & 0   & 0   & 0   &   0 &   0 &   0 &   0 &   0 &   0 & ⋯   &   0 &   0 &   0 &   0 &   0 &   0 & 0   & 0   & 0   & 0  \\\\\n",
       "\t 0   & 0   & 0   & 0   &   0 &   0 &   0 &   0 &   0 &   0 & ⋯   &   0 &   0 &   0 &   0 &   0 &   0 & 0   & 0   & 0   & 0  \\\\\n",
       "\t 0   & 0   & 0   & 0   &   0 &   0 &   0 &   0 &   0 &   0 & ⋯   &   0 &   0 &   0 &   0 &   0 &   0 & 0   & 0   & 0   & 0  \\\\\n",
       "\t 0   & 0   & 0   & 0   &   0 &   0 &   0 &   0 &   0 &   0 & ⋯   & 175 &  26 & 166 & 255 & 247 & 127 & 0   & 0   & 0   & 0  \\\\\n",
       "\t 0   & 0   & 0   & 0   &   0 &   0 &   0 &   0 &  30 &  36 & ⋯   & 225 & 172 & 253 & 242 & 195 &  64 & 0   & 0   & 0   & 0  \\\\\n",
       "\t 0   & 0   & 0   & 0   &   0 &   0 &   0 &  49 & 238 & 253 & ⋯   &  93 &  82 &  82 &  56 &  39 &   0 & 0   & 0   & 0   & 0  \\\\\n",
       "\t 0   & 0   & 0   & 0   &   0 &   0 &   0 &  18 & 219 & 253 & ⋯   &   0 &   0 &   0 &   0 &   0 &   0 & 0   & 0   & 0   & 0  \\\\\n",
       "\t 0   & 0   & 0   & 0   &   0 &   0 &   0 &   0 &  80 & 156 & ⋯   &   0 &   0 &   0 &   0 &   0 &   0 & 0   & 0   & 0   & 0  \\\\\n",
       "\t 0   & 0   & 0   & 0   &   0 &   0 &   0 &   0 &   0 &  14 & ⋯   &   0 &   0 &   0 &   0 &   0 &   0 & 0   & 0   & 0   & 0  \\\\\n",
       "\t 0   & 0   & 0   & 0   &   0 &   0 &   0 &   0 &   0 &   0 & ⋯   &   0 &   0 &   0 &   0 &   0 &   0 & 0   & 0   & 0   & 0  \\\\\n",
       "\t 0   & 0   & 0   & 0   &   0 &   0 &   0 &   0 &   0 &   0 & ⋯   &   0 &   0 &   0 &   0 &   0 &   0 & 0   & 0   & 0   & 0  \\\\\n",
       "\t 0   & 0   & 0   & 0   &   0 &   0 &   0 &   0 &   0 &   0 & ⋯   &   0 &   0 &   0 &   0 &   0 &   0 & 0   & 0   & 0   & 0  \\\\\n",
       "\t 0   & 0   & 0   & 0   &   0 &   0 &   0 &   0 &   0 &   0 & ⋯   &  25 &   0 &   0 &   0 &   0 &   0 & 0   & 0   & 0   & 0  \\\\\n",
       "\t 0   & 0   & 0   & 0   &   0 &   0 &   0 &   0 &   0 &   0 & ⋯   & 150 &  27 &   0 &   0 &   0 &   0 & 0   & 0   & 0   & 0  \\\\\n",
       "\t 0   & 0   & 0   & 0   &   0 &   0 &   0 &   0 &   0 &   0 & ⋯   & 253 & 187 &   0 &   0 &   0 &   0 & 0   & 0   & 0   & 0  \\\\\n",
       "\t 0   & 0   & 0   & 0   &   0 &   0 &   0 &   0 &   0 &   0 & ⋯   & 253 & 249 &  64 &   0 &   0 &   0 & 0   & 0   & 0   & 0  \\\\\n",
       "\t 0   & 0   & 0   & 0   &   0 &   0 &   0 &   0 &   0 &   0 & ⋯   & 253 & 207 &   2 &   0 &   0 &   0 & 0   & 0   & 0   & 0  \\\\\n",
       "\t 0   & 0   & 0   & 0   &   0 &   0 &   0 &   0 &   0 &   0 & ⋯   & 250 & 182 &   0 &   0 &   0 &   0 & 0   & 0   & 0   & 0  \\\\\n",
       "\t 0   & 0   & 0   & 0   &   0 &   0 &   0 &   0 &   0 &   0 & ⋯   &  78 &   0 &   0 &   0 &   0 &   0 & 0   & 0   & 0   & 0  \\\\\n",
       "\t 0   & 0   & 0   & 0   &   0 &   0 &   0 &   0 &  23 &  66 & ⋯   &   0 &   0 &   0 &   0 &   0 &   0 & 0   & 0   & 0   & 0  \\\\\n",
       "\t 0   & 0   & 0   & 0   &   0 &   0 &  18 & 171 & 219 & 253 & ⋯   &   0 &   0 &   0 &   0 &   0 &   0 & 0   & 0   & 0   & 0  \\\\\n",
       "\t 0   & 0   & 0   & 0   &  55 & 172 & 226 & 253 & 253 & 253 & ⋯   &   0 &   0 &   0 &   0 &   0 &   0 & 0   & 0   & 0   & 0  \\\\\n",
       "\t 0   & 0   & 0   & 0   & 136 & 253 & 253 & 253 & 212 & 135 & ⋯   &   0 &   0 &   0 &   0 &   0 &   0 & 0   & 0   & 0   & 0  \\\\\n",
       "\t 0   & 0   & 0   & 0   &   0 &   0 &   0 &   0 &   0 &   0 & ⋯   &   0 &   0 &   0 &   0 &   0 &   0 & 0   & 0   & 0   & 0  \\\\\n",
       "\t 0   & 0   & 0   & 0   &   0 &   0 &   0 &   0 &   0 &   0 & ⋯   &   0 &   0 &   0 &   0 &   0 &   0 & 0   & 0   & 0   & 0  \\\\\n",
       "\t 0   & 0   & 0   & 0   &   0 &   0 &   0 &   0 &   0 &   0 & ⋯   &   0 &   0 &   0 &   0 &   0 &   0 & 0   & 0   & 0   & 0  \\\\\n",
       "\\end{tabular}\n"
      ],
      "text/markdown": [
       "\n",
       "| 0   | 0   | 0   | 0   |   0 |   0 |   0 |   0 |   0 |   0 | ⋯   |   0 |   0 |   0 |   0 |   0 |   0 | 0   | 0   | 0   | 0   |\n",
       "| 0   | 0   | 0   | 0   |   0 |   0 |   0 |   0 |   0 |   0 | ⋯   |   0 |   0 |   0 |   0 |   0 |   0 | 0   | 0   | 0   | 0   |\n",
       "| 0   | 0   | 0   | 0   |   0 |   0 |   0 |   0 |   0 |   0 | ⋯   |   0 |   0 |   0 |   0 |   0 |   0 | 0   | 0   | 0   | 0   |\n",
       "| 0   | 0   | 0   | 0   |   0 |   0 |   0 |   0 |   0 |   0 | ⋯   |   0 |   0 |   0 |   0 |   0 |   0 | 0   | 0   | 0   | 0   |\n",
       "| 0   | 0   | 0   | 0   |   0 |   0 |   0 |   0 |   0 |   0 | ⋯   |   0 |   0 |   0 |   0 |   0 |   0 | 0   | 0   | 0   | 0   |\n",
       "| 0   | 0   | 0   | 0   |   0 |   0 |   0 |   0 |   0 |   0 | ⋯   | 175 |  26 | 166 | 255 | 247 | 127 | 0   | 0   | 0   | 0   |\n",
       "| 0   | 0   | 0   | 0   |   0 |   0 |   0 |   0 |  30 |  36 | ⋯   | 225 | 172 | 253 | 242 | 195 |  64 | 0   | 0   | 0   | 0   |\n",
       "| 0   | 0   | 0   | 0   |   0 |   0 |   0 |  49 | 238 | 253 | ⋯   |  93 |  82 |  82 |  56 |  39 |   0 | 0   | 0   | 0   | 0   |\n",
       "| 0   | 0   | 0   | 0   |   0 |   0 |   0 |  18 | 219 | 253 | ⋯   |   0 |   0 |   0 |   0 |   0 |   0 | 0   | 0   | 0   | 0   |\n",
       "| 0   | 0   | 0   | 0   |   0 |   0 |   0 |   0 |  80 | 156 | ⋯   |   0 |   0 |   0 |   0 |   0 |   0 | 0   | 0   | 0   | 0   |\n",
       "| 0   | 0   | 0   | 0   |   0 |   0 |   0 |   0 |   0 |  14 | ⋯   |   0 |   0 |   0 |   0 |   0 |   0 | 0   | 0   | 0   | 0   |\n",
       "| 0   | 0   | 0   | 0   |   0 |   0 |   0 |   0 |   0 |   0 | ⋯   |   0 |   0 |   0 |   0 |   0 |   0 | 0   | 0   | 0   | 0   |\n",
       "| 0   | 0   | 0   | 0   |   0 |   0 |   0 |   0 |   0 |   0 | ⋯   |   0 |   0 |   0 |   0 |   0 |   0 | 0   | 0   | 0   | 0   |\n",
       "| 0   | 0   | 0   | 0   |   0 |   0 |   0 |   0 |   0 |   0 | ⋯   |   0 |   0 |   0 |   0 |   0 |   0 | 0   | 0   | 0   | 0   |\n",
       "| 0   | 0   | 0   | 0   |   0 |   0 |   0 |   0 |   0 |   0 | ⋯   |  25 |   0 |   0 |   0 |   0 |   0 | 0   | 0   | 0   | 0   |\n",
       "| 0   | 0   | 0   | 0   |   0 |   0 |   0 |   0 |   0 |   0 | ⋯   | 150 |  27 |   0 |   0 |   0 |   0 | 0   | 0   | 0   | 0   |\n",
       "| 0   | 0   | 0   | 0   |   0 |   0 |   0 |   0 |   0 |   0 | ⋯   | 253 | 187 |   0 |   0 |   0 |   0 | 0   | 0   | 0   | 0   |\n",
       "| 0   | 0   | 0   | 0   |   0 |   0 |   0 |   0 |   0 |   0 | ⋯   | 253 | 249 |  64 |   0 |   0 |   0 | 0   | 0   | 0   | 0   |\n",
       "| 0   | 0   | 0   | 0   |   0 |   0 |   0 |   0 |   0 |   0 | ⋯   | 253 | 207 |   2 |   0 |   0 |   0 | 0   | 0   | 0   | 0   |\n",
       "| 0   | 0   | 0   | 0   |   0 |   0 |   0 |   0 |   0 |   0 | ⋯   | 250 | 182 |   0 |   0 |   0 |   0 | 0   | 0   | 0   | 0   |\n",
       "| 0   | 0   | 0   | 0   |   0 |   0 |   0 |   0 |   0 |   0 | ⋯   |  78 |   0 |   0 |   0 |   0 |   0 | 0   | 0   | 0   | 0   |\n",
       "| 0   | 0   | 0   | 0   |   0 |   0 |   0 |   0 |  23 |  66 | ⋯   |   0 |   0 |   0 |   0 |   0 |   0 | 0   | 0   | 0   | 0   |\n",
       "| 0   | 0   | 0   | 0   |   0 |   0 |  18 | 171 | 219 | 253 | ⋯   |   0 |   0 |   0 |   0 |   0 |   0 | 0   | 0   | 0   | 0   |\n",
       "| 0   | 0   | 0   | 0   |  55 | 172 | 226 | 253 | 253 | 253 | ⋯   |   0 |   0 |   0 |   0 |   0 |   0 | 0   | 0   | 0   | 0   |\n",
       "| 0   | 0   | 0   | 0   | 136 | 253 | 253 | 253 | 212 | 135 | ⋯   |   0 |   0 |   0 |   0 |   0 |   0 | 0   | 0   | 0   | 0   |\n",
       "| 0   | 0   | 0   | 0   |   0 |   0 |   0 |   0 |   0 |   0 | ⋯   |   0 |   0 |   0 |   0 |   0 |   0 | 0   | 0   | 0   | 0   |\n",
       "| 0   | 0   | 0   | 0   |   0 |   0 |   0 |   0 |   0 |   0 | ⋯   |   0 |   0 |   0 |   0 |   0 |   0 | 0   | 0   | 0   | 0   |\n",
       "| 0   | 0   | 0   | 0   |   0 |   0 |   0 |   0 |   0 |   0 | ⋯   |   0 |   0 |   0 |   0 |   0 |   0 | 0   | 0   | 0   | 0   |\n",
       "\n"
      ],
      "text/plain": [
       "      [,1] [,2] [,3] [,4] [,5] [,6] [,7] [,8] [,9] [,10] [,11] [,12] [,13]\n",
       " [1,] 0    0    0    0      0    0    0    0    0    0   ⋯       0     0  \n",
       " [2,] 0    0    0    0      0    0    0    0    0    0   ⋯       0     0  \n",
       " [3,] 0    0    0    0      0    0    0    0    0    0   ⋯       0     0  \n",
       " [4,] 0    0    0    0      0    0    0    0    0    0   ⋯       0     0  \n",
       " [5,] 0    0    0    0      0    0    0    0    0    0   ⋯       0     0  \n",
       " [6,] 0    0    0    0      0    0    0    0    0    0   ⋯     175    26  \n",
       " [7,] 0    0    0    0      0    0    0    0   30   36   ⋯     225   172  \n",
       " [8,] 0    0    0    0      0    0    0   49  238  253   ⋯      93    82  \n",
       " [9,] 0    0    0    0      0    0    0   18  219  253   ⋯       0     0  \n",
       "[10,] 0    0    0    0      0    0    0    0   80  156   ⋯       0     0  \n",
       "[11,] 0    0    0    0      0    0    0    0    0   14   ⋯       0     0  \n",
       "[12,] 0    0    0    0      0    0    0    0    0    0   ⋯       0     0  \n",
       "[13,] 0    0    0    0      0    0    0    0    0    0   ⋯       0     0  \n",
       "[14,] 0    0    0    0      0    0    0    0    0    0   ⋯       0     0  \n",
       "[15,] 0    0    0    0      0    0    0    0    0    0   ⋯      25     0  \n",
       "[16,] 0    0    0    0      0    0    0    0    0    0   ⋯     150    27  \n",
       "[17,] 0    0    0    0      0    0    0    0    0    0   ⋯     253   187  \n",
       "[18,] 0    0    0    0      0    0    0    0    0    0   ⋯     253   249  \n",
       "[19,] 0    0    0    0      0    0    0    0    0    0   ⋯     253   207  \n",
       "[20,] 0    0    0    0      0    0    0    0    0    0   ⋯     250   182  \n",
       "[21,] 0    0    0    0      0    0    0    0    0    0   ⋯      78     0  \n",
       "[22,] 0    0    0    0      0    0    0    0   23   66   ⋯       0     0  \n",
       "[23,] 0    0    0    0      0    0   18  171  219  253   ⋯       0     0  \n",
       "[24,] 0    0    0    0     55  172  226  253  253  253   ⋯       0     0  \n",
       "[25,] 0    0    0    0    136  253  253  253  212  135   ⋯       0     0  \n",
       "[26,] 0    0    0    0      0    0    0    0    0    0   ⋯       0     0  \n",
       "[27,] 0    0    0    0      0    0    0    0    0    0   ⋯       0     0  \n",
       "[28,] 0    0    0    0      0    0    0    0    0    0   ⋯       0     0  \n",
       "      [,14] [,15] [,16] [,17] [,18] [,19] [,20] [,21]\n",
       " [1,]   0     0     0     0   0     0     0     0    \n",
       " [2,]   0     0     0     0   0     0     0     0    \n",
       " [3,]   0     0     0     0   0     0     0     0    \n",
       " [4,]   0     0     0     0   0     0     0     0    \n",
       " [5,]   0     0     0     0   0     0     0     0    \n",
       " [6,] 166   255   247   127   0     0     0     0    \n",
       " [7,] 253   242   195    64   0     0     0     0    \n",
       " [8,]  82    56    39     0   0     0     0     0    \n",
       " [9,]   0     0     0     0   0     0     0     0    \n",
       "[10,]   0     0     0     0   0     0     0     0    \n",
       "[11,]   0     0     0     0   0     0     0     0    \n",
       "[12,]   0     0     0     0   0     0     0     0    \n",
       "[13,]   0     0     0     0   0     0     0     0    \n",
       "[14,]   0     0     0     0   0     0     0     0    \n",
       "[15,]   0     0     0     0   0     0     0     0    \n",
       "[16,]   0     0     0     0   0     0     0     0    \n",
       "[17,]   0     0     0     0   0     0     0     0    \n",
       "[18,]  64     0     0     0   0     0     0     0    \n",
       "[19,]   2     0     0     0   0     0     0     0    \n",
       "[20,]   0     0     0     0   0     0     0     0    \n",
       "[21,]   0     0     0     0   0     0     0     0    \n",
       "[22,]   0     0     0     0   0     0     0     0    \n",
       "[23,]   0     0     0     0   0     0     0     0    \n",
       "[24,]   0     0     0     0   0     0     0     0    \n",
       "[25,]   0     0     0     0   0     0     0     0    \n",
       "[26,]   0     0     0     0   0     0     0     0    \n",
       "[27,]   0     0     0     0   0     0     0     0    \n",
       "[28,]   0     0     0     0   0     0     0     0    "
      ]
     },
     "metadata": {},
     "output_type": "display_data"
    }
   ],
   "source": [
    "x_train[1,,]"
   ]
  },
  {
   "cell_type": "code",
   "execution_count": 5,
   "metadata": {},
   "outputs": [],
   "source": [
    "# normalizing values between 0 and 1\n",
    "x_train = x_train/ 255\n",
    "x_test = x_test / 255\n",
    "\n",
    "x_train <- array_reshape(x_train, c(nrow(x_train), 784))\n",
    "x_test <- array_reshape(x_test, c(nrow(x_test), 784))"
   ]
  },
  {
   "cell_type": "code",
   "execution_count": 1,
   "metadata": {},
   "outputs": [],
   "source": [
    "# building the autoencoder model\n",
    "encoding_dim = 32\n",
    "input_img = layer_input(shape=c(784),name = \"input\")\n",
    "\n",
    "# \"encoded\" is the encoded representation of the input\n",
    "encoded = input_img %>% layer_dense(units = encoding_dim, activation='relu',name = \"encoder\")\n",
    "decoded = encoded %>% layer_dense(units = c(784), activation='sigmoid',name = \"decoder\")\n",
    "# this model maps an input to its reconstruction\n",
    "autoencoder = keras_model(input_img, decoded)"
   ]
  },
  {
   "cell_type": "code",
   "execution_count": 9,
   "metadata": {
    "scrolled": true
   },
   "outputs": [
    {
     "name": "stdout",
     "output_type": "stream",
     "text": [
      "________________________________________________________________________________\n",
      "Layer (type)                        Output Shape                    Param #     \n",
      "================================================================================\n",
      "input (InputLayer)                  (None, 784)                     0           \n",
      "________________________________________________________________________________\n",
      "encoder (Dense)                     (None, 32)                      25120       \n",
      "________________________________________________________________________________\n",
      "decoder (Dense)                     (None, 784)                     25872       \n",
      "================================================================================\n",
      "Total params: 50,992\n",
      "Trainable params: 50,992\n",
      "Non-trainable params: 0\n",
      "________________________________________________________________________________\n"
     ]
    }
   ],
   "source": [
    "# summary of the model\n",
    "summary(autoencoder)"
   ]
  },
  {
   "cell_type": "markdown",
   "metadata": {},
   "source": [
    "4. We then compile and fit our model."
   ]
  },
  {
   "cell_type": "code",
   "execution_count": null,
   "metadata": {},
   "outputs": [],
   "source": [
    "# compiling the model\n",
    "autoencoder %>% compile(optimizer='adadelta', loss='binary_crossentropy')\n",
    "\n",
    "# training the model\n",
    "autoencoder %>% fit(x_train, x_train,\n",
    "                epochs=50,\n",
    "                batch_size=256,\n",
    "                shuffle=TRUE,\n",
    "                validation_data=list(x_test, x_test))"
   ]
  },
  {
   "cell_type": "code",
   "execution_count": 10,
   "metadata": {},
   "outputs": [],
   "source": [
    "# predicting the output of the model on test data\n",
    "predicted <- autoencoder %>% predict(x_test)"
   ]
  },
  {
   "cell_type": "code",
   "execution_count": 25,
   "metadata": {},
   "outputs": [],
   "source": [
    "options(repr.plot.width=10, repr.plot.height=1)"
   ]
  },
  {
   "cell_type": "code",
   "execution_count": 31,
   "metadata": {},
   "outputs": [
    {
     "data": {
      "image/png": "[encoded data removed]",
      "text/plain": [
       "plot without title"
      ]
     },
     "metadata": {},
     "output_type": "display_data"
    }
   ],
   "source": [
    "grid = array_reshape(x_test[20,],dim = c(28,28))\n",
    "for(i in seq(1,5)){\n",
    "    grid = abind(grid,array_reshape(x_test[i,],dim = c(28,28)),along = 2)\n",
    "}\n",
    "\n",
    "grid.raster(grid,interpolate=FALSE)"
   ]
  },
  {
   "cell_type": "code",
   "execution_count": 32,
   "metadata": {},
   "outputs": [
    {
     "data": {
      "image/png": "[encoded data removed]",
      "text/plain": [
       "plot without title"
      ]
     },
     "metadata": {},
     "output_type": "display_data"
    }
   ],
   "source": [
    "grid1 = array_reshape(predicted[20,],dim = c(28,28))\n",
    "for(i in seq(1,5)){\n",
    "    grid1 = abind(grid1,array_reshape(predicted[i,],dim = c(28,28)),along = 2)\n",
    "}\n",
    "\n",
    "grid.raster(grid1, interpolate=FALSE)"
   ]
  },
  {
   "cell_type": "markdown",
   "metadata": {},
   "source": [
    "### There is  more..."
   ]
  },
  {
   "cell_type": "markdown",
   "metadata": {},
   "source": [
    "### Convolutional autoencoder"
   ]
  },
  {
   "cell_type": "code",
   "execution_count": null,
   "metadata": {},
   "outputs": [],
   "source": [
    "x_train = x_train/ 255\n",
    "x_test = x_test / 255\n",
    "\n",
    "x_train = array_reshape(x_train, c(nrow(x_train), 28,28,1))\n",
    "x_test = array_reshape(x_test, c(nrow(x_test), 28,28,1))"
   ]
  },
  {
   "cell_type": "code",
   "execution_count": null,
   "metadata": {},
   "outputs": [],
   "source": [
    "input_img = layer_input(shape=c(28, 28, 1)) "
   ]
  },
  {
   "cell_type": "code",
   "execution_count": null,
   "metadata": {},
   "outputs": [],
   "source": [
    "x = input_img %>% layer_conv_2d(32, c(3, 3), activation='relu', padding='same')\n",
    "x = x %>% layer_max_pooling_2d(c(2, 2), padding='same')\n",
    "x = x %>% layer_conv_2d(18, c(3, 3), activation='relu', padding='same')\n",
    "x = x %>%layer_max_pooling_2d(c(2, 2), padding='same')\n",
    "x = x %>% layer_conv_2d(8, c(3, 3), activation='relu', padding='same')\n",
    "encoded = x %>% layer_max_pooling_2d(c(2, 2), padding='same')"
   ]
  },
  {
   "cell_type": "code",
   "execution_count": null,
   "metadata": {},
   "outputs": [],
   "source": [
    "\n",
    "x = encoded %>% layer_conv_2d(8, c(3, 3), activation='relu', padding='same')\n",
    "x = x %>% layer_upsampling_2d(c(2, 2))\n",
    "x = x %>% layer_conv_2d(8, c(3, 3), activation='relu', padding='same')\n",
    "x = x %>% layer_upsampling_2d(c(2, 2))\n",
    "x = x %>% layer_conv_2d(16, c(3, 3), activation='relu')\n",
    "x = x %>% layer_upsampling_2d(c(2, 2))\n",
    "decoded = x %>% layer_conv_2d(1, c(3, 3), activation='sigmoid', padding='same')\n",
    "\n",
    "autoencoder = keras_model(input_img, decoded)\n",
    "summary(autoencoder)"
   ]
  },
  {
   "cell_type": "code",
   "execution_count": null,
   "metadata": {},
   "outputs": [],
   "source": [
    "autoencoder %>% compile(optimizer='adadelta', loss='binary_crossentropy')"
   ]
  },
  {
   "cell_type": "code",
   "execution_count": null,
   "metadata": {},
   "outputs": [],
   "source": [
    "autoencoder %>% fit(x_train, x_train,\n",
    "                epochs=20,\n",
    "                batch_size=128,\n",
    "                validation_data=list(x_test, x_test))"
   ]
  },
  {
   "cell_type": "code",
   "execution_count": null,
   "metadata": {},
   "outputs": [],
   "source": [
    "save_model_hdf5(autoencoder,\"convolutional_autoencoder.h5\")"
   ]
  },
  {
   "cell_type": "code",
   "execution_count": null,
   "metadata": {},
   "outputs": [],
   "source": [
    "predicted <- autoencoder %>% predict(x_test)"
   ]
  },
  {
   "cell_type": "code",
   "execution_count": null,
   "metadata": {},
   "outputs": [],
   "source": [
    "dim(x_test)"
   ]
  },
  {
   "cell_type": "code",
   "execution_count": null,
   "metadata": {},
   "outputs": [],
   "source": [
    "options(repr.plot.width=10, repr.plot.height=1)"
   ]
  },
  {
   "cell_type": "code",
   "execution_count": null,
   "metadata": {},
   "outputs": [],
   "source": [
    "grid = x_test[20,,,]\n",
    "for(i in seq(1,5)){\n",
    "    grid = abind(grid,x_test[i,,,],along = 2)\n",
    "}\n",
    "\n",
    "grid.raster(grid, interpolate=FALSE)"
   ]
  },
  {
   "cell_type": "code",
   "execution_count": null,
   "metadata": {},
   "outputs": [],
   "source": [
    "grid1 = predicted[20,,,]\n",
    "for(i in seq(1,5)){\n",
    "    grid1 = abind(grid1,predicted[i,,,],along = 2)\n",
    "}\n",
    "\n",
    "grid.raster(grid1, interpolate=FALSE)"
   ]
  }
 ],
 "metadata": {
  "kernelspec": {
   "display_name": "R",
   "language": "R",
   "name": "ir"
  },
  "language_info": {
   "codemirror_mode": "r",
   "file_extension": ".r",
   "mimetype": "text/x-r-source",
   "name": "R",
   "pygments_lexer": "r",
   "version": "3.6.0"
  }
 },
 "nbformat": 4,
 "nbformat_minor": 2
}
