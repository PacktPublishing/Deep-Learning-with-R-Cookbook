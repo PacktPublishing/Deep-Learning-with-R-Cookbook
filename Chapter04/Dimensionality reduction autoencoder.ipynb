{
 "cells": [
  {
   "cell_type": "code",
   "execution_count": 1,
   "metadata": {},
   "outputs": [],
   "source": [
    "# importing libraries\n",
    "library(keras)\n",
    "library(abind)\n",
    "library(grid)"
   ]
  },
  {
   "cell_type": "code",
   "execution_count": 2,
   "metadata": {},
   "outputs": [],
   "source": [
    "# loading data\n",
    "mnist <- dataset_mnist()\n",
    "x_train <- mnist$train$x\n",
    "x_test <- mnist$test$x"
   ]
  },
  {
   "cell_type": "code",
   "execution_count": 3,
   "metadata": {},
   "outputs": [],
   "source": [
    "# transforming RGB values into [0,1] range\n",
    "x_train <- x_train / 255\n",
    "x_test <- x_test / 255"
   ]
  },
  {
   "cell_type": "code",
   "execution_count": 4,
   "metadata": {},
   "outputs": [
    {
     "name": "stdout",
     "output_type": "stream",
     "text": [
      "x_train_shape: 60000 28 28 \n",
      "60000 train samples\n",
      "10000 test samples\n"
     ]
    }
   ],
   "source": [
    "cat('x_train_shape:', dim(x_train), '\\n')\n",
    "cat(nrow(x_train), 'train samples\\n')\n",
    "cat(nrow(x_test), 'test samples\\n')"
   ]
  },
  {
   "cell_type": "code",
   "execution_count": 5,
   "metadata": {},
   "outputs": [],
   "source": [
    "img_rows <- dim(x_train)[2]\n",
    "img_cols <- dim(x_train)[3]"
   ]
  },
  {
   "cell_type": "code",
   "execution_count": 6,
   "metadata": {},
   "outputs": [],
   "source": [
    "# redefining  dimension of train/test inputs\n",
    "x_train <- array_reshape(x_train, c(nrow(x_train), 784))\n",
    "x_test <- array_reshape(x_test, c(nrow(x_test), 784))\n"
   ]
  },
  {
   "cell_type": "code",
   "execution_count": 7,
   "metadata": {},
   "outputs": [
    {
     "name": "stdout",
     "output_type": "stream",
     "text": [
      "x_train_shape: 60000 784 \n",
      "60000 train samples\n",
      "Datatype of training data : matrix \n",
      "10000 test samples\n",
      "Datatype of testing data : matrix \n"
     ]
    }
   ],
   "source": [
    "cat('x_train_shape:', dim(x_train), '\\n')\n",
    "cat(nrow(x_train), 'train samples\\n')\n",
    "cat('Datatype of training data :',class(x_train), '\\n')\n",
    "\n",
    "cat(nrow(x_test), 'test samples\\n')\n",
    "cat('Datatype of testing data :',class(x_test), '\\n')\n"
   ]
  },
  {
   "cell_type": "code",
   "execution_count": 8,
   "metadata": {},
   "outputs": [
    {
     "name": "stdout",
     "output_type": "stream",
     "text": [
      "________________________________________________________________________________\n",
      "Layer (type)                        Output Shape                    Param #     \n",
      "================================================================================\n",
      "input (InputLayer)                  (None, 784)                     0           \n",
      "________________________________________________________________________________\n",
      "encoder_1 (Dense)                   (None, 128)                     100480      \n",
      "________________________________________________________________________________\n",
      "encoder_2 (Dense)                   (None, 64)                      8256        \n",
      "________________________________________________________________________________\n",
      "encoder_3 (Dense)                   (None, 32)                      2080        \n",
      "________________________________________________________________________________\n",
      "decoder_1 (Dense)                   (None, 64)                      2112        \n",
      "________________________________________________________________________________\n",
      "decoder_2 (Dense)                   (None, 128)                     8320        \n",
      "________________________________________________________________________________\n",
      "decoder_3 (Dense)                   (None, 784)                     101136      \n",
      "================================================================================\n",
      "Total params: 222,384\n",
      "Trainable params: 222,384\n",
      "Non-trainable params: 0\n",
      "________________________________________________________________________________\n"
     ]
    }
   ],
   "source": [
    "# building an autoencoder\n",
    "input_img <- layer_input(shape = c(784),name = \"input\")\n",
    "\n",
    "# \"encoded\" is the encoded representation of the input\n",
    "encoded = input_img %>%\n",
    "    layer_dense(128, activation='relu',name = \"encoder_1\") %>%\n",
    "    layer_dense(64, activation='relu',name = \"encoder_2\") %>%\n",
    "    layer_dense(32, activation='relu',name = \"encoder_3\")\n",
    "\n",
    "# \"decoded\" is the reconstruction of the input\n",
    "decoded = encoded %>%\n",
    "    layer_dense(64, activation='relu',name = \"decoder_1\")%>%\n",
    "    layer_dense(128, activation='relu',name = \"decoder_2\")%>%\n",
    "    layer_dense(784,activation = 'sigmoid',name = \"decoder_3\")\n",
    "\n",
    "# this model maps an input to its reconstruction\n",
    "autoencoder = keras_model(input_img, decoded)\n",
    "summary(autoencoder)"
   ]
  },
  {
   "cell_type": "code",
   "execution_count": 9,
   "metadata": {},
   "outputs": [
    {
     "name": "stdout",
     "output_type": "stream",
     "text": [
      "________________________________________________________________________________\n",
      "Layer (type)                        Output Shape                    Param #     \n",
      "================================================================================\n",
      "input (InputLayer)                  (None, 784)                     0           \n",
      "________________________________________________________________________________\n",
      "encoder_1 (Dense)                   (None, 128)                     100480      \n",
      "________________________________________________________________________________\n",
      "encoder_2 (Dense)                   (None, 64)                      8256        \n",
      "________________________________________________________________________________\n",
      "encoder_3 (Dense)                   (None, 32)                      2080        \n",
      "================================================================================\n",
      "Total params: 110,816\n",
      "Trainable params: 110,816\n",
      "Non-trainable params: 0\n",
      "________________________________________________________________________________\n"
     ]
    }
   ],
   "source": [
    "# encoder model that maps an input to its encoded representation\n",
    "encoder = keras_model(input_img, encoded)\n",
    "summary(encoder)"
   ]
  },
  {
   "cell_type": "code",
   "execution_count": 10,
   "metadata": {},
   "outputs": [],
   "source": [
    "# decoder model\n",
    "\n",
    "# input layer for decoder\n",
    "encoded_input = layer_input(shape=c(32),name = \"encoded_input\")\n",
    "\n",
    "# retrieve the layer of the autoencoder model for decoder\n",
    "decoder_layer1 <- get_layer(autoencoder,name= \"decoder_1\")\n",
    "decoder_layer2 <- get_layer(autoencoder,name= \"decoder_2\")\n",
    "decoder_layer3 <- get_layer(autoencoder,name= \"decoder_3\")\n",
    "\n",
    "# create the decoder model from retreived layers\n",
    "decoder =  keras_model(encoded_input, decoder_layer3(decoder_layer2(decoder_layer1(encoded_input))))"
   ]
  },
  {
   "cell_type": "code",
   "execution_count": 11,
   "metadata": {
    "scrolled": true
   },
   "outputs": [
    {
     "name": "stdout",
     "output_type": "stream",
     "text": [
      "________________________________________________________________________________\n",
      "Layer (type)                        Output Shape                    Param #     \n",
      "================================================================================\n",
      "encoded_input (InputLayer)          (None, 32)                      0           \n",
      "________________________________________________________________________________\n",
      "decoder_1 (Dense)                   (None, 64)                      2112        \n",
      "________________________________________________________________________________\n",
      "decoder_2 (Dense)                   (None, 128)                     8320        \n",
      "________________________________________________________________________________\n",
      "decoder_3 (Dense)                   (None, 784)                     101136      \n",
      "================================================================================\n",
      "Total params: 111,568\n",
      "Trainable params: 111,568\n",
      "Non-trainable params: 0\n",
      "________________________________________________________________________________\n"
     ]
    }
   ],
   "source": [
    "summary(decoder)"
   ]
  },
  {
   "cell_type": "code",
   "execution_count": 12,
   "metadata": {},
   "outputs": [],
   "source": [
    "# compiling the model\n",
    "autoencoder %>% compile(optimizer = 'adadelta',loss='binary_crossentropy')\n",
    "\n",
    "# training the model\n",
    "autoencoder %>% fit(x_train, x_train,\n",
    "                epochs=50,\n",
    "                batch_size=256,\n",
    "                shuffle=TRUE,\n",
    "                validation_data=list(x_test, x_test))"
   ]
  },
  {
   "cell_type": "code",
   "execution_count": 13,
   "metadata": {},
   "outputs": [],
   "source": [
    "# encoding the test data images\n",
    "encoded_imgs = encoder %>% predict(x_test)"
   ]
  },
  {
   "cell_type": "code",
   "execution_count": 14,
   "metadata": {},
   "outputs": [],
   "source": [
    "# reconstructing the original input test images from the encoded representation\n",
    "decoded_imgs = decoder %>% predict(encoded_imgs)\n",
    "\n",
    "# calculating reconstruction error\n",
    "reconstruction_error = metric_mean_squared_error(x_test,decoded_imgs)\n",
    "paste(\"reconstruction error: \" ,k_get_value(k_mean(reconstruction_error)))"
   ]
  },
  {
   "cell_type": "code",
   "execution_count": null,
   "metadata": {},
   "outputs": [],
   "source": [
    "encoded_train_imgs = encoder %>% predict(x_train)"
   ]
  },
  {
   "cell_type": "code",
   "execution_count": null,
   "metadata": {},
   "outputs": [],
   "source": [
    "# Building the model\n",
    "model <- keras_model_sequential() \n",
    "model %>% \n",
    "  layer_dense(units = 256, activation = 'relu', input_shape = c(encoded_dim)) %>% \n",
    "  layer_dropout(rate = 0.4) %>% \n",
    "  layer_dense(units = 128, activation = 'relu') %>%\n",
    "  layer_dropout(rate = 0.3) %>%\n",
    "  layer_dense(units = 10, activation = 'softmax')\n",
    "\n",
    "# compiling the model\n",
    "model %>% compile(\n",
    "  loss = 'categorical_crossentropy',\n",
    "  optimizer = optimizer_rmsprop(),\n",
    "  metrics = c('accuracy')\n",
    ")\n"
   ]
  },
  {
   "cell_type": "code",
   "execution_count": null,
   "metadata": {},
   "outputs": [],
   "source": [
    "# extracting class labels\n",
    "y_train <- mnist$train$y\n",
    "y_test <- mnist$test$y\n",
    "\n",
    "# Converting class vector (integers) to binary class matrix.\n",
    "y_train <- to_categorical(y_train, 10)\n",
    "y_test <- to_categorical(y_test, 10)\n",
    "\n",
    "# training the model\n",
    "history <- model %>% fit(\n",
    "  encoded_train_imgs, y_train, \n",
    "  epochs = 30, batch_size = 128, \n",
    "  validation_split = 0.2\n",
    ")"
   ]
  },
  {
   "cell_type": "code",
   "execution_count": null,
   "metadata": {},
   "outputs": [],
   "source": [
    "model %>% evaluate(encoded_imgs, y_test, batch_size = 128)"
   ]
  },
  {
   "cell_type": "code",
   "execution_count": null,
   "metadata": {},
   "outputs": [],
   "source": []
  },
  {
   "cell_type": "code",
   "execution_count": null,
   "metadata": {},
   "outputs": [],
   "source": []
  }
 ],
 "metadata": {
  "kernelspec": {
   "display_name": "R",
   "language": "R",
   "name": "ir"
  },
  "language_info": {
   "codemirror_mode": "r",
   "file_extension": ".r",
   "mimetype": "text/x-r-source",
   "name": "R",
   "pygments_lexer": "r",
   "version": "3.6.1"
  }
 },
 "nbformat": 4,
 "nbformat_minor": 2
}
