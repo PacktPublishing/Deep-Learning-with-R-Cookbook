{
 "cells": [
  {
   "cell_type": "code",
   "execution_count": 2,
   "metadata": {},
   "outputs": [],
   "source": [
    "# importing the required libraries\n",
    "library(keras)\n",
    "library(grid)\n",
    "library(abind)"
   ]
  },
  {
   "cell_type": "code",
   "execution_count": 3,
   "metadata": {},
   "outputs": [],
   "source": [
    "# loading the data\n",
    "data <- dataset_mnist()"
   ]
  },
  {
   "cell_type": "code",
   "execution_count": 4,
   "metadata": {},
   "outputs": [],
   "source": [
    "# loading the training and test partitions of input data\n",
    "x_train <- data$train$x\n",
    "x_test <- data$test$x"
   ]
  },
  {
   "cell_type": "code",
   "execution_count": 5,
   "metadata": {},
   "outputs": [],
   "source": [
    "# normalizing the data with the range of 0 and 1\n",
    "x_train_norm <- x_train/255\n",
    "x_test_norm <- x_test/255"
   ]
  },
  {
   "cell_type": "code",
   "execution_count": 6,
   "metadata": {},
   "outputs": [],
   "source": [
    "x_train_norm <- array_reshape(x_train_norm,dim = c(60000,28,28,1))\n",
    "x_test_norm <- array_reshape(x_test_norm,dim = c(10000,28,28,1))"
   ]
  },
  {
   "cell_type": "code",
   "execution_count": 7,
   "metadata": {},
   "outputs": [
    {
     "data": {
      "text/html": [
       "<ol class=list-inline>\n",
       "\t<li>60000</li>\n",
       "\t<li>28</li>\n",
       "\t<li>28</li>\n",
       "\t<li>1</li>\n",
       "</ol>\n"
      ],
      "text/latex": [
       "\\begin{enumerate*}\n",
       "\\item 60000\n",
       "\\item 28\n",
       "\\item 28\n",
       "\\item 1\n",
       "\\end{enumerate*}\n"
      ],
      "text/markdown": [
       "1. 60000\n",
       "2. 28\n",
       "3. 28\n",
       "4. 1\n",
       "\n",
       "\n"
      ],
      "text/plain": [
       "[1] 60000    28    28     1"
      ]
     },
     "metadata": {},
     "output_type": "display_data"
    },
    {
     "data": {
      "text/html": [
       "<ol class=list-inline>\n",
       "\t<li>10000</li>\n",
       "\t<li>28</li>\n",
       "\t<li>28</li>\n",
       "\t<li>1</li>\n",
       "</ol>\n"
      ],
      "text/latex": [
       "\\begin{enumerate*}\n",
       "\\item 10000\n",
       "\\item 28\n",
       "\\item 28\n",
       "\\item 1\n",
       "\\end{enumerate*}\n"
      ],
      "text/markdown": [
       "1. 10000\n",
       "2. 28\n",
       "3. 28\n",
       "4. 1\n",
       "\n",
       "\n"
      ],
      "text/plain": [
       "[1] 10000    28    28     1"
      ]
     },
     "metadata": {},
     "output_type": "display_data"
    }
   ],
   "source": [
    "# checking dimensions of normalized data\n",
    "dim(x_train_norm)\n",
    "dim(x_test_norm)"
   ]
  },
  {
   "cell_type": "code",
   "execution_count": 9,
   "metadata": {},
   "outputs": [],
   "source": [
    "# visualizing sample image\n",
    "options(repr.plot.width = 0.5,repr.plot.height = 1)"
   ]
  },
  {
   "cell_type": "code",
   "execution_count": 10,
   "metadata": {},
   "outputs": [
    {
     "data": {
      "image/png": "[encoded data removed]",
      "text/plain": [
       "plot without title"
      ]
     },
     "metadata": {},
     "output_type": "display_data"
    }
   ],
   "source": [
    "library(grid)\n",
    "grid.raster(x_train_norm[2,,,])"
   ]
  },
  {
   "cell_type": "code",
   "execution_count": 11,
   "metadata": {},
   "outputs": [
    {
     "data": {
      "text/html": [
       "<ol class=list-inline>\n",
       "\t<li>60000</li>\n",
       "\t<li>28</li>\n",
       "\t<li>28</li>\n",
       "\t<li>1</li>\n",
       "</ol>\n"
      ],
      "text/latex": [
       "\\begin{enumerate*}\n",
       "\\item 60000\n",
       "\\item 28\n",
       "\\item 28\n",
       "\\item 1\n",
       "\\end{enumerate*}\n"
      ],
      "text/markdown": [
       "1. 60000\n",
       "2. 28\n",
       "3. 28\n",
       "4. 1\n",
       "\n",
       "\n"
      ],
      "text/plain": [
       "[1] 60000    28    28     1"
      ]
     },
     "metadata": {},
     "output_type": "display_data"
    },
    {
     "data": {
      "text/html": [
       "<ol class=list-inline>\n",
       "\t<li>10000</li>\n",
       "\t<li>28</li>\n",
       "\t<li>28</li>\n",
       "\t<li>1</li>\n",
       "</ol>\n"
      ],
      "text/latex": [
       "\\begin{enumerate*}\n",
       "\\item 10000\n",
       "\\item 28\n",
       "\\item 28\n",
       "\\item 1\n",
       "\\end{enumerate*}\n"
      ],
      "text/markdown": [
       "1. 10000\n",
       "2. 28\n",
       "3. 28\n",
       "4. 1\n",
       "\n",
       "\n"
      ],
      "text/plain": [
       "[1] 10000    28    28     1"
      ]
     },
     "metadata": {},
     "output_type": "display_data"
    }
   ],
   "source": [
    "# adding a normal random noise centered at 0.5 and std=0.5 to the input data \n",
    "noise_train <- array(data = rnorm(seq(0, 1, by = 0.02),mean = 0.5,sd = 0.5) ,dim = c(n_train,28,28,1))\n",
    "dim(noise_train)\n",
    "noise_test <- array(data = rnorm(seq(0, 1, by = 0.02),mean = 0.5,sd = 0.5) ,dim = c(n_test,28,28,1))\n",
    "dim(noise_test)"
   ]
  },
  {
   "cell_type": "code",
   "execution_count": 12,
   "metadata": {},
   "outputs": [],
   "source": [
    "x_train_norm_noise <- x_train_norm + noise_train\n",
    "x_test_norm_noise <- x_test_norm + noise_test"
   ]
  },
  {
   "cell_type": "code",
   "execution_count": 13,
   "metadata": {},
   "outputs": [],
   "source": [
    "# clipping the corrupted input data(input data + noise) for maintaining the pixel values in the range of 0 and 1\n",
    "x_train_norm_noise[x_train_norm_noise < 0] <- 0 \n",
    "x_train_norm_noise[x_train_norm_noise > 1] <- 1\n",
    "x_test_norm_noise[x_test_norm_noise < 0] <- 0 \n",
    "x_test_norm_noise[x_test_norm_noise > 1] <- 1"
   ]
  },
  {
   "cell_type": "code",
   "execution_count": 14,
   "metadata": {},
   "outputs": [
    {
     "data": {
      "image/png": "[encoded data removed]",
      "text/plain": [
       "plot without title"
      ]
     },
     "metadata": {},
     "output_type": "display_data"
    }
   ],
   "source": [
    "# visualizing a sample image\n",
    "grid.raster(x_train_norm_noise[2,,,])"
   ]
  },
  {
   "cell_type": "code",
   "execution_count": 15,
   "metadata": {},
   "outputs": [],
   "source": [
    "# creating the encoder part\n",
    "\n",
    "# input layer\n",
    "inputs <- layer_input(shape = c(28, 28, 1))\n",
    "x = inputs"
   ]
  },
  {
   "cell_type": "code",
   "execution_count": 16,
   "metadata": {},
   "outputs": [],
   "source": [
    "# configuring the layers for the encoder model\n",
    "x <- x %>%\n",
    "  layer_conv_2d(filter = 32, kernel_size = 3,padding = \"same\", input_shape = c(28, 28, 1)) %>%\n",
    "  layer_activation(\"relu\") %>%\n",
    "  layer_conv_2d(filter = 64, kernel_size = 3) %>%\n",
    "  layer_activation(\"relu\")"
   ]
  },
  {
   "cell_type": "code",
   "execution_count": 17,
   "metadata": {},
   "outputs": [
    {
     "data": {
      "text/html": [
       "<ol>\n",
       "\t<li>NULL</li>\n",
       "\t<li>26</li>\n",
       "\t<li>26</li>\n",
       "\t<li>64</li>\n",
       "</ol>\n"
      ],
      "text/latex": [
       "\\begin{enumerate}\n",
       "\\item NULL\n",
       "\\item 26\n",
       "\\item 26\n",
       "\\item 64\n",
       "\\end{enumerate}\n"
      ],
      "text/markdown": [
       "1. NULL\n",
       "2. 26\n",
       "3. 26\n",
       "4. 64\n",
       "\n",
       "\n"
      ],
      "text/plain": [
       "[[1]]\n",
       "NULL\n",
       "\n",
       "[[2]]\n",
       "[1] 26\n",
       "\n",
       "[[3]]\n",
       "[1] 26\n",
       "\n",
       "[[4]]\n",
       "[1] 64\n"
      ]
     },
     "metadata": {},
     "output_type": "display_data"
    }
   ],
   "source": [
    "# extracting the shape of the output tensor from the encoder network \n",
    "shape = k_int_shape(x)\n",
    "shape"
   ]
  },
  {
   "cell_type": "code",
   "execution_count": 18,
   "metadata": {},
   "outputs": [],
   "source": [
    "# adding a flattened layer and a dense layer at the end of the encoder model\n",
    "x = x %>% layer_flatten()\n",
    "latent = x %>% layer_dense(16,name = \"latent\")"
   ]
  },
  {
   "cell_type": "code",
   "execution_count": 19,
   "metadata": {},
   "outputs": [],
   "source": [
    "# instantiating the encoder model\n",
    "encoder = keras_model(inputs, latent)"
   ]
  },
  {
   "cell_type": "code",
   "execution_count": 20,
   "metadata": {},
   "outputs": [
    {
     "name": "stdout",
     "output_type": "stream",
     "text": [
      "________________________________________________________________________________\n",
      "Layer (type)                        Output Shape                    Param #     \n",
      "================================================================================\n",
      "input_1 (InputLayer)                (None, 28, 28, 1)               0           \n",
      "________________________________________________________________________________\n",
      "conv2d (Conv2D)                     (None, 28, 28, 32)              320         \n",
      "________________________________________________________________________________\n",
      "activation (Activation)             (None, 28, 28, 32)              0           \n",
      "________________________________________________________________________________\n",
      "conv2d_1 (Conv2D)                   (None, 26, 26, 64)              18496       \n",
      "________________________________________________________________________________\n",
      "activation_1 (Activation)           (None, 26, 26, 64)              0           \n",
      "________________________________________________________________________________\n",
      "flatten (Flatten)                   (None, 43264)                   0           \n",
      "________________________________________________________________________________\n",
      "latent (Dense)                      (None, 16)                      692240      \n",
      "================================================================================\n",
      "Total params: 711,056\n",
      "Trainable params: 711,056\n",
      "Non-trainable params: 0\n",
      "________________________________________________________________________________\n"
     ]
    }
   ],
   "source": [
    "# summary of the encoder model\n",
    "summary(encoder)"
   ]
  },
  {
   "cell_type": "code",
   "execution_count": 21,
   "metadata": {},
   "outputs": [],
   "source": [
    "# decoder part of the network; output of encoder is fed as input for the decoder part\n",
    "latent_inputs = layer_input(shape=16, name='decoder_input')\n",
    "\n",
    "x = latent_inputs %>% layer_dense(shape[[2]] * shape[[3]] * shape[[4]]) %>%\n",
    "     layer_reshape(c(shape[[2]],shape[[3]], shape[[4]]))"
   ]
  },
  {
   "cell_type": "code",
   "execution_count": 22,
   "metadata": {},
   "outputs": [],
   "source": [
    "# configuring the layers of the decoder part\n",
    "x <- x %>%\n",
    "  layer_conv_2d_transpose(\n",
    "    filter = 64, kernel_size = 3, padding = \"same\", \n",
    "    input_shape = c(28, 28, 1)\n",
    "  ) %>%\n",
    "  layer_activation(\"relu\") %>%\n",
    "  # Second hidden layer\n",
    "  layer_conv_2d_transpose(filter = 32, kernel_size =3) %>%\n",
    "  layer_activation(\"relu\")\n",
    "\n",
    "\n",
    "x = x %>% layer_conv_2d_transpose(filters=1,\n",
    "                    kernel_size= 3,\n",
    "                    padding='same')\n",
    "\n",
    "\n",
    "outputs = x %>% layer_activation('sigmoid', name='decoder_output')"
   ]
  },
  {
   "cell_type": "code",
   "execution_count": 23,
   "metadata": {},
   "outputs": [
    {
     "name": "stdout",
     "output_type": "stream",
     "text": [
      "________________________________________________________________________________\n",
      "Layer (type)                        Output Shape                    Param #     \n",
      "================================================================================\n",
      "decoder_input (InputLayer)          (None, 16)                      0           \n",
      "________________________________________________________________________________\n",
      "dense (Dense)                       (None, 43264)                   735488      \n",
      "________________________________________________________________________________\n",
      "reshape (Reshape)                   (None, 26, 26, 64)              0           \n",
      "________________________________________________________________________________\n",
      "conv2d_transpose (Conv2DTranspose)  (None, 26, 26, 64)              36928       \n",
      "________________________________________________________________________________\n",
      "activation_2 (Activation)           (None, 26, 26, 64)              0           \n",
      "________________________________________________________________________________\n",
      "conv2d_transpose_1 (Conv2DTranspose (None, 28, 28, 32)              18464       \n",
      "________________________________________________________________________________\n",
      "activation_3 (Activation)           (None, 28, 28, 32)              0           \n",
      "________________________________________________________________________________\n",
      "conv2d_transpose_2 (Conv2DTranspose (None, 28, 28, 1)               289         \n",
      "________________________________________________________________________________\n",
      "decoder_output (Activation)         (None, 28, 28, 1)               0           \n",
      "================================================================================\n",
      "Total params: 791,169\n",
      "Trainable params: 791,169\n",
      "Non-trainable params: 0\n",
      "________________________________________________________________________________\n"
     ]
    }
   ],
   "source": [
    "# instantiating the decoder model and see its summary\n",
    "decoder = keras_model(latent_inputs, outputs)\n",
    "summary(decoder)"
   ]
  },
  {
   "cell_type": "code",
   "execution_count": 24,
   "metadata": {
    "scrolled": true
   },
   "outputs": [
    {
     "name": "stdout",
     "output_type": "stream",
     "text": [
      "________________________________________________________________________________\n",
      "Layer (type)                        Output Shape                    Param #     \n",
      "================================================================================\n",
      "input_1 (InputLayer)                (None, 28, 28, 1)               0           \n",
      "________________________________________________________________________________\n",
      "model (Model)                       (None, 16)                      711056      \n",
      "________________________________________________________________________________\n",
      "model_1 (Model)                     (None, 28, 28, 1)               791169      \n",
      "================================================================================\n",
      "Total params: 1,502,225\n",
      "Trainable params: 1,502,225\n",
      "Non-trainable params: 0\n",
      "________________________________________________________________________________\n"
     ]
    }
   ],
   "source": [
    "# building the autoencoder model\n",
    "\n",
    "autoencoder = keras_model(inputs, decoder(encoder(inputs)))\n",
    "summary(autoencoder)"
   ]
  },
  {
   "cell_type": "code",
   "execution_count": 25,
   "metadata": {},
   "outputs": [],
   "source": [
    "# compiling the autoencoder model\n",
    "autoencoder %>% compile(loss = 'mse',optimizer = 'adam')"
   ]
  },
  {
   "cell_type": "code",
   "execution_count": 26,
   "metadata": {},
   "outputs": [],
   "source": [
    "# training the autoencoder model\n",
    "autoencoder %>% fit(x_train_norm_noise,\n",
    "                    x_train_norm,\n",
    "                    validation_data=list(x_test_norm_noise, x_test_norm),\n",
    "                    epochs=30,batch_size= 128\n",
    "                    )"
   ]
  },
  {
   "cell_type": "code",
   "execution_count": 27,
   "metadata": {},
   "outputs": [],
   "source": [
    "# saving model\n",
    "save_model_hdf5(autoencoder,\"autoencoder_denoising_r_1.h5\")"
   ]
  },
  {
   "cell_type": "code",
   "execution_count": 29,
   "metadata": {},
   "outputs": [],
   "source": [
    "# generating predictions for the test data\n",
    "prediction <- autoencoder %>% predict(x_test_norm_noise)"
   ]
  },
  {
   "cell_type": "code",
   "execution_count": 30,
   "metadata": {},
   "outputs": [],
   "source": [
    "# visualizing the reconstructed inputs after the predictions\n",
    "options(repr.plot.width=10, repr.plot.height=1)"
   ]
  },
  {
   "cell_type": "code",
   "execution_count": 57,
   "metadata": {},
   "outputs": [
    {
     "data": {
      "image/png": "[encoded data removed]",
      "text/plain": [
       "plot without title"
      ]
     },
     "metadata": {},
     "output_type": "display_data"
    }
   ],
   "source": [
    "grid1 = x_test_norm_noise[20,,,]\n",
    "for(i in seq(40,50)){\n",
    "    grid1 = abind(grid1,x_test_norm_noise[i,,,],along = 2)\n",
    "}\n",
    "\n",
    "grid.raster(grid1,interpolate=FALSE)"
   ]
  },
  {
   "cell_type": "code",
   "execution_count": 54,
   "metadata": {},
   "outputs": [
    {
     "data": {
      "image/png": "[encoded data removed]",
      "text/plain": [
       "plot without title"
      ]
     },
     "metadata": {},
     "output_type": "display_data"
    }
   ],
   "source": [
    "grid2 = prediction[2,,,]\n",
    "for(i in seq(40,50)){\n",
    "    grid2 = abind(grid2,prediction[i,,,],along = 2)\n",
    "}\n",
    "\n",
    "grid.raster(grid2,interpolate=FALSE)"
   ]
  }
 ],
 "metadata": {
  "kernelspec": {
   "display_name": "R",
   "language": "R",
   "name": "ir"
  },
  "language_info": {
   "codemirror_mode": "r",
   "file_extension": ".r",
   "mimetype": "text/x-r-source",
   "name": "R",
   "pygments_lexer": "r",
   "version": "3.6.1"
  }
 },
 "nbformat": 4,
 "nbformat_minor": 2
}
