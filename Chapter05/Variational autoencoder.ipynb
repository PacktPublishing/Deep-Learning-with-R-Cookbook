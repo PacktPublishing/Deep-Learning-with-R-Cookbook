{
 "cells": [
  {
   "cell_type": "code",
   "execution_count": 5,
   "metadata": {},
   "outputs": [],
   "source": [
    "# importing the required libraries\n",
    "library(keras)\n",
    "library(abind)\n",
    "library(grid)"
   ]
  },
  {
   "cell_type": "code",
   "execution_count": 6,
   "metadata": {},
   "outputs": [],
   "source": [
    "# loading the data and reshaping it\n",
    "mnist <- dataset_fashion_mnist()\n",
    "x_train <- mnist$train$x/255\n",
    "x_test <- mnist$test$x/255\n",
    "x_train <- array_reshape(x_train, c(nrow(x_train), 784), order = \"F\")\n",
    "x_test <- array_reshape(x_test, c(nrow(x_test), 784), order = \"F\")"
   ]
  },
  {
   "cell_type": "code",
   "execution_count": 7,
   "metadata": {},
   "outputs": [],
   "source": [
    "# defining the network parameters\n",
    "batch_size <- 100L\n",
    "input_dim <- 784L\n",
    "latent_dim <- 2L\n",
    "epochs <- 10"
   ]
  },
  {
   "cell_type": "code",
   "execution_count": 8,
   "metadata": {},
   "outputs": [],
   "source": [
    "# input layer and hidden layer of the encoder part of the VAE\n",
    "input <- layer_input(shape = c(input_dim))\n",
    "x <- input %>% layer_dense(units =  256, activation = \"relu\")"
   ]
  },
  {
   "cell_type": "code",
   "execution_count": 9,
   "metadata": {},
   "outputs": [],
   "source": [
    "# defining dense layers repesenting mean and log of standard deviation of the latent distribution\n",
    "\n",
    "# mean of  latent distribution\n",
    "z_mean <-  x %>% layer_dense(units =  latent_dim,name = \"mean\")\n",
    "\n",
    "# log variance of  latent distribution\n",
    "z_log_sigma <- x %>% layer_dense(units =  latent_dim,name = \"sigma\")"
   ]
  },
  {
   "cell_type": "code",
   "execution_count": 10,
   "metadata": {},
   "outputs": [],
   "source": [
    "# sampling function to sample points from latent space\n",
    "sampling <- function(arg) {\n",
    "    z_mean <- arg[, 1:(latent_dim)]\n",
    "    z_log_var <- arg[, (latent_dim + 1):(2 * latent_dim)]\n",
    "    epsilon <- k_random_normal(shape = list(k_shape(z_mean)[1], latent_dim),\n",
    "                               mean = 0, stddev = 1)\n",
    "    z_mean + k_exp(z_log_sigma) * epsilon\n",
    "}"
   ]
  },
  {
   "cell_type": "code",
   "execution_count": 11,
   "metadata": {},
   "outputs": [],
   "source": [
    "# generating a random point from the latent distributiom\n",
    "z <- layer_concatenate(list(z_mean, z_log_sigma)) %>% layer_lambda(sampling)"
   ]
  },
  {
   "cell_type": "code",
   "execution_count": 12,
   "metadata": {},
   "outputs": [],
   "source": [
    "# hidden layers of the decoder part of VAE\n",
    "x_1 <- layer_dense(units = 256, activation = \"relu\") \n",
    "x_2 <- layer_dense(units = input_dim, activation = \"sigmoid\")\n",
    "\n",
    "# decoder output\n",
    "vae_output <- x_2(x_1(z))"
   ]
  },
  {
   "cell_type": "code",
   "execution_count": 9,
   "metadata": {},
   "outputs": [
    {
     "name": "stdout",
     "output_type": "stream",
     "text": [
      "________________________________________________________________________________\n",
      "Layer (type)              Output Shape      Param #  Connected to               \n",
      "================================================================================\n",
      "input_1 (InputLayer)      (None, 784)       0                                   \n",
      "________________________________________________________________________________\n",
      "dense (Dense)             (None, 256)       200960   input_1[0][0]              \n",
      "________________________________________________________________________________\n",
      "mean (Dense)              (None, 2)         514      dense[0][0]                \n",
      "________________________________________________________________________________\n",
      "sigma (Dense)             (None, 2)         514      dense[0][0]                \n",
      "________________________________________________________________________________\n",
      "concatenate (Concatenate) (None, 4)         0        mean[0][0]                 \n",
      "                                                     sigma[0][0]                \n",
      "________________________________________________________________________________\n",
      "lambda (Lambda)           (None, 2)         0        concatenate[0][0]          \n",
      "________________________________________________________________________________\n",
      "dense_1 (Dense)           (None, 256)       768      lambda[0][0]               \n",
      "________________________________________________________________________________\n",
      "dense_2 (Dense)           (None, 784)       201488   dense_1[0][0]              \n",
      "================================================================================\n",
      "Total params: 404,244\n",
      "Trainable params: 404,244\n",
      "Non-trainable params: 0\n",
      "________________________________________________________________________________\n"
     ]
    }
   ],
   "source": [
    "# building the variational autoencoder model\n",
    "vae <- keras_model(input, vae_output)\n",
    "summary(vae)"
   ]
  },
  {
   "cell_type": "code",
   "execution_count": 10,
   "metadata": {},
   "outputs": [
    {
     "name": "stdout",
     "output_type": "stream",
     "text": [
      "________________________________________________________________________________\n",
      "Layer (type)              Output Shape      Param #  Connected to               \n",
      "================================================================================\n",
      "input_1 (InputLayer)      (None, 784)       0                                   \n",
      "________________________________________________________________________________\n",
      "dense (Dense)             (None, 256)       200960   input_1[0][0]              \n",
      "________________________________________________________________________________\n",
      "mean (Dense)              (None, 2)         514      dense[0][0]                \n",
      "________________________________________________________________________________\n",
      "sigma (Dense)             (None, 2)         514      dense[0][0]                \n",
      "================================================================================\n",
      "Total params: 201,988\n",
      "Trainable params: 201,988\n",
      "Non-trainable params: 0\n",
      "________________________________________________________________________________\n"
     ]
    }
   ],
   "source": [
    "# building separate encoder model that maps inputs to latent space\n",
    "\n",
    "encoder <- keras_model(input, c(z_mean,z_log_sigma))\n",
    "summary(encoder)"
   ]
  },
  {
   "cell_type": "code",
   "execution_count": 13,
   "metadata": {},
   "outputs": [
    {
     "name": "stdout",
     "output_type": "stream",
     "text": [
      "________________________________________________________________________________\n",
      "Layer (type)                        Output Shape                    Param #     \n",
      "================================================================================\n",
      "input_2 (InputLayer)                (None, 2)                       0           \n",
      "________________________________________________________________________________\n",
      "dense_1 (Dense)                     (None, 256)                     768         \n",
      "________________________________________________________________________________\n",
      "dense_2 (Dense)                     (None, 784)                     201488      \n",
      "================================================================================\n",
      "Total params: 202,256\n",
      "Trainable params: 202,256\n",
      "Non-trainable params: 0\n",
      "________________________________________________________________________________\n"
     ]
    }
   ],
   "source": [
    "# building separate decoder model\n",
    "\n",
    "# Decoder input\n",
    "decoder_input <- layer_input(k_int_shape(z)[-1])\n",
    "\n",
    "# Decoder hidden layers\n",
    "decoder_output <- x_2(x_1(decoder_input)) \n",
    "# Decoder\n",
    "decoder <- keras_model(decoder_input,decoder_output)\n",
    "\n",
    "summary(decoder)"
   ]
  },
  {
   "cell_type": "code",
   "execution_count": 48,
   "metadata": {},
   "outputs": [],
   "source": [
    "# defining loss function\n",
    "vae_loss <- function(x, decoded_output){\n",
    "  reconstruction_loss <- (input_dim/1.0)*loss_binary_crossentropy(x, decoded_output)\n",
    "  kl_loss <- -0.5*k_mean(1 + z_log_sigma - k_square(z_mean) - k_exp(z_log_sigma), axis = -1L)\n",
    "  reconstruction_loss + kl_loss\n",
    "}\n"
   ]
  },
  {
   "cell_type": "code",
   "execution_count": 49,
   "metadata": {},
   "outputs": [],
   "source": [
    "# compiling the model\n",
    "vae %>% compile(optimizer = \"rmsprop\", loss = vae_loss)"
   ]
  },
  {
   "cell_type": "code",
   "execution_count": 50,
   "metadata": {},
   "outputs": [],
   "source": [
    "# training the model\n",
    "vae %>% fit(\n",
    "  x_train, x_train, \n",
    "  shuffle = TRUE, \n",
    "  epochs = epochs, \n",
    "  batch_size = batch_size, \n",
    "  validation_data = list(x_test, x_test)\n",
    ")"
   ]
  },
  {
   "cell_type": "code",
   "execution_count": 51,
   "metadata": {
    "scrolled": true
   },
   "outputs": [
    {
     "data": {
      "image/png": "[encoded data removed]",
      "text/plain": [
       "plot without title"
      ]
     },
     "metadata": {},
     "output_type": "display_data"
    }
   ],
   "source": [
    "# generating sample images\n",
    "\n",
    "random_distribution = array(rnorm(n = 20,mean = 0,sd = 4),dim = c(10,2))\n",
    "\n",
    "predicted = array_reshape(predict(decoder,matrix(c(0,0),ncol=2)),dim = c(28,28))\n",
    "\n",
    "for(i in seq(1,nrow(random_distribution))){\n",
    "    one_pred = predict(decoder,matrix(random_distribution[i,],ncol=2))  \n",
    "    predicted = abind(predicted,array_reshape(one_pred,dim = c(28,28)),along = 2)\n",
    "}\n",
    "\n",
    "options(repr.plot.width=10, repr.plot.height=1)\n",
    "\n",
    "grid.raster(predicted,interpolate=FALSE)"
   ]
  }
 ],
 "metadata": {
  "kernelspec": {
   "display_name": "R",
   "language": "R",
   "name": "ir"
  },
  "language_info": {
   "codemirror_mode": "r",
   "file_extension": ".r",
   "mimetype": "text/x-r-source",
   "name": "R",
   "pygments_lexer": "r",
   "version": "3.6.1"
  }
 },
 "nbformat": 4,
 "nbformat_minor": 2
}
