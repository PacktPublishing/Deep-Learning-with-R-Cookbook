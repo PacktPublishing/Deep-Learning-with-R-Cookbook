{
 "cells": [
  {
   "cell_type": "code",
   "execution_count": 1,
   "metadata": {},
   "outputs": [
    {
     "name": "stderr",
     "output_type": "stream",
     "text": [
      "Loading required package: Matrix\n",
      "Loading required package: linprog\n",
      "Loading required package: lpSolve\n"
     ]
    }
   ],
   "source": [
    "# importing the MDPtoolbox library\n",
    "library(MDPtoolbox)"
   ]
  },
  {
   "cell_type": "code",
   "execution_count": 8,
   "metadata": {},
   "outputs": [],
   "source": [
    "# defining the transition probability matrices\n",
    "\n",
    "# Up \n",
    "up=matrix(c( 0.9, 0.1, 0, 0,\n",
    "            0.2, 0.7, 0.1, 0,\n",
    "            0, 0, 0.1, 0.9,\n",
    "            0, 0, 0, 1),\n",
    "          nrow=4,ncol=4,byrow=TRUE)\n",
    "\n",
    "# Down \n",
    "down=matrix(c(0.1, 0, 0, 0.9,\n",
    "              0, 0.8, 0.2, 0,\n",
    "              0, 0.2, 0.8, 0,\n",
    "              0, 0, 0.8, 0.2),\n",
    "            nrow=4,ncol=4,byrow=TRUE)\n",
    "\n",
    "# Left \n",
    "left=matrix(c(1, 0, 0, 0,\n",
    "              0.9, 0.1, 0, 0,\n",
    "              0, 0.8, 0.2, 0,\n",
    "              0, 0, 0, 1),\n",
    "            nrow=4,ncol=4,byrow=TRUE)\n",
    "\n",
    "# Right \n",
    "right=matrix(c(0.1, 0.9, 0, 0,\n",
    "               0.1, 0.2, 0.7, 0,\n",
    "               0, 0, 0.9, 0.1,\n",
    "               0, 0, 0, 1),\n",
    "             nrow=4,ncol=4,byrow=TRUE)"
   ]
  },
  {
   "cell_type": "code",
   "execution_count": 9,
   "metadata": {},
   "outputs": [
    {
     "data": {
      "text/html": [
       "<dl>\n",
       "\t<dt>$up</dt>\n",
       "\t\t<dd><table>\n",
       "<tbody>\n",
       "\t<tr><td>0.9</td><td>0.1</td><td>0.0</td><td>0.0</td></tr>\n",
       "\t<tr><td>0.2</td><td>0.7</td><td>0.1</td><td>0.0</td></tr>\n",
       "\t<tr><td>0.0</td><td>0.0</td><td>0.1</td><td>0.9</td></tr>\n",
       "\t<tr><td>0.0</td><td>0.0</td><td>0.0</td><td>1.0</td></tr>\n",
       "</tbody>\n",
       "</table>\n",
       "</dd>\n",
       "\t<dt>$down</dt>\n",
       "\t\t<dd><table>\n",
       "<tbody>\n",
       "\t<tr><td>0.1</td><td>0.0</td><td>0.0</td><td>0.9</td></tr>\n",
       "\t<tr><td>0.0</td><td>0.8</td><td>0.2</td><td>0.0</td></tr>\n",
       "\t<tr><td>0.0</td><td>0.2</td><td>0.8</td><td>0.0</td></tr>\n",
       "\t<tr><td>0.0</td><td>0.0</td><td>0.8</td><td>0.2</td></tr>\n",
       "</tbody>\n",
       "</table>\n",
       "</dd>\n",
       "\t<dt>$left</dt>\n",
       "\t\t<dd><table>\n",
       "<tbody>\n",
       "\t<tr><td>1.0</td><td>0.0</td><td>0.0</td><td>0  </td></tr>\n",
       "\t<tr><td>0.9</td><td>0.1</td><td>0.0</td><td>0  </td></tr>\n",
       "\t<tr><td>0.0</td><td>0.8</td><td>0.2</td><td>0  </td></tr>\n",
       "\t<tr><td>0.0</td><td>0.0</td><td>0.0</td><td>1  </td></tr>\n",
       "</tbody>\n",
       "</table>\n",
       "</dd>\n",
       "\t<dt>$right</dt>\n",
       "\t\t<dd><table>\n",
       "<tbody>\n",
       "\t<tr><td>0.1</td><td>0.9</td><td>0.0</td><td>0.0</td></tr>\n",
       "\t<tr><td>0.1</td><td>0.2</td><td>0.7</td><td>0.0</td></tr>\n",
       "\t<tr><td>0.0</td><td>0.0</td><td>0.9</td><td>0.1</td></tr>\n",
       "\t<tr><td>0.0</td><td>0.0</td><td>0.0</td><td>1.0</td></tr>\n",
       "</tbody>\n",
       "</table>\n",
       "</dd>\n",
       "</dl>\n"
      ],
      "text/latex": [
       "\\begin{description}\n",
       "\\item[\\$up] \\begin{tabular}{llll}\n",
       "\t 0.9 & 0.1 & 0.0 & 0.0\\\\\n",
       "\t 0.2 & 0.7 & 0.1 & 0.0\\\\\n",
       "\t 0.0 & 0.0 & 0.1 & 0.9\\\\\n",
       "\t 0.0 & 0.0 & 0.0 & 1.0\\\\\n",
       "\\end{tabular}\n",
       "\n",
       "\\item[\\$down] \\begin{tabular}{llll}\n",
       "\t 0.1 & 0.0 & 0.0 & 0.9\\\\\n",
       "\t 0.0 & 0.8 & 0.2 & 0.0\\\\\n",
       "\t 0.0 & 0.2 & 0.8 & 0.0\\\\\n",
       "\t 0.0 & 0.0 & 0.8 & 0.2\\\\\n",
       "\\end{tabular}\n",
       "\n",
       "\\item[\\$left] \\begin{tabular}{llll}\n",
       "\t 1.0 & 0.0 & 0.0 & 0  \\\\\n",
       "\t 0.9 & 0.1 & 0.0 & 0  \\\\\n",
       "\t 0.0 & 0.8 & 0.2 & 0  \\\\\n",
       "\t 0.0 & 0.0 & 0.0 & 1  \\\\\n",
       "\\end{tabular}\n",
       "\n",
       "\\item[\\$right] \\begin{tabular}{llll}\n",
       "\t 0.1 & 0.9 & 0.0 & 0.0\\\\\n",
       "\t 0.1 & 0.2 & 0.7 & 0.0\\\\\n",
       "\t 0.0 & 0.0 & 0.9 & 0.1\\\\\n",
       "\t 0.0 & 0.0 & 0.0 & 1.0\\\\\n",
       "\\end{tabular}\n",
       "\n",
       "\\end{description}\n"
      ],
      "text/markdown": [
       "$up\n",
       ":   \n",
       "| 0.9 | 0.1 | 0.0 | 0.0 |\n",
       "| 0.2 | 0.7 | 0.1 | 0.0 |\n",
       "| 0.0 | 0.0 | 0.1 | 0.9 |\n",
       "| 0.0 | 0.0 | 0.0 | 1.0 |\n",
       "\n",
       "\n",
       "$down\n",
       ":   \n",
       "| 0.1 | 0.0 | 0.0 | 0.9 |\n",
       "| 0.0 | 0.8 | 0.2 | 0.0 |\n",
       "| 0.0 | 0.2 | 0.8 | 0.0 |\n",
       "| 0.0 | 0.0 | 0.8 | 0.2 |\n",
       "\n",
       "\n",
       "$left\n",
       ":   \n",
       "| 1.0 | 0.0 | 0.0 | 0   |\n",
       "| 0.9 | 0.1 | 0.0 | 0   |\n",
       "| 0.0 | 0.8 | 0.2 | 0   |\n",
       "| 0.0 | 0.0 | 0.0 | 1   |\n",
       "\n",
       "\n",
       "$right\n",
       ":   \n",
       "| 0.1 | 0.9 | 0.0 | 0.0 |\n",
       "| 0.1 | 0.2 | 0.7 | 0.0 |\n",
       "| 0.0 | 0.0 | 0.9 | 0.1 |\n",
       "| 0.0 | 0.0 | 0.0 | 1.0 |\n",
       "\n",
       "\n",
       "\n",
       "\n"
      ],
      "text/plain": [
       "$up\n",
       "     [,1] [,2] [,3] [,4]\n",
       "[1,]  0.9  0.1  0.0  0.0\n",
       "[2,]  0.2  0.7  0.1  0.0\n",
       "[3,]  0.0  0.0  0.1  0.9\n",
       "[4,]  0.0  0.0  0.0  1.0\n",
       "\n",
       "$down\n",
       "     [,1] [,2] [,3] [,4]\n",
       "[1,]  0.1  0.0  0.0  0.9\n",
       "[2,]  0.0  0.8  0.2  0.0\n",
       "[3,]  0.0  0.2  0.8  0.0\n",
       "[4,]  0.0  0.0  0.8  0.2\n",
       "\n",
       "$left\n",
       "     [,1] [,2] [,3] [,4]\n",
       "[1,]  1.0  0.0  0.0    0\n",
       "[2,]  0.9  0.1  0.0    0\n",
       "[3,]  0.0  0.8  0.2    0\n",
       "[4,]  0.0  0.0  0.0    1\n",
       "\n",
       "$right\n",
       "     [,1] [,2] [,3] [,4]\n",
       "[1,]  0.1  0.9  0.0  0.0\n",
       "[2,]  0.1  0.2  0.7  0.0\n",
       "[3,]  0.0  0.0  0.9  0.1\n",
       "[4,]  0.0  0.0  0.0  1.0\n"
      ]
     },
     "metadata": {},
     "output_type": "display_data"
    }
   ],
   "source": [
    "# putting all the actions in one single matrix\n",
    "actions = list(up=up, down=down, left=left, right=right)\n",
    "actions"
   ]
  },
  {
   "cell_type": "code",
   "execution_count": 11,
   "metadata": {},
   "outputs": [
    {
     "data": {
      "text/html": [
       "<table>\n",
       "<tbody>\n",
       "\t<tr><td> -1</td><td> -1</td><td> -1</td><td> -1</td></tr>\n",
       "\t<tr><td> -1</td><td> -1</td><td> -1</td><td> -1</td></tr>\n",
       "\t<tr><td> -1</td><td> -1</td><td> -1</td><td> -1</td></tr>\n",
       "\t<tr><td>100</td><td>100</td><td>100</td><td>100</td></tr>\n",
       "</tbody>\n",
       "</table>\n"
      ],
      "text/latex": [
       "\\begin{tabular}{llll}\n",
       "\t  -1 &  -1 &  -1 &  -1\\\\\n",
       "\t  -1 &  -1 &  -1 &  -1\\\\\n",
       "\t  -1 &  -1 &  -1 &  -1\\\\\n",
       "\t 100 & 100 & 100 & 100\\\\\n",
       "\\end{tabular}\n"
      ],
      "text/markdown": [
       "\n",
       "|  -1 |  -1 |  -1 |  -1 |\n",
       "|  -1 |  -1 |  -1 |  -1 |\n",
       "|  -1 |  -1 |  -1 |  -1 |\n",
       "| 100 | 100 | 100 | 100 |\n",
       "\n"
      ],
      "text/plain": [
       "     [,1] [,2] [,3] [,4]\n",
       "[1,]  -1   -1   -1   -1 \n",
       "[2,]  -1   -1   -1   -1 \n",
       "[3,]  -1   -1   -1   -1 \n",
       "[4,] 100  100  100  100 "
      ]
     },
     "metadata": {},
     "output_type": "display_data"
    }
   ],
   "source": [
    "# defining the rewards and penalties\n",
    "rewards=matrix(c( -1, -1, -1, -1,\n",
    "                 -1, -1, -1, -1,\n",
    "                 -1, -1, -1, -1,\n",
    "                 100, 100, 100, 100),\n",
    "               nrow=4,ncol=4,byrow=TRUE)\n",
    "rewards"
   ]
  },
  {
   "cell_type": "code",
   "execution_count": 12,
   "metadata": {},
   "outputs": [
    {
     "data": {
      "text/plain": [
       "$V\n",
       "[1]  21.938776   3.009163  21.938776 125.000000\n",
       "\n",
       "$policy\n",
       "[1] 2 3 1 1\n",
       "\n",
       "$iter\n",
       "[1] 3\n",
       "\n",
       "$time\n",
       "Time difference of 0.1538157 secs\n"
      ]
     },
     "metadata": {},
     "output_type": "display_data"
    }
   ],
   "source": [
    "# solving the problem\n",
    "solved_MDP=mdp_policy_iteration(P=actions, R=rewards, discount = 0.2)\n",
    "solved_MDP"
   ]
  },
  {
   "cell_type": "code",
   "execution_count": 13,
   "metadata": {},
   "outputs": [
    {
     "data": {
      "text/html": [
       "<ol class=list-inline>\n",
       "\t<li>2</li>\n",
       "\t<li>3</li>\n",
       "\t<li>1</li>\n",
       "\t<li>1</li>\n",
       "</ol>\n"
      ],
      "text/latex": [
       "\\begin{enumerate*}\n",
       "\\item 2\n",
       "\\item 3\n",
       "\\item 1\n",
       "\\item 1\n",
       "\\end{enumerate*}\n"
      ],
      "text/markdown": [
       "1. 2\n",
       "2. 3\n",
       "3. 1\n",
       "4. 1\n",
       "\n",
       "\n"
      ],
      "text/plain": [
       "[1] 2 3 1 1"
      ]
     },
     "metadata": {},
     "output_type": "display_data"
    },
    {
     "data": {
      "text/html": [
       "<ol class=list-inline>\n",
       "\t<li>'down'</li>\n",
       "\t<li>'left'</li>\n",
       "\t<li>'up'</li>\n",
       "\t<li>'up'</li>\n",
       "</ol>\n"
      ],
      "text/latex": [
       "\\begin{enumerate*}\n",
       "\\item 'down'\n",
       "\\item 'left'\n",
       "\\item 'up'\n",
       "\\item 'up'\n",
       "\\end{enumerate*}\n"
      ],
      "text/markdown": [
       "1. 'down'\n",
       "2. 'left'\n",
       "3. 'up'\n",
       "4. 'up'\n",
       "\n",
       "\n"
      ],
      "text/plain": [
       "[1] \"down\" \"left\" \"up\"   \"up\"  "
      ]
     },
     "metadata": {},
     "output_type": "display_data"
    }
   ],
   "source": [
    "# looking at the policy given by policy iteration algorithm\n",
    "solved_MDP$policy \n",
    "names(actions)[solved_MDP$policy] "
   ]
  },
  {
   "cell_type": "code",
   "execution_count": 14,
   "metadata": {},
   "outputs": [
    {
     "data": {
      "text/html": [
       "<ol class=list-inline>\n",
       "\t<li>21.9387755102041</li>\n",
       "\t<li>3.009162848813</li>\n",
       "\t<li>21.9387755102041</li>\n",
       "\t<li>125</li>\n",
       "</ol>\n"
      ],
      "text/latex": [
       "\\begin{enumerate*}\n",
       "\\item 21.9387755102041\n",
       "\\item 3.009162848813\n",
       "\\item 21.9387755102041\n",
       "\\item 125\n",
       "\\end{enumerate*}\n"
      ],
      "text/markdown": [
       "1. 21.9387755102041\n",
       "2. 3.009162848813\n",
       "3. 21.9387755102041\n",
       "4. 125\n",
       "\n",
       "\n"
      ],
      "text/plain": [
       "[1]  21.938776   3.009163  21.938776 125.000000"
      ]
     },
     "metadata": {},
     "output_type": "display_data"
    }
   ],
   "source": [
    "# looking at the values at each step\n",
    "solved_MDP$V "
   ]
  }
 ],
 "metadata": {
  "kernelspec": {
   "display_name": "R",
   "language": "R",
   "name": "ir"
  },
  "language_info": {
   "codemirror_mode": "r",
   "file_extension": ".r",
   "mimetype": "text/x-r-source",
   "name": "R",
   "pygments_lexer": "r",
   "version": "3.6.0"
  }
 },
 "nbformat": 4,
 "nbformat_minor": 2
}
