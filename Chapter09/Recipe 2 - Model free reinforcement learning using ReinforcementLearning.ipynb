{
 "cells": [
  {
   "cell_type": "code",
   "execution_count": 11,
   "metadata": {},
   "outputs": [],
   "source": [
    "# importing the ReinforcementLearning package\n",
    "library(ReinforcementLearning)"
   ]
  },
  {
   "cell_type": "code",
   "execution_count": 8,
   "metadata": {
    "scrolled": true
   },
   "outputs": [
    {
     "name": "stdout",
     "output_type": "stream",
     "text": [
      "The states are: 1 2 3 4\n",
      "The actions are: up down left right"
     ]
    }
   ],
   "source": [
    "# defining the states and set of actions\n",
    "states <- c(\"1\", \"2\", \"3\", \"4\")\n",
    "actions <- c(\"up\", \"down\", \"left\", \"right\")\n",
    "\n",
    "cat(\"The states are:\",states)\n",
    "cat('\\n')\n",
    "cat(\"The actions are:\",actions)"
   ]
  },
  {
   "cell_type": "code",
   "execution_count": 9,
   "metadata": {},
   "outputs": [
    {
     "name": "stdout",
     "output_type": "stream",
     "text": [
      "function(state, action) {\n",
      "  next_state <- state\n",
      "  if (state == state(\"1\") && action == \"down\") next_state <- state(\"4\")\n",
      "  if (state == state(\"1\") && action == \"right\") next_state <- state(\"2\")\n",
      "  if (state == state(\"2\") && action == \"left\") next_state <- state(\"1\")\n",
      "  if (state == state(\"2\") && action == \"right\") next_state <- state(\"3\")\n",
      "  if (state == state(\"3\") && action == \"left\") next_state <- state(\"2\")\n",
      "  if (state == state(\"3\") && action == \"up\") next_state <- state(\"4\")\n",
      "  if (next_state == state(\"4\") && state != state(\"4\")) {\n",
      "    reward <- 100\n",
      "  } else {\n",
      "    reward <- -1\n",
      "  }\n",
      "\n",
      "  out <- list(\"NextState\" = next_state, \"Reward\" = reward)\n",
      "  return(out)\n",
      "}\n"
     ]
    }
   ],
   "source": [
    "# function to create a customized environment for our example\n",
    "gridExampleEnvironment <- function(state, action) {\n",
    "  next_state <- state\n",
    "  if (state == state(\"1\") && action == \"down\") next_state <- state(\"4\")\n",
    "  if (state == state(\"1\") && action == \"right\") next_state <- state(\"2\")\n",
    "  if (state == state(\"2\") && action == \"left\") next_state <- state(\"1\")\n",
    "  if (state == state(\"2\") && action == \"right\") next_state <- state(\"3\")\n",
    "  if (state == state(\"3\") && action == \"left\") next_state <- state(\"2\")\n",
    "  if (state == state(\"3\") && action == \"up\") next_state <- state(\"4\")\n",
    "  if (next_state == state(\"4\") && state != state(\"4\")) {\n",
    "    reward <- 100\n",
    "  } else {\n",
    "    reward <- -1\n",
    "  }\n",
    "\n",
    "  out <- list(\"NextState\" = next_state, \"Reward\" = reward)\n",
    "  return(out)\n",
    "}\n",
    "\n",
    "\n",
    "print(gridExampleEnvironment)"
   ]
  },
  {
   "cell_type": "code",
   "execution_count": 12,
   "metadata": {},
   "outputs": [
    {
     "data": {
      "text/html": [
       "<table>\n",
       "<thead><tr><th scope=col>State</th><th scope=col>Action</th><th scope=col>Reward</th><th scope=col>NextState</th></tr></thead>\n",
       "<tbody>\n",
       "\t<tr><td>2    </td><td>up   </td><td>-1   </td><td>2    </td></tr>\n",
       "\t<tr><td>4    </td><td>right</td><td>-1   </td><td>4    </td></tr>\n",
       "\t<tr><td>3    </td><td>left </td><td>-1   </td><td>2    </td></tr>\n",
       "\t<tr><td>4    </td><td>up   </td><td>-1   </td><td>4    </td></tr>\n",
       "\t<tr><td>4    </td><td>left </td><td>-1   </td><td>4    </td></tr>\n",
       "\t<tr><td>1    </td><td>up   </td><td>-1   </td><td>1    </td></tr>\n",
       "</tbody>\n",
       "</table>\n"
      ],
      "text/latex": [
       "\\begin{tabular}{r|llll}\n",
       " State & Action & Reward & NextState\\\\\n",
       "\\hline\n",
       "\t 2     & up    & -1    & 2    \\\\\n",
       "\t 4     & right & -1    & 4    \\\\\n",
       "\t 3     & left  & -1    & 2    \\\\\n",
       "\t 4     & up    & -1    & 4    \\\\\n",
       "\t 4     & left  & -1    & 4    \\\\\n",
       "\t 1     & up    & -1    & 1    \\\\\n",
       "\\end{tabular}\n"
      ],
      "text/markdown": [
       "\n",
       "| State | Action | Reward | NextState |\n",
       "|---|---|---|---|\n",
       "| 2     | up    | -1    | 2     |\n",
       "| 4     | right | -1    | 4     |\n",
       "| 3     | left  | -1    | 2     |\n",
       "| 4     | up    | -1    | 4     |\n",
       "| 4     | left  | -1    | 4     |\n",
       "| 1     | up    | -1    | 1     |\n",
       "\n"
      ],
      "text/plain": [
       "  State Action Reward NextState\n",
       "1 2     up     -1     2        \n",
       "2 4     right  -1     4        \n",
       "3 3     left   -1     2        \n",
       "4 4     up     -1     4        \n",
       "5 4     left   -1     4        \n",
       "6 1     up     -1     1        "
      ]
     },
     "metadata": {},
     "output_type": "display_data"
    }
   ],
   "source": [
    "# generating sample experience data in the form of state transition tuples\n",
    "\n",
    "# Let us generate 1000 iterations\n",
    "sequences <- sampleExperience(N = 1000, env = gridExampleEnvironment, states = states, actions = actions)\n",
    "head(sequences)"
   ]
  },
  {
   "cell_type": "code",
   "execution_count": 13,
   "metadata": {
    "scrolled": true
   },
   "outputs": [
    {
     "name": "stdout",
     "output_type": "stream",
     "text": [
      "State-Action function Q\n",
      "        right         up       down       left\n",
      "X1 -0.1346275  8.8664569 99.7125910  8.8115487\n",
      "X2  8.8556876 -0.1296954 -0.1346798  8.7847591\n",
      "X3  8.9162933 99.7623845  8.9042606 -0.1348055\n",
      "X4 -1.1064408 -1.1080549 -1.0974611 -1.1062077\n",
      "\n",
      "Policy\n",
      "     X1      X2      X3      X4 \n",
      " \"down\" \"right\"    \"up\"  \"down\" \n",
      "\n",
      "Reward (last iteration)\n",
      "[1] 11423\n"
     ]
    }
   ],
   "source": [
    "# solving the problem \n",
    "solver_rl <- ReinforcementLearning(sequences, s = \"State\", a = \"Action\", r = \"Reward\", s_new = \"NextState\")\n",
    "print(solver_rl)"
   ]
  }
 ],
 "metadata": {
  "kernelspec": {
   "display_name": "R",
   "language": "R",
   "name": "ir"
  },
  "language_info": {
   "codemirror_mode": "r",
   "file_extension": ".r",
   "mimetype": "text/x-r-source",
   "name": "R",
   "pygments_lexer": "r",
   "version": "3.6.0"
  }
 },
 "nbformat": 4,
 "nbformat_minor": 2
}
